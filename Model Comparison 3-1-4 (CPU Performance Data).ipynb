{
 "cells": [
  {
   "cell_type": "code",
   "execution_count": 122,
   "metadata": {},
   "outputs": [],
   "source": [
    "import numpy as np\n",
    "import pandas as pd\n",
    "import matplotlib.pyplot as plt\n",
    "import scipy\n",
    "from sklearn import preprocessing, cross_validation, neighbors, linear_model, feature_selection\n",
    "from sklearn.decomposition import PCA\n",
    "from sklearn.cross_validation import train_test_split\n",
    "from sklearn.linear_model import LinearRegression\n",
    "from sklearn.metrics import roc_auc_score, mean_squared_error, r2_score\n",
    "from itertools import combinations\n",
    "from sklearn.preprocessing import PolynomialFeatures\n",
    "from sklearn.model_selection import cross_val_score\n",
    "\n",
    "%matplotlib inline\n",
    "pd.options.display.float_format = '{:.3f}'.format\n",
    "\n",
    "# Suppress annoying harmless error.\n",
    "import warnings\n",
    "warnings.filterwarnings(action=\"ignore\", module=\"scipy\", message=\"^internal gelsd\")"
   ]
  },
  {
   "cell_type": "code",
   "execution_count": 123,
   "metadata": {},
   "outputs": [
    {
     "data": {
      "text/html": [
       "<div>\n",
       "<style scoped>\n",
       "    .dataframe tbody tr th:only-of-type {\n",
       "        vertical-align: middle;\n",
       "    }\n",
       "\n",
       "    .dataframe tbody tr th {\n",
       "        vertical-align: top;\n",
       "    }\n",
       "\n",
       "    .dataframe thead th {\n",
       "        text-align: right;\n",
       "    }\n",
       "</style>\n",
       "<table border=\"1\" class=\"dataframe\">\n",
       "  <thead>\n",
       "    <tr style=\"text-align: right;\">\n",
       "      <th></th>\n",
       "      <th>vendor</th>\n",
       "      <th>model</th>\n",
       "      <th>myct</th>\n",
       "      <th>mmin</th>\n",
       "      <th>mmax</th>\n",
       "      <th>cach</th>\n",
       "      <th>chmin</th>\n",
       "      <th>chmax</th>\n",
       "      <th>prp</th>\n",
       "      <th>erp</th>\n",
       "    </tr>\n",
       "  </thead>\n",
       "  <tbody>\n",
       "    <tr>\n",
       "      <th>0</th>\n",
       "      <td>amdahl</td>\n",
       "      <td>470v/7</td>\n",
       "      <td>29</td>\n",
       "      <td>8000</td>\n",
       "      <td>32000</td>\n",
       "      <td>32</td>\n",
       "      <td>8</td>\n",
       "      <td>32</td>\n",
       "      <td>269</td>\n",
       "      <td>253</td>\n",
       "    </tr>\n",
       "    <tr>\n",
       "      <th>1</th>\n",
       "      <td>amdahl</td>\n",
       "      <td>470v/7a</td>\n",
       "      <td>29</td>\n",
       "      <td>8000</td>\n",
       "      <td>32000</td>\n",
       "      <td>32</td>\n",
       "      <td>8</td>\n",
       "      <td>32</td>\n",
       "      <td>220</td>\n",
       "      <td>253</td>\n",
       "    </tr>\n",
       "    <tr>\n",
       "      <th>2</th>\n",
       "      <td>amdahl</td>\n",
       "      <td>470v/7b</td>\n",
       "      <td>29</td>\n",
       "      <td>8000</td>\n",
       "      <td>32000</td>\n",
       "      <td>32</td>\n",
       "      <td>8</td>\n",
       "      <td>32</td>\n",
       "      <td>172</td>\n",
       "      <td>253</td>\n",
       "    </tr>\n",
       "    <tr>\n",
       "      <th>3</th>\n",
       "      <td>amdahl</td>\n",
       "      <td>470v/7c</td>\n",
       "      <td>29</td>\n",
       "      <td>8000</td>\n",
       "      <td>16000</td>\n",
       "      <td>32</td>\n",
       "      <td>8</td>\n",
       "      <td>16</td>\n",
       "      <td>132</td>\n",
       "      <td>132</td>\n",
       "    </tr>\n",
       "    <tr>\n",
       "      <th>4</th>\n",
       "      <td>amdahl</td>\n",
       "      <td>470v/b</td>\n",
       "      <td>26</td>\n",
       "      <td>8000</td>\n",
       "      <td>32000</td>\n",
       "      <td>64</td>\n",
       "      <td>8</td>\n",
       "      <td>32</td>\n",
       "      <td>318</td>\n",
       "      <td>290</td>\n",
       "    </tr>\n",
       "  </tbody>\n",
       "</table>\n",
       "</div>"
      ],
      "text/plain": [
       "   vendor    model  myct  mmin   mmax  cach  chmin  chmax  prp  erp\n",
       "0  amdahl   470v/7    29  8000  32000    32      8     32  269  253\n",
       "1  amdahl  470v/7a    29  8000  32000    32      8     32  220  253\n",
       "2  amdahl  470v/7b    29  8000  32000    32      8     32  172  253\n",
       "3  amdahl  470v/7c    29  8000  16000    32      8     16  132  132\n",
       "4  amdahl   470v/b    26  8000  32000    64      8     32  318  290"
      ]
     },
     "execution_count": 123,
     "metadata": {},
     "output_type": "execute_result"
    }
   ],
   "source": [
    "df = pd.read_csv('machine.data.txt',\n",
    "                header=0,\n",
    "                names = ['vendor', 'model', 'myct', 'mmin', 'mmax', 'cach', 'chmin', 'chmax', 'prp', 'erp'])\n",
    "df.head()"
   ]
  },
  {
   "cell_type": "code",
   "execution_count": 124,
   "metadata": {},
   "outputs": [],
   "source": [
    "df.drop(['vendor', 'model'], 1, inplace=True)"
   ]
  },
  {
   "cell_type": "code",
   "execution_count": 125,
   "metadata": {},
   "outputs": [],
   "source": [
    "X = np.array(df.drop(['erp'], 1))\n",
    "y = np.array(df['erp'])"
   ]
  },
  {
   "cell_type": "code",
   "execution_count": 126,
   "metadata": {},
   "outputs": [
    {
     "name": "stdout",
     "output_type": "stream",
     "text": [
      "0.19047619047619047\n"
     ]
    }
   ],
   "source": [
    "X_train, X_test, y_train, y_test = cross_validation.train_test_split(X, y,test_size=0.2)\n",
    "clf = neighbors.KNeighborsClassifier()\n",
    "clf.fit(X_train, y_train)\n",
    "accuracy = clf.score(X_test, y_test)\n",
    "print(accuracy)"
   ]
  },
  {
   "cell_type": "code",
   "execution_count": 127,
   "metadata": {
    "scrolled": true
   },
   "outputs": [
    {
     "data": {
      "image/png": "[encoded data removed]",
      "text/plain": [
       "<matplotlib.figure.Figure at 0x16ed4241160>"
      ]
     },
     "metadata": {},
     "output_type": "display_data"
    }
   ],
   "source": [
    "predicted = regr.predict(X).ravel()\n",
    "actual = y\n",
    "residual = actual - predicted\n",
    "\n",
    "plt.figure(figsize=(12,5))\n",
    "plt.scatter(predicted, residual)\n",
    "plt.xlabel('Predicted')\n",
    "plt.ylabel('Residual')\n",
    "plt.axhline(y=0)\n",
    "plt.title('Residual vs. Predicted (ALL)')\n",
    "plt.show()"
   ]
  },
  {
   "cell_type": "code",
   "execution_count": 128,
   "metadata": {},
   "outputs": [
    {
     "data": {
      "image/png": "[encoded data removed]",
      "text/plain": [
       "<matplotlib.figure.Figure at 0x16ed3e984e0>"
      ]
     },
     "metadata": {},
     "output_type": "display_data"
    }
   ],
   "source": [
    "plt.figure(figsize=(12,5))\n",
    "plt.scatter(predicted, residual)\n",
    "plt.xlim(-25,450)\n",
    "plt.xlabel('Predicted')\n",
    "plt.ylabel('Residual')\n",
    "plt.axhline(y=0)\n",
    "plt.title('Residual vs. Predicted (0-450)')\n",
    "plt.show()"
   ]
  },
  {
   "cell_type": "code",
   "execution_count": 129,
   "metadata": {},
   "outputs": [
    {
     "data": {
      "image/png": "[encoded data removed]",
      "text/plain": [
       "<matplotlib.figure.Figure at 0x16ed3e86c88>"
      ]
     },
     "metadata": {},
     "output_type": "display_data"
    }
   ],
   "source": [
    "plt.figure(figsize=(12,5))\n",
    "plt.scatter(predicted, residual)\n",
    "plt.xlim(-25,100)\n",
    "plt.xlabel('Predicted')\n",
    "plt.ylabel('Residual')\n",
    "plt.axhline(y=0)\n",
    "plt.title('Residual vs. Predicted (0-100)')\n",
    "plt.show()"
   ]
  },
  {
   "cell_type": "code",
   "execution_count": 130,
   "metadata": {},
   "outputs": [
    {
     "name": "stdout",
     "output_type": "stream",
     "text": [
      "Coefficients: \n",
      " [0.03727842 0.00544989 0.00339975 0.09648472 0.01894116 0.31797536\n",
      " 0.58190803]\n",
      "Intercept: \n",
      " -33.91636550563602\n",
      "\n",
      "Coefficients: \n",
      " [0.03727842 0.00544989 0.00339975 0.09648472 0.01894116 0.31797536\n",
      " 0.58190803]\n",
      "\n",
      "Intercept: \n",
      " -33.91636550563602\n",
      "\n",
      "R-squared:\n",
      "0.9594589031690051\n"
     ]
    }
   ],
   "source": [
    "# Instantiate our model.\n",
    "regr = linear_model.LinearRegression()\n",
    "\n",
    "# Fit our model to our data.\n",
    "regr.fit(X, y)\n",
    "\n",
    "# Display the attributes we calculated.\n",
    "print('Coefficients: \\n', regr.coef_)\n",
    "print('Intercept: \\n', regr.intercept_)\n",
    "\n",
    "# Inspect the results.\n",
    "print('\\nCoefficients: \\n', regr.coef_)\n",
    "print('\\nIntercept: \\n', regr.intercept_)\n",
    "print('\\nR-squared:')\n",
    "print(regr.score(X, y))"
   ]
  },
  {
   "cell_type": "code",
   "execution_count": 131,
   "metadata": {},
   "outputs": [
    {
     "data": {
      "text/html": [
       "<div>\n",
       "<style scoped>\n",
       "    .dataframe tbody tr th:only-of-type {\n",
       "        vertical-align: middle;\n",
       "    }\n",
       "\n",
       "    .dataframe tbody tr th {\n",
       "        vertical-align: top;\n",
       "    }\n",
       "\n",
       "    .dataframe thead th {\n",
       "        text-align: right;\n",
       "    }\n",
       "</style>\n",
       "<table border=\"1\" class=\"dataframe\">\n",
       "  <thead>\n",
       "    <tr style=\"text-align: right;\">\n",
       "      <th></th>\n",
       "      <th>myct</th>\n",
       "      <th>mmin</th>\n",
       "      <th>mmax</th>\n",
       "      <th>cach</th>\n",
       "      <th>chmin</th>\n",
       "      <th>chmax</th>\n",
       "      <th>prp</th>\n",
       "      <th>erp</th>\n",
       "    </tr>\n",
       "  </thead>\n",
       "  <tbody>\n",
       "    <tr>\n",
       "      <th>count</th>\n",
       "      <td>208.000</td>\n",
       "      <td>208.000</td>\n",
       "      <td>208.000</td>\n",
       "      <td>208.000</td>\n",
       "      <td>208.000</td>\n",
       "      <td>208.000</td>\n",
       "      <td>208.000</td>\n",
       "      <td>208.000</td>\n",
       "    </tr>\n",
       "    <tr>\n",
       "      <th>mean</th>\n",
       "      <td>204.202</td>\n",
       "      <td>2880.538</td>\n",
       "      <td>11824.019</td>\n",
       "      <td>24.096</td>\n",
       "      <td>4.644</td>\n",
       "      <td>17.740</td>\n",
       "      <td>105.178</td>\n",
       "      <td>98.851</td>\n",
       "    </tr>\n",
       "    <tr>\n",
       "      <th>std</th>\n",
       "      <td>260.833</td>\n",
       "      <td>3883.839</td>\n",
       "      <td>11747.917</td>\n",
       "      <td>37.418</td>\n",
       "      <td>6.787</td>\n",
       "      <td>24.913</td>\n",
       "      <td>161.090</td>\n",
       "      <td>154.975</td>\n",
       "    </tr>\n",
       "    <tr>\n",
       "      <th>min</th>\n",
       "      <td>17.000</td>\n",
       "      <td>64.000</td>\n",
       "      <td>64.000</td>\n",
       "      <td>0.000</td>\n",
       "      <td>0.000</td>\n",
       "      <td>0.000</td>\n",
       "      <td>6.000</td>\n",
       "      <td>15.000</td>\n",
       "    </tr>\n",
       "    <tr>\n",
       "      <th>25%</th>\n",
       "      <td>50.000</td>\n",
       "      <td>768.000</td>\n",
       "      <td>4000.000</td>\n",
       "      <td>0.000</td>\n",
       "      <td>1.000</td>\n",
       "      <td>5.000</td>\n",
       "      <td>27.000</td>\n",
       "      <td>28.000</td>\n",
       "    </tr>\n",
       "    <tr>\n",
       "      <th>50%</th>\n",
       "      <td>110.000</td>\n",
       "      <td>2000.000</td>\n",
       "      <td>8000.000</td>\n",
       "      <td>8.000</td>\n",
       "      <td>2.000</td>\n",
       "      <td>8.000</td>\n",
       "      <td>49.500</td>\n",
       "      <td>45.000</td>\n",
       "    </tr>\n",
       "    <tr>\n",
       "      <th>75%</th>\n",
       "      <td>225.000</td>\n",
       "      <td>4000.000</td>\n",
       "      <td>16000.000</td>\n",
       "      <td>32.000</td>\n",
       "      <td>6.000</td>\n",
       "      <td>24.000</td>\n",
       "      <td>111.500</td>\n",
       "      <td>99.500</td>\n",
       "    </tr>\n",
       "    <tr>\n",
       "      <th>max</th>\n",
       "      <td>1500.000</td>\n",
       "      <td>32000.000</td>\n",
       "      <td>64000.000</td>\n",
       "      <td>256.000</td>\n",
       "      <td>52.000</td>\n",
       "      <td>176.000</td>\n",
       "      <td>1150.000</td>\n",
       "      <td>1238.000</td>\n",
       "    </tr>\n",
       "  </tbody>\n",
       "</table>\n",
       "</div>"
      ],
      "text/plain": [
       "          myct      mmin      mmax    cach   chmin   chmax      prp      erp\n",
       "count  208.000   208.000   208.000 208.000 208.000 208.000  208.000  208.000\n",
       "mean   204.202  2880.538 11824.019  24.096   4.644  17.740  105.178   98.851\n",
       "std    260.833  3883.839 11747.917  37.418   6.787  24.913  161.090  154.975\n",
       "min     17.000    64.000    64.000   0.000   0.000   0.000    6.000   15.000\n",
       "25%     50.000   768.000  4000.000   0.000   1.000   5.000   27.000   28.000\n",
       "50%    110.000  2000.000  8000.000   8.000   2.000   8.000   49.500   45.000\n",
       "75%    225.000  4000.000 16000.000  32.000   6.000  24.000  111.500   99.500\n",
       "max   1500.000 32000.000 64000.000 256.000  52.000 176.000 1150.000 1238.000"
      ]
     },
     "execution_count": 131,
     "metadata": {},
     "output_type": "execute_result"
    }
   ],
   "source": [
    "#95.95%. Now that's my kind of result! Still, let's go ahead and run the KNN\n",
    "#First, in order to know how to set up my prediction line, let's describe our data\n",
    "df.describe()"
   ]
  },
  {
   "cell_type": "code",
   "execution_count": 151,
   "metadata": {},
   "outputs": [
    {
     "data": {
      "text/plain": [
       "KNeighborsRegressor(algorithm='auto', leaf_size=30, metric='minkowski',\n",
       "          metric_params=None, n_jobs=1, n_neighbors=10, p=2,\n",
       "          weights='distance')"
      ]
     },
     "execution_count": 151,
     "metadata": {},
     "output_type": "execute_result"
    }
   ],
   "source": [
    "knn = neighbors.KNeighborsRegressor(n_neighbors=10)\n",
    "knn.fit(X, y)\n",
    "knn_w = neighbors.KNeighborsRegressor(n_neighbors=10, weights='distance')\n",
    "knn_w.fit(X, y)"
   ]
  },
  {
   "cell_type": "code",
   "execution_count": 152,
   "metadata": {},
   "outputs": [
    {
     "name": "stdout",
     "output_type": "stream",
     "text": [
      "Unweighted Accuracy: 0.7367 (+/- 0.19)\n",
      "Weighted Accuracy: 0.7975 (+/- 0.18)\n"
     ]
    }
   ],
   "source": [
    "score = cross_val_score(knn, X, y, cv=5)\n",
    "print(\"Unweighted Accuracy: %0.4f (+/- %0.2f)\" % (score.mean(), score.std() * 2))\n",
    "score_w = cross_val_score(knn_w, X, y, cv=5)\n",
    "print(\"Weighted Accuracy: %0.4f (+/- %0.2f)\" % (score_w.mean(), score_w.std() * 2))"
   ]
  },
  {
   "cell_type": "code",
   "execution_count": 153,
   "metadata": {},
   "outputs": [
    {
     "name": "stdout",
     "output_type": "stream",
     "text": [
      "Unweighted Accuracy: 0.6935 (+/- 0.25)\n",
      "Weighted Accuracy: 0.7604 (+/- 0.24)\n"
     ]
    }
   ],
   "source": [
    "knn = neighbors.KNeighborsRegressor(n_neighbors=20)\n",
    "knn.fit(X, y)\n",
    "knn_w = neighbors.KNeighborsRegressor(n_neighbors=20, weights='distance')\n",
    "knn_w.fit(X, y)\n",
    "\n",
    "score = cross_val_score(knn, X, y, cv=5)\n",
    "print(\"Unweighted Accuracy: %0.4f (+/- %0.2f)\" % (score.mean(), score.std() * 2))\n",
    "score_w = cross_val_score(knn_w, X, y, cv=5)\n",
    "print(\"Weighted Accuracy: %0.4f (+/- %0.2f)\" % (score_w.mean(), score_w.std() * 2))"
   ]
  },
  {
   "cell_type": "code",
   "execution_count": 154,
   "metadata": {},
   "outputs": [
    {
     "name": "stdout",
     "output_type": "stream",
     "text": [
      "Unweighted Accuracy: 0.7992 (+/- 0.15)\n",
      "Weighted Accuracy: 0.8496 (+/- 0.13)\n"
     ]
    }
   ],
   "source": [
    "knn = neighbors.KNeighborsRegressor(n_neighbors=5)\n",
    "knn.fit(X, y)\n",
    "knn_w = neighbors.KNeighborsRegressor(n_neighbors=5, weights='distance')\n",
    "knn_w.fit(X, y)\n",
    "\n",
    "score = cross_val_score(knn, X, y, cv=5)\n",
    "print(\"Unweighted Accuracy: %0.4f (+/- %0.2f)\" % (score.mean(), score.std() * 2))\n",
    "score_w = cross_val_score(knn_w, X, y, cv=5)\n",
    "print(\"Weighted Accuracy: %0.4f (+/- %0.2f)\" % (score_w.mean(), score_w.std() * 2))"
   ]
  },
  {
   "cell_type": "markdown",
   "metadata": {},
   "source": [
    "This dataset contains the Relative CPU Performance Data, described in terms of its cycle time, memory size, etc.First, I ensured the data wass all useful and populated. Then I removed the columns that had no impact on the estimated relative performance. Then I created the data and target and ran a K Neightbors classifier model on it. I realized the error of using a classifier and turned to adding features. \n",
    "\n",
    "An Ordinary Least Squares model, measuring the Euclidian distance of each point to a calculated fit line showed an outstanding 95.95% R-squared score. And this is not an immediate red-flag for being too high for several reasonsdealing with CPU performance. There are a few outliers to skew the data. But they are few and their impact negligible. Non-learities are not a problem since we're dealing with how memory, cycle time, and number of channels affect overall performance. All features are relevant so we don't have a large number of features contributing to the R2. There is a no correlation of the features. The number of channels has no impact on the amount of memory really. It is simply a standard assumption that an increase in one is likely to be paired with an increase in the others as chip versions are designed with advancements batched in multiple areas. Heteroskedasticity is not a concern if we look at the plots closer up, into the buld of the points. \n",
    "\n",
    "The K Nearest Neighbors Regression is a simple model using the category of nearby datapoints and the relationship between pointss and datat for classification and regression. Choosing 10 for the number of neighbors to evaluate and comparing the data to the target in a five-fold cross-validation I get a CV score of 74% and 80% for unweighted and weighted scores, respectively. Increasing the number of neighbors to 20 shows a linear decrease in efficiency of about 4%. Further increases, which have been omitted from the final report confirm this decrease in KNN effectiveness, and reducing the neighbors to 5 yielded the highest result. This shows the KNN here is likely subjected to one of the model's common failings, sensitivity to localized data. \n",
    "\n",
    "So the OLS model is better fitted as a predictive model. However, to avoid selection bias it seems prudent to run several more models on this data. Though a high score is desired, choosing the model that provides it does not necessarily mean that the model that generated it beswt represents the regression. "
   ]
  },
  {
   "cell_type": "code",
   "execution_count": null,
   "metadata": {},
   "outputs": [],
   "source": []
  }
 ],
 "metadata": {
  "kernelspec": {
   "display_name": "Python 3",
   "language": "python",
   "name": "python3"
  },
  "language_info": {
   "codemirror_mode": {
    "name": "ipython",
    "version": 3
   },
   "file_extension": ".py",
   "mimetype": "text/x-python",
   "name": "python",
   "nbconvert_exporter": "python",
   "pygments_lexer": "ipython3",
   "version": "3.6.4"
  }
 },
 "nbformat": 4,
 "nbformat_minor": 2
}
