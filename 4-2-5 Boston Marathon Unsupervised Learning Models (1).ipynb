{
 "cells": [
  {
   "cell_type": "code",
   "execution_count": 148,
   "metadata": {},
   "outputs": [],
   "source": [
    "import numpy as np\n",
    "import pandas as pd\n",
    "import scipy\n",
    "import matplotlib.pyplot as plt\n",
    "import seaborn as sns\n",
    "%matplotlib inline\n",
    "\n",
    "from sklearn.datasets.samples_generator import make_blobs\n",
    "from sklearn.model_selection import train_test_split\n",
    "from sklearn.cluster import SpectralClustering, MeanShift, estimate_bandwidth, AffinityPropagation, KMeans, MiniBatchKMeans\n",
    "from sklearn.preprocessing import normalize\n",
    "from sklearn.decomposition import PCA\n",
    "from sklearn import metrics\n",
    "from itertools import cycle"
   ]
  },
  {
   "cell_type": "markdown",
   "metadata": {},
   "source": [
    "This Notebook contains the unsupervised learning models for the 2014 Boston Marathon data. I will use all five models learned in the previous lessons (K-Means, miniBatchKMeans, Mean-Shift, Spectral Clustering, and Affinity Propagation) to see which one is best suited for the marathon data. I also want to show a few visualizations along with the preprocessing to flesh out the understanding of what is being modeled. "
   ]
  },
  {
   "cell_type": "code",
   "execution_count": 149,
   "metadata": {
    "scrolled": true
   },
   "outputs": [],
   "source": [
    "dfpath = (\"https://raw.githubusercontent.com/llimllib/bostonmarathon/master/results/2014/results.csv\")\n",
    "\n",
    "df = pd.read_csv(dfpath)"
   ]
  },
  {
   "cell_type": "markdown",
   "metadata": {},
   "source": [
    "### Preprocessing"
   ]
  },
  {
   "cell_type": "markdown",
   "metadata": {},
   "source": [
    "First, I take a look at the raw data to see what needs to be done to ready it for modeling."
   ]
  },
  {
   "cell_type": "code",
   "execution_count": 150,
   "metadata": {
    "scrolled": false
   },
   "outputs": [
    {
     "name": "stdout",
     "output_type": "stream",
     "text": [
      "<class 'pandas.core.frame.DataFrame'>\n",
      "RangeIndex: 31984 entries, 0 to 31983\n",
      "Data columns (total 21 columns):\n",
      "10k          31984 non-null object\n",
      "name         31984 non-null object\n",
      "division     31984 non-null int64\n",
      "25k          31984 non-null object\n",
      "gender       31984 non-null object\n",
      "age          31984 non-null int64\n",
      "official     31984 non-null float64\n",
      "bib          31984 non-null object\n",
      "genderdiv    31984 non-null int64\n",
      "ctz          1244 non-null object\n",
      "35k          31984 non-null object\n",
      "overall      31984 non-null int64\n",
      "pace         31984 non-null float64\n",
      "state        29408 non-null object\n",
      "30k          31984 non-null object\n",
      "5k           31984 non-null object\n",
      "half         31984 non-null object\n",
      "20k          31984 non-null object\n",
      "country      31984 non-null object\n",
      "city         31983 non-null object\n",
      "40k          31984 non-null object\n",
      "dtypes: float64(2), int64(4), object(15)\n",
      "memory usage: 5.1+ MB\n"
     ]
    }
   ],
   "source": [
    "df.info()"
   ]
  },
  {
   "cell_type": "markdown",
   "metadata": {},
   "source": [
    "The first thing I see is that the times for the various checkpoints (10k - 40k) are objects, not numerics. I'll convert them. Next I see that a few of these features are really not useful for any modeling purposes, like name. Genderdiv is very empty to the point of being useless. That can be removed. A couple of the features (gender and country) are categorica. Of course gender is binary. But the country coumn contains a lot of categorical data as one would expect. "
   ]
  },
  {
   "cell_type": "code",
   "execution_count": 151,
   "metadata": {},
   "outputs": [
    {
     "data": {
      "text/plain": [
       "Index(['10k', 'name', 'division', '25k', 'gender', 'age', 'official', 'bib',\n",
       "       'genderdiv', 'ctz', '35k', 'overall', 'pace', 'state', '30k', '5k',\n",
       "       'half', '20k', 'country', 'city', '40k'],\n",
       "      dtype='object')"
      ]
     },
     "execution_count": 151,
     "metadata": {},
     "output_type": "execute_result"
    }
   ],
   "source": [
    "df.columns"
   ]
  },
  {
   "cell_type": "code",
   "execution_count": 152,
   "metadata": {},
   "outputs": [],
   "source": [
    "dfp = pd.get_dummies(data=df, columns=['gender', 'country'])"
   ]
  },
  {
   "cell_type": "code",
   "execution_count": 153,
   "metadata": {},
   "outputs": [],
   "source": [
    "dfp = dfp.drop(['name', 'bib', 'ctz', 'state', 'city', 'division'], 1)"
   ]
  },
  {
   "cell_type": "code",
   "execution_count": 154,
   "metadata": {},
   "outputs": [],
   "source": [
    "dfp['5k'] = pd.to_numeric(dfp['5k'], errors='coerce')\n",
    "dfp['10k'] = pd.to_numeric(dfp['10k'], errors='coerce')\n",
    "dfp['20k'] = pd.to_numeric(dfp['20k'], errors='coerce')\n",
    "dfp['25k'] = pd.to_numeric(dfp['25k'], errors='coerce')\n",
    "dfp['30k'] = pd.to_numeric(dfp['30k'], errors='coerce')\n",
    "dfp['35k'] = pd.to_numeric(dfp['35k'], errors='coerce')\n",
    "dfp['40k'] = pd.to_numeric(dfp['40k'], errors='coerce')\n",
    "dfp['half'] = pd.to_numeric(dfp['half'], errors='coerce')"
   ]
  },
  {
   "cell_type": "code",
   "execution_count": 155,
   "metadata": {
    "scrolled": false
   },
   "outputs": [
    {
     "data": {
      "text/html": [
       "<div>\n",
       "<style scoped>\n",
       "    .dataframe tbody tr th:only-of-type {\n",
       "        vertical-align: middle;\n",
       "    }\n",
       "\n",
       "    .dataframe tbody tr th {\n",
       "        vertical-align: top;\n",
       "    }\n",
       "\n",
       "    .dataframe thead th {\n",
       "        text-align: right;\n",
       "    }\n",
       "</style>\n",
       "<table border=\"1\" class=\"dataframe\">\n",
       "  <thead>\n",
       "    <tr style=\"text-align: right;\">\n",
       "      <th></th>\n",
       "      <th>10k</th>\n",
       "      <th>25k</th>\n",
       "      <th>age</th>\n",
       "      <th>official</th>\n",
       "      <th>genderdiv</th>\n",
       "      <th>35k</th>\n",
       "      <th>overall</th>\n",
       "      <th>pace</th>\n",
       "      <th>30k</th>\n",
       "      <th>5k</th>\n",
       "      <th>...</th>\n",
       "      <th>country_TPE</th>\n",
       "      <th>country_TRI</th>\n",
       "      <th>country_TUR</th>\n",
       "      <th>country_UAE</th>\n",
       "      <th>country_UKR</th>\n",
       "      <th>country_URU</th>\n",
       "      <th>country_USA</th>\n",
       "      <th>country_VEN</th>\n",
       "      <th>country_VGB</th>\n",
       "      <th>country_ZIM</th>\n",
       "    </tr>\n",
       "  </thead>\n",
       "  <tbody>\n",
       "    <tr>\n",
       "      <th>0</th>\n",
       "      <td>17.37</td>\n",
       "      <td>47.67</td>\n",
       "      <td>47</td>\n",
       "      <td>85.25</td>\n",
       "      <td>8</td>\n",
       "      <td>71.40</td>\n",
       "      <td>8</td>\n",
       "      <td>3.27</td>\n",
       "      <td>59.18</td>\n",
       "      <td>8.02</td>\n",
       "      <td>...</td>\n",
       "      <td>0</td>\n",
       "      <td>0</td>\n",
       "      <td>0</td>\n",
       "      <td>0</td>\n",
       "      <td>0</td>\n",
       "      <td>0</td>\n",
       "      <td>0</td>\n",
       "      <td>0</td>\n",
       "      <td>0</td>\n",
       "      <td>0</td>\n",
       "    </tr>\n",
       "    <tr>\n",
       "      <th>1</th>\n",
       "      <td>32.58</td>\n",
       "      <td>82.43</td>\n",
       "      <td>33</td>\n",
       "      <td>138.95</td>\n",
       "      <td>1</td>\n",
       "      <td>116.37</td>\n",
       "      <td>21</td>\n",
       "      <td>5.30</td>\n",
       "      <td>99.33</td>\n",
       "      <td>16.22</td>\n",
       "      <td>...</td>\n",
       "      <td>0</td>\n",
       "      <td>0</td>\n",
       "      <td>0</td>\n",
       "      <td>0</td>\n",
       "      <td>0</td>\n",
       "      <td>0</td>\n",
       "      <td>0</td>\n",
       "      <td>0</td>\n",
       "      <td>0</td>\n",
       "      <td>0</td>\n",
       "    </tr>\n",
       "    <tr>\n",
       "      <th>2</th>\n",
       "      <td>16.62</td>\n",
       "      <td>45.80</td>\n",
       "      <td>41</td>\n",
       "      <td>80.60</td>\n",
       "      <td>1</td>\n",
       "      <td>67.42</td>\n",
       "      <td>1</td>\n",
       "      <td>3.08</td>\n",
       "      <td>56.45</td>\n",
       "      <td>7.75</td>\n",
       "      <td>...</td>\n",
       "      <td>0</td>\n",
       "      <td>0</td>\n",
       "      <td>0</td>\n",
       "      <td>0</td>\n",
       "      <td>0</td>\n",
       "      <td>0</td>\n",
       "      <td>0</td>\n",
       "      <td>0</td>\n",
       "      <td>0</td>\n",
       "      <td>0</td>\n",
       "    </tr>\n",
       "    <tr>\n",
       "      <th>3</th>\n",
       "      <td>32.57</td>\n",
       "      <td>82.43</td>\n",
       "      <td>24</td>\n",
       "      <td>140.58</td>\n",
       "      <td>3</td>\n",
       "      <td>116.37</td>\n",
       "      <td>27</td>\n",
       "      <td>5.37</td>\n",
       "      <td>99.33</td>\n",
       "      <td>16.20</td>\n",
       "      <td>...</td>\n",
       "      <td>0</td>\n",
       "      <td>0</td>\n",
       "      <td>0</td>\n",
       "      <td>0</td>\n",
       "      <td>0</td>\n",
       "      <td>0</td>\n",
       "      <td>0</td>\n",
       "      <td>0</td>\n",
       "      <td>0</td>\n",
       "      <td>0</td>\n",
       "    </tr>\n",
       "    <tr>\n",
       "      <th>4</th>\n",
       "      <td>17.12</td>\n",
       "      <td>46.37</td>\n",
       "      <td>40</td>\n",
       "      <td>81.23</td>\n",
       "      <td>2</td>\n",
       "      <td>67.83</td>\n",
       "      <td>2</td>\n",
       "      <td>3.10</td>\n",
       "      <td>57.03</td>\n",
       "      <td>8.02</td>\n",
       "      <td>...</td>\n",
       "      <td>0</td>\n",
       "      <td>0</td>\n",
       "      <td>0</td>\n",
       "      <td>0</td>\n",
       "      <td>0</td>\n",
       "      <td>0</td>\n",
       "      <td>0</td>\n",
       "      <td>0</td>\n",
       "      <td>0</td>\n",
       "      <td>0</td>\n",
       "    </tr>\n",
       "  </tbody>\n",
       "</table>\n",
       "<p>5 rows × 93 columns</p>\n",
       "</div>"
      ],
      "text/plain": [
       "     10k    25k  age  official  genderdiv     35k  overall  pace    30k  \\\n",
       "0  17.37  47.67   47     85.25          8   71.40        8  3.27  59.18   \n",
       "1  32.58  82.43   33    138.95          1  116.37       21  5.30  99.33   \n",
       "2  16.62  45.80   41     80.60          1   67.42        1  3.08  56.45   \n",
       "3  32.57  82.43   24    140.58          3  116.37       27  5.37  99.33   \n",
       "4  17.12  46.37   40     81.23          2   67.83        2  3.10  57.03   \n",
       "\n",
       "      5k     ...       country_TPE  country_TRI  country_TUR  country_UAE  \\\n",
       "0   8.02     ...                 0            0            0            0   \n",
       "1  16.22     ...                 0            0            0            0   \n",
       "2   7.75     ...                 0            0            0            0   \n",
       "3  16.20     ...                 0            0            0            0   \n",
       "4   8.02     ...                 0            0            0            0   \n",
       "\n",
       "   country_UKR  country_URU  country_USA  country_VEN  country_VGB  \\\n",
       "0            0            0            0            0            0   \n",
       "1            0            0            0            0            0   \n",
       "2            0            0            0            0            0   \n",
       "3            0            0            0            0            0   \n",
       "4            0            0            0            0            0   \n",
       "\n",
       "   country_ZIM  \n",
       "0            0  \n",
       "1            0  \n",
       "2            0  \n",
       "3            0  \n",
       "4            0  \n",
       "\n",
       "[5 rows x 93 columns]"
      ]
     },
     "execution_count": 155,
     "metadata": {},
     "output_type": "execute_result"
    }
   ],
   "source": [
    "dfp.head()"
   ]
  },
  {
   "cell_type": "markdown",
   "metadata": {},
   "source": [
    "Now below I can see that the checkpoint time data is ready to be used as a float. "
   ]
  },
  {
   "cell_type": "code",
   "execution_count": 156,
   "metadata": {
    "scrolled": true
   },
   "outputs": [
    {
     "data": {
      "text/plain": [
       "count    31944.000000\n",
       "mean       164.571219\n",
       "std         33.953683\n",
       "min         56.450000\n",
       "25%        140.670000\n",
       "50%        157.730000\n",
       "75%        182.880000\n",
       "max        376.380000\n",
       "Name: 30k, dtype: float64"
      ]
     },
     "execution_count": 156,
     "metadata": {},
     "output_type": "execute_result"
    }
   ],
   "source": [
    "dfp['30k'].describe()"
   ]
  },
  {
   "cell_type": "markdown",
   "metadata": {},
   "source": [
    "Below I see that some of the checkpoint data is missing. This makes sense as it is difficult to capture the times of every individual at every point among such a swell of runners. The fact that there isn't more missing data is actually pretty impressive. Certainly no point in fillna. No real benefit to imputation either. There isn't that much missing. So dropping those rows will still leave most of the data intact. "
   ]
  },
  {
   "cell_type": "code",
   "execution_count": 157,
   "metadata": {
    "scrolled": false
   },
   "outputs": [
    {
     "data": {
      "text/plain": [
       "25k            216\n",
       "half            72\n",
       "5k              52\n",
       "20k             51\n",
       "10k             50\n",
       "30k             40\n",
       "40k             39\n",
       "35k             34\n",
       "country_EST      0\n",
       "country_DOM      0\n",
       "country_CHI      0\n",
       "country_CHN      0\n",
       "country_COL      0\n",
       "country_CRC      0\n",
       "country_CRO      0\n",
       "country_CZE      0\n",
       "country_DEN      0\n",
       "country_ECU      0\n",
       "country_ESP      0\n",
       "country_EGY      0\n",
       "dtype: int64"
      ]
     },
     "execution_count": 157,
     "metadata": {},
     "output_type": "execute_result"
    }
   ],
   "source": [
    "dfp.isnull().sum().sort_values(ascending=False).head(20)"
   ]
  },
  {
   "cell_type": "code",
   "execution_count": 158,
   "metadata": {},
   "outputs": [],
   "source": [
    "dfp = dfp.dropna()"
   ]
  },
  {
   "cell_type": "markdown",
   "metadata": {},
   "source": [
    "### Initial Data Analysis"
   ]
  },
  {
   "cell_type": "code",
   "execution_count": 159,
   "metadata": {
    "scrolled": false
   },
   "outputs": [
    {
     "data": {
      "text/plain": [
       "(array([ 580., 1764., 4673., 5737., 5815., 4500., 3148., 2411., 1607.,\n",
       "         934.,  488.,  327.]),\n",
       " array([   0.        ,  230.41666667,  460.83333333,  691.25      ,\n",
       "         921.66666667, 1152.08333333, 1382.5       , 1612.91666667,\n",
       "        1843.33333333, 2073.75      , 2304.16666667, 2534.58333333,\n",
       "        2765.        ]),\n",
       " <a list of 12 Patch objects>)"
      ]
     },
     "execution_count": 159,
     "metadata": {},
     "output_type": "execute_result"
    },
    {
     "data": {
      "image/png": "[encoded data removed]",
      "text/plain": [
       "<matplotlib.figure.Figure at 0x2c206bbf908>"
      ]
     },
     "metadata": {},
     "output_type": "display_data"
    }
   ],
   "source": [
    "plt.hist(df['10k'], bins=12)"
   ]
  },
  {
   "cell_type": "markdown",
   "metadata": {},
   "source": [
    "Checking out the distribution of one of the checkpoints. Seems normal. Let's check out the rest. "
   ]
  },
  {
   "cell_type": "code",
   "execution_count": 160,
   "metadata": {
    "scrolled": false
   },
   "outputs": [
    {
     "data": {
      "image/png": "[encoded data removed]",
      "text/plain": [
       "<matplotlib.figure.Figure at 0x2c2099f6d30>"
      ]
     },
     "metadata": {},
     "output_type": "display_data"
    }
   ],
   "source": [
    "sns.set(style=\"white\", palette=\"muted\", color_codes=True)\n",
    "f, axes = plt.subplots(2, 4, figsize=(11,8), sharex=True)\n",
    "sns.distplot(dfp['5k'], kde=False, color=\"b\", ax=axes[0, 0])\n",
    "sns.distplot(dfp['10k'], kde=False, color=\"b\", ax=axes[0, 1])\n",
    "sns.distplot(dfp['20k'], kde=False, color=\"b\", ax=axes[0, 2])\n",
    "sns.distplot(dfp['half'], kde=False, color=\"b\", ax=axes[0, 3])\n",
    "sns.distplot(dfp['25k'], kde=False, color=\"b\", ax=axes[1, 0])\n",
    "sns.distplot(dfp['30k'], kde=False, color=\"b\", ax=axes[1, 1])\n",
    "sns.distplot(dfp['35k'], kde=False, color=\"b\", ax=axes[1, 2])\n",
    "sns.distplot(dfp['40k'], kde=False, color=\"b\", ax=axes[1, 3])\n",
    "plt.setp(axes, yticks=[])\n",
    "plt.tight_layout()"
   ]
  },
  {
   "cell_type": "markdown",
   "metadata": {},
   "source": [
    "Very normal indeed. A slight skew to the right, but definitely normally distributed. "
   ]
  },
  {
   "cell_type": "code",
   "execution_count": 161,
   "metadata": {},
   "outputs": [],
   "source": [
    "df2 = pd.read_csv(dfpath)"
   ]
  },
  {
   "cell_type": "markdown",
   "metadata": {},
   "source": [
    "I want to check out the quantiles and outliers of the overall pace displayed by gender. But since I had already created dummies for gender, I'll create a new DataFrame for this visualization. "
   ]
  },
  {
   "cell_type": "code",
   "execution_count": 162,
   "metadata": {
    "scrolled": false
   },
   "outputs": [
    {
     "data": {
      "text/plain": [
       "<matplotlib.axes._subplots.AxesSubplot at 0x2c20f397908>"
      ]
     },
     "execution_count": 162,
     "metadata": {},
     "output_type": "execute_result"
    },
    {
     "data": {
      "image/png": "[encoded data removed]",
      "text/plain": [
       "<matplotlib.figure.Figure at 0x2c20f3977b8>"
      ]
     },
     "metadata": {},
     "output_type": "display_data"
    }
   ],
   "source": [
    "sns.set(style=\"white\", palette=\"muted\", color_codes=True)\n",
    "plt.figure(figsize=(8,8))\n",
    "sns.boxplot(y=\"pace\", x=\"gender\", data=df2, palette=\"PRGn\")"
   ]
  },
  {
   "cell_type": "markdown",
   "metadata": {},
   "source": [
    "The bulk of the women seem to hold a slightly faster pace than the bulk of the men. There are outliers on the top end as would be expected in such a global competitive sport. But look how similar the boxplots are by gender. "
   ]
  },
  {
   "cell_type": "code",
   "execution_count": 163,
   "metadata": {},
   "outputs": [
    {
     "data": {
      "text/plain": [
       "M    17617\n",
       "F    14367\n",
       "Name: gender, dtype: int64"
      ]
     },
     "execution_count": 163,
     "metadata": {},
     "output_type": "execute_result"
    }
   ],
   "source": [
    "df2['gender'].value_counts()"
   ]
  },
  {
   "cell_type": "markdown",
   "metadata": {},
   "source": [
    "Class imbalance by gender isn't a problem"
   ]
  },
  {
   "cell_type": "code",
   "execution_count": 164,
   "metadata": {},
   "outputs": [
    {
     "data": {
      "text/plain": [
       "USA    27233\n",
       "CAN     2175\n",
       "GBR      346\n",
       "ITA      212\n",
       "MEX      205\n",
       "GER      182\n",
       "JPN      175\n",
       "AUS      124\n",
       "IRL      119\n",
       "FRA      115\n",
       "ESP       89\n",
       "BRA       87\n",
       "SWE       66\n",
       "SUI       62\n",
       "KOR       60\n",
       "NED       54\n",
       "HKG       53\n",
       "DEN       50\n",
       "CHN       42\n",
       "COL       40\n",
       "Name: country, dtype: int64"
      ]
     },
     "execution_count": 164,
     "metadata": {},
     "output_type": "execute_result"
    }
   ],
   "source": [
    "df['country'].value_counts().head(20)"
   ]
  },
  {
   "cell_type": "markdown",
   "metadata": {},
   "source": [
    "North America is, unsurprisingly, the home of most of the participants. But there are still double digits for many countries. I need to consider the consequences of creating dummies for each of these countries and how that will affect the size of my feature space and thus the overall processing time of my models. \n",
    "\n",
    "What about the age of the runners? How is that distributed? I'll graph that, split by gender. "
   ]
  },
  {
   "cell_type": "code",
   "execution_count": 165,
   "metadata": {},
   "outputs": [
    {
     "data": {
      "image/png": "[encoded data removed]",
      "text/plain": [
       "<matplotlib.figure.Figure at 0x2c20f3a3a20>"
      ]
     },
     "metadata": {},
     "output_type": "display_data"
    }
   ],
   "source": [
    "plt.figure(figsize=(18,10))\n",
    "ax = sns.countplot(x=\"age\", hue=\"gender\", data=df)"
   ]
  },
  {
   "cell_type": "markdown",
   "metadata": {},
   "source": [
    "Impressively normaly distributed really. I might have expected the majority of the runners to be in their 20s. But it seems that this is an event taken on by older, more seasoned runners. \n",
    "\n",
    "Let's go back to the countries. I am concerned about that. How many dummies am I creating and for what percentage of the values?"
   ]
  },
  {
   "cell_type": "markdown",
   "metadata": {},
   "source": [
    "78 countries, and so many of them with just a single digit number of participants. For the sake of being thorough I want to run my model with them though. I can let PCA do the decomposition. \n",
    "\n",
    "Time to run the models. \n",
    "\n",
    "The feature that seems to be my obvious target is 'overall' which is the ordinal ranking of finishers. No divisions. No genders. Just a single rank assigned to each runner based on their position at the finish. "
   ]
  },
  {
   "cell_type": "markdown",
   "metadata": {},
   "source": [
    "## Unsupervised Models"
   ]
  },
  {
   "cell_type": "markdown",
   "metadata": {},
   "source": [
    "## NOTE:\n",
    "\n",
    "#### Below are several cells of Spectral Clustering, Mean-Shift, and Affinity Propagation models as well as models obn the dataset without PCA and including the 'Country' feature which when made into dummies added 92 unnecessary features to the feature space. These cells ahve all been commented out. After attempting to run them across several iterations I have found that K-Means is the best model for clustering this dataset. I will run K-Means and MiniBatchKMeans on it for three different target features (Overall, Age, & Gender). All are run using 2-feature PCA without normalization. "
   ]
  },
  {
   "cell_type": "markdown",
   "metadata": {},
   "source": [
    "### K-Means (No PCA)"
   ]
  },
  {
   "cell_type": "code",
   "execution_count": 166,
   "metadata": {},
   "outputs": [
    {
     "data": {
      "text/plain": [
       "(31649, 93)"
      ]
     },
     "execution_count": 166,
     "metadata": {},
     "output_type": "execute_result"
    }
   ],
   "source": [
    "dfp.shape"
   ]
  },
  {
   "cell_type": "code",
   "execution_count": 167,
   "metadata": {},
   "outputs": [],
   "source": [
    "X = dfp.drop(['overall'], 1)\n",
    "y = dfp['overall']"
   ]
  },
  {
   "cell_type": "code",
   "execution_count": 168,
   "metadata": {},
   "outputs": [],
   "source": [
    "# # Calculate predicted values.\n",
    "# y_pred = KMeans(n_clusters=10).fit_predict(X)\n",
    "# # Plot the solution.\n",
    "# # plt.figure().gca(projection='3d')\n",
    "# plt.scatter(X, y, c=y_pred)\n",
    "# plt.show()\n",
    "# # Check the solution against the data.\n",
    "# print('Comparing k-means clusters against the data:')\n",
    "# print(pd.crosstab(y_pred, y))"
   ]
  },
  {
   "cell_type": "markdown",
   "metadata": {},
   "source": [
    "I wanted to find the upper limit of my computational cost. So I ran a K-Means model on the full dataset. I had other things to do with my day so I didn't mind letting it run for a few hours if need be. And indeed it did run and run. Several hours later I had no sign of the model being complete. I think I will run the model again without the dummies for country. That's 78 features gone. Perhaps that will run in a reasonable amount of time. And if not, there is always PCA to reduce my dimensionality to a couple of features that will certainly be able to modeled in a matter of a few minutes. "
   ]
  },
  {
   "cell_type": "markdown",
   "metadata": {},
   "source": [
    "### K-Means without the country feature"
   ]
  },
  {
   "cell_type": "code",
   "execution_count": 169,
   "metadata": {},
   "outputs": [],
   "source": [
    "dfp_noc = df"
   ]
  },
  {
   "cell_type": "code",
   "execution_count": 170,
   "metadata": {},
   "outputs": [],
   "source": [
    "dfp_noc = pd.get_dummies(data=df, columns=['gender'])"
   ]
  },
  {
   "cell_type": "code",
   "execution_count": 171,
   "metadata": {},
   "outputs": [],
   "source": [
    "dfp_noc = dfp_noc.drop(['name', 'bib', 'ctz', 'state', 'city', 'division', 'country'], 1)"
   ]
  },
  {
   "cell_type": "code",
   "execution_count": 172,
   "metadata": {},
   "outputs": [],
   "source": [
    "dfp_noc['5k'] = pd.to_numeric(dfp_noc['5k'], errors='coerce')\n",
    "dfp_noc['10k'] = pd.to_numeric(dfp_noc['10k'], errors='coerce')\n",
    "dfp_noc['20k'] = pd.to_numeric(dfp_noc['20k'], errors='coerce')\n",
    "dfp_noc['25k'] = pd.to_numeric(dfp_noc['25k'], errors='coerce')\n",
    "dfp_noc['30k'] = pd.to_numeric(dfp_noc['30k'], errors='coerce')\n",
    "dfp_noc['35k'] = pd.to_numeric(dfp_noc['35k'], errors='coerce')\n",
    "dfp_noc['40k'] = pd.to_numeric(dfp_noc['40k'], errors='coerce')\n",
    "dfp_noc['half'] = pd.to_numeric(dfp_noc['half'], errors='coerce')"
   ]
  },
  {
   "cell_type": "code",
   "execution_count": 173,
   "metadata": {},
   "outputs": [],
   "source": [
    "X = dfp.drop(['overall'], 1)\n",
    "y = dfp['overall']"
   ]
  },
  {
   "cell_type": "code",
   "execution_count": 174,
   "metadata": {},
   "outputs": [],
   "source": [
    "# y_pred = KMeans(n_clusters=3).fit_predict(X)\n",
    "# Plot the solution.\n",
    "# plt.figure().gca(projection='3d')\n",
    "# plt.scatter(X, y, c=y_pred)\n",
    "# plt.show()\n",
    "# Check the solution against the data.\n",
    "# print('Comparing k-means clusters against the data:')\n",
    "# print(pd.crosstab(y_pred, y))"
   ]
  },
  {
   "cell_type": "markdown",
   "metadata": {},
   "source": [
    "90 minutes later and the model is still running for 5 clusters, even without the country dummies. I'm going to interrupt the kernel and move on to the PCA verion. I may come back to run this again when I have time to walk away and let it run without interrupting the rest of my modeling. \n",
    "\n",
    "I will run the PCA model for both normalized and un-normalized data"
   ]
  },
  {
   "cell_type": "markdown",
   "metadata": {},
   "source": [
    "### K-Means (PCA: 2)"
   ]
  },
  {
   "cell_type": "code",
   "execution_count": 175,
   "metadata": {
    "scrolled": false
   },
   "outputs": [
    {
     "data": {
      "image/png": "[encoded data removed]",
      "text/plain": [
       "<matplotlib.figure.Figure at 0x2c27511a7b8>"
      ]
     },
     "metadata": {},
     "output_type": "display_data"
    },
    {
     "name": "stdout",
     "output_type": "stream",
     "text": [
      "Comparing k-means clusters against the data:\n",
      "overall  1      2      3      4      5      6      7      8      9      10     \\\n",
      "row_0                                                                           \n",
      "0            2      2      2      2      2      2      2      2      2      2   \n",
      "1            0      0      0      0      0      0      0      0      0      0   \n",
      "2            0      0      0      0      0      0      0      0      0      0   \n",
      "\n",
      "overall  ...    31903  31906  31907  31909  31917  31925  31926  31929  31930  \\\n",
      "row_0    ...                                                                    \n",
      "0        ...        0      0      0      0      0      0      0      0      0   \n",
      "1        ...        1      1      1      1      1      1      1      1      1   \n",
      "2        ...        0      0      0      0      0      0      0      0      0   \n",
      "\n",
      "overall  31931  \n",
      "row_0           \n",
      "0            0  \n",
      "1            1  \n",
      "2            0  \n",
      "\n",
      "[3 rows x 31596 columns]\n"
     ]
    }
   ],
   "source": [
    "# Reduce it to two components.\n",
    "X_pca = PCA(2).fit_transform(X)\n",
    "# Calculate predicted values.\n",
    "y_pred = KMeans(n_clusters=3).fit_predict(X_pca)\n",
    "# Plot the solution.\n",
    "plt.scatter(X_pca[:, 0], X_pca[:, 1], c=y_pred)\n",
    "plt.show()\n",
    "# Check the solution against the data.\n",
    "print('Comparing k-means clusters against the data:')\n",
    "print(pd.crosstab(y_pred, y))"
   ]
  },
  {
   "cell_type": "markdown",
   "metadata": {},
   "source": [
    "Looking at these two bands of data one might assume that the clusters should follow their top and bottom groupings. Before making this assumption and running this model on the other targets I want to run it again for 5 clusters. "
   ]
  },
  {
   "cell_type": "markdown",
   "metadata": {},
   "source": [
    "### K-Means with 5 Clusters"
   ]
  },
  {
   "cell_type": "code",
   "execution_count": 176,
   "metadata": {},
   "outputs": [
    {
     "data": {
      "image/png": "[encoded data removed]",
      "text/plain": [
       "<matplotlib.figure.Figure at 0x2c27732fb00>"
      ]
     },
     "metadata": {},
     "output_type": "display_data"
    },
    {
     "name": "stdout",
     "output_type": "stream",
     "text": [
      "Comparing k-means clusters against the data:\n",
      "overall  1      2      3      4      5      6      7      8      9      10     \\\n",
      "row_0                                                                           \n",
      "0            2      2      2      2      2      2      2      2      2      2   \n",
      "1            0      0      0      0      0      0      0      0      0      0   \n",
      "2            0      0      0      0      0      0      0      0      0      0   \n",
      "3            0      0      0      0      0      0      0      0      0      0   \n",
      "4            0      0      0      0      0      0      0      0      0      0   \n",
      "\n",
      "overall  ...    31903  31906  31907  31909  31917  31925  31926  31929  31930  \\\n",
      "row_0    ...                                                                    \n",
      "0        ...        0      0      0      0      0      0      0      0      0   \n",
      "1        ...        0      0      0      0      0      0      0      0      0   \n",
      "2        ...        0      0      0      0      0      0      0      0      0   \n",
      "3        ...        1      1      1      1      1      1      1      1      1   \n",
      "4        ...        0      0      0      0      0      0      0      0      0   \n",
      "\n",
      "overall  31931  \n",
      "row_0           \n",
      "0            0  \n",
      "1            0  \n",
      "2            0  \n",
      "3            1  \n",
      "4            0  \n",
      "\n",
      "[5 rows x 31596 columns]\n"
     ]
    }
   ],
   "source": [
    "y_pred = KMeans(n_clusters=5).fit_predict(X_pca)\n",
    "plt.scatter(X_pca[:, 0], X_pca[:, 1], c=y_pred)\n",
    "plt.show()\n",
    "\n",
    "print('Comparing k-means clusters against the data:')\n",
    "print(pd.crosstab(y_pred, y))"
   ]
  },
  {
   "cell_type": "markdown",
   "metadata": {},
   "source": [
    "The five clusters still run horizontal without regard for the visual split that occurs and grows further as the data plots diverge. "
   ]
  },
  {
   "cell_type": "markdown",
   "metadata": {},
   "source": [
    "The lesson teaches the value in performing a MiniBatchKMeans as a way to significantly reduce the processing time without a great loss of information, through sampling. "
   ]
  },
  {
   "cell_type": "markdown",
   "metadata": {},
   "source": [
    "### Minibatch"
   ]
  },
  {
   "cell_type": "code",
   "execution_count": 177,
   "metadata": {},
   "outputs": [
    {
     "data": {
      "image/png": "[encoded data removed]",
      "text/plain": [
       "<matplotlib.figure.Figure at 0x2c277328080>"
      ]
     },
     "metadata": {},
     "output_type": "display_data"
    },
    {
     "name": "stdout",
     "output_type": "stream",
     "text": [
      "Comparing k-means clusters against the data:\n",
      "overall  1      2      3      4      5      6      7      8      9      10     \\\n",
      "row_0                                                                           \n",
      "0            2      2      2      2      2      2      2      2      2      2   \n",
      "1            0      0      0      0      0      0      0      0      0      0   \n",
      "2            0      0      0      0      0      0      0      0      0      0   \n",
      "3            0      0      0      0      0      0      0      0      0      0   \n",
      "4            0      0      0      0      0      0      0      0      0      0   \n",
      "\n",
      "overall  ...    31903  31906  31907  31909  31917  31925  31926  31929  31930  \\\n",
      "row_0    ...                                                                    \n",
      "0        ...        0      0      0      0      0      0      0      0      0   \n",
      "1        ...        0      0      0      0      0      0      0      0      0   \n",
      "2        ...        0      0      0      0      0      0      0      0      0   \n",
      "3        ...        1      1      1      1      1      1      1      1      1   \n",
      "4        ...        0      0      0      0      0      0      0      0      0   \n",
      "\n",
      "overall  31931  \n",
      "row_0           \n",
      "0            0  \n",
      "1            0  \n",
      "2            0  \n",
      "3            1  \n",
      "4            0  \n",
      "\n",
      "[5 rows x 31596 columns]\n"
     ]
    }
   ],
   "source": [
    "minibatch = MiniBatchKMeans(init='random', n_clusters=3, batch_size=200).fit_predict(X_pca)\n",
    "\n",
    "plt.scatter(X_pca[:, 0], X_pca[:, 1], c=minibatch)\n",
    "plt.show()\n",
    "\n",
    "print('Comparing k-means clusters against the data:')\n",
    "print(pd.crosstab(y_pred, y))"
   ]
  },
  {
   "cell_type": "code",
   "execution_count": 178,
   "metadata": {},
   "outputs": [
    {
     "data": {
      "image/png": "[encoded data removed]",
      "text/plain": [
       "<matplotlib.figure.Figure at 0x2c277781518>"
      ]
     },
     "metadata": {},
     "output_type": "display_data"
    },
    {
     "name": "stdout",
     "output_type": "stream",
     "text": [
      "Comparing k-means clusters against the data:\n",
      "overall  1      2      3      4      5      6      7      8      9      10     \\\n",
      "row_0                                                                           \n",
      "0            2      2      2      2      2      2      2      2      2      2   \n",
      "1            0      0      0      0      0      0      0      0      0      0   \n",
      "2            0      0      0      0      0      0      0      0      0      0   \n",
      "3            0      0      0      0      0      0      0      0      0      0   \n",
      "4            0      0      0      0      0      0      0      0      0      0   \n",
      "\n",
      "overall  ...    31903  31906  31907  31909  31917  31925  31926  31929  31930  \\\n",
      "row_0    ...                                                                    \n",
      "0        ...        0      0      0      0      0      0      0      0      0   \n",
      "1        ...        0      0      0      0      0      0      0      0      0   \n",
      "2        ...        0      0      0      0      0      0      0      0      0   \n",
      "3        ...        1      1      1      1      1      1      1      1      1   \n",
      "4        ...        0      0      0      0      0      0      0      0      0   \n",
      "\n",
      "overall  31931  \n",
      "row_0           \n",
      "0            0  \n",
      "1            0  \n",
      "2            0  \n",
      "3            1  \n",
      "4            0  \n",
      "\n",
      "[5 rows x 31596 columns]\n"
     ]
    }
   ],
   "source": [
    "minibatch = MiniBatchKMeans(init='random', n_clusters=5, batch_size=200).fit_predict(X_pca)\n",
    "\n",
    "plt.scatter(X_pca[:, 0], X_pca[:, 1], c=minibatch)\n",
    "plt.show()\n",
    "\n",
    "print('Comparing k-means clusters against the data:')\n",
    "print(pd.crosstab(y_pred, y))"
   ]
  },
  {
   "cell_type": "markdown",
   "metadata": {},
   "source": [
    "The results of the MiniBatch were pretty much the same, but faster to run. Still, the K-Means was not slow, processing in a matter of seconds. I'll refrain from using the MiniBatch unless K-Means for the next two targets shows significant computational cost. "
   ]
  },
  {
   "cell_type": "markdown",
   "metadata": {},
   "source": [
    "### NOTE: You may disregard the models below and move on to the next target for K-Means"
   ]
  },
  {
   "cell_type": "markdown",
   "metadata": {},
   "source": [
    "### Mean-Shift"
   ]
  },
  {
   "cell_type": "code",
   "execution_count": 179,
   "metadata": {},
   "outputs": [],
   "source": [
    "# X = dfp.drop(['overall'], 1)\n",
    "# y = dfp['overall']"
   ]
  },
  {
   "cell_type": "code",
   "execution_count": 180,
   "metadata": {},
   "outputs": [],
   "source": [
    "# X_pca = PCA(2).fit_transform(X)"
   ]
  },
  {
   "cell_type": "code",
   "execution_count": 181,
   "metadata": {},
   "outputs": [],
   "source": [
    "# X_train, X_test, y_train, y_test = train_test_split(\n",
    "#     X_pca,\n",
    "#     y,\n",
    "#     test_size=0.7,\n",
    "#     random_state=42)"
   ]
  },
  {
   "cell_type": "code",
   "execution_count": 182,
   "metadata": {},
   "outputs": [],
   "source": [
    "# bandwidth = estimate_bandwidth(X_train, quantile=0.2, n_samples=500)\n",
    "\n",
    "# ms = MeanShift(bandwidth=bandwidth, bin_seeding=True)\n",
    "# ms.fit(X_train)\n",
    "\n",
    "# labels = ms.labels_\n",
    "\n",
    "# cluster_centers = ms.cluster_centers_\n",
    "\n",
    "# n_clusters_ = len(np.unique(labels))\n",
    "\n",
    "# print(\"Number of estimated clusters: {}\".format(n_clusters_))"
   ]
  },
  {
   "cell_type": "code",
   "execution_count": 183,
   "metadata": {},
   "outputs": [],
   "source": [
    "# plt.scatter(X_train[:, 0], X_train[:, 1], c=labels)\n",
    "# plt.show()\n",
    "\n",
    "# print('Comparing the assigned categories to the ones in the data:')\n",
    "# print(pd.crosstab(y_train,labels))\n",
    "\n",
    "# dfp['cluster'] = pd.crosstab(y_train, labels)\n",
    "# #cluster becomes the hue for charting"
   ]
  },
  {
   "cell_type": "markdown",
   "metadata": {},
   "source": [
    "### Spectral Clustering"
   ]
  },
  {
   "cell_type": "markdown",
   "metadata": {},
   "source": [
    "I will perform a simple Spectral Custering model for three clusters on a train, test split of 70% of the total data. Note from above that test train split is done on the PCA data, reducing the features to 2. This should make it easuer to run the model, computationally. \n",
    "\n",
    "### NOTE: it has been over six hours and the model is still fitting. I have to  interrupt and move on."
   ]
  },
  {
   "cell_type": "code",
   "execution_count": 184,
   "metadata": {},
   "outputs": [],
   "source": [
    "# n_clusters=3\n",
    "\n",
    "# sc1 = SpectralClustering(n_clusters=n_clusters)\n",
    "# sc1.fit(X_train)\n",
    "\n",
    "# predict=sc1.fit_predict(X_train)"
   ]
  },
  {
   "cell_type": "code",
   "execution_count": 185,
   "metadata": {},
   "outputs": [],
   "source": [
    "# plt.scatter(X_train[:, 0], X_train1[:, ], c=predict)\n",
    "# plt.show()\n",
    "\n",
    "# print('Comparing the assigned categories to the ones in the data:')\n",
    "# print(pd.crosstab(y_train,predict))"
   ]
  },
  {
   "cell_type": "markdown",
   "metadata": {},
   "source": [
    "### Affinity Propagation"
   ]
  },
  {
   "cell_type": "markdown",
   "metadata": {},
   "source": [
    "Affinity Propagation is known for being good with large feature spaces. So I want to run this model once on the the total X, y data to see how it handles it. If that proves too great I'll run it again on the PCA'd train, test split data. "
   ]
  },
  {
   "cell_type": "code",
   "execution_count": 186,
   "metadata": {},
   "outputs": [],
   "source": [
    "# af1 = AffinityPropagation().fit(X_train)\n",
    "\n",
    "# # Pull the number of clusters and cluster assignments for each data point.\n",
    "# cluster_centers_indices = af1.cluster_centers_indices_\n",
    "# n_clusters_ = len(cluster_centers_indices)\n",
    "# labels = af1.labels_\n",
    "\n",
    "# print('Estimated number of clusters: {}'.format(n_clusters_))"
   ]
  },
  {
   "cell_type": "markdown",
   "metadata": {},
   "source": [
    "Oof that's a lot of clusters. Should be quite the Pollock to view. This took about 15 minutes to run so it's not inconcievable that I can tune the hyperparameters some to see if I can whittle the clusters down. "
   ]
  },
  {
   "cell_type": "code",
   "execution_count": 187,
   "metadata": {},
   "outputs": [],
   "source": [
    "# plt.figure(1)\n",
    "# plt.clf()\n",
    "\n",
    "# colors = cycle('bgrcmykbgrcmykbgrcmykbgrcmyk')\n",
    "# for k, col in zip(range(n_clusters_), colors):\n",
    "#     class_members = labels == k\n",
    "#     cluster_center = X_train[cluster_centers_indices[k]]\n",
    "#     plt.plot(X_train[class_members, 0], X_train[class_members, 1], col + '.')\n",
    "#     plt.plot(cluster_center[0],\n",
    "#              cluster_center[1],\n",
    "#              'o',\n",
    "#              markerfacecolor=col,\n",
    "#              markeredgecolor='k')\n",
    "#     for x in X_train[class_members]:\n",
    "#         plt.plot([cluster_center[0], x[0]], [cluster_center[1], x[1]], col)\n",
    "\n",
    "# plt.title('Estimated number of clusters: {}'.format(n_clusters_))\n",
    "# plt.show()"
   ]
  },
  {
   "cell_type": "markdown",
   "metadata": {},
   "source": [
    "### Affinity Propagation (Tuned)"
   ]
  },
  {
   "cell_type": "code",
   "execution_count": 188,
   "metadata": {},
   "outputs": [],
   "source": [
    "# af = AffinityPropagation(damping=0.5, \n",
    "#                           max_iter=200, \n",
    "#                           convergence_iter=15, \n",
    "#                           preference=None, \n",
    "#                           affinity='euclidean', \n",
    "#                           verbose=False).fit(X_train)\n",
    "\n",
    "# # Pull the number of clusters and cluster assignments for each data point.\n",
    "# cluster_centers_indices = af1.cluster_centers_indices_\n",
    "# n_clusters_ = len(cluster_centers_indices)\n",
    "# labels = af1.labels_\n",
    "\n",
    "# print('Estimated number of clusters: {}'.format(n_clusters_))\n",
    "\n",
    "# Default parameters are as follows:\n",
    "\n",
    "# (damping=0.5, max_iter=200, convergence_iter=15, copy=True, preference=None, affinity=’euclidean’, verbose=False)"
   ]
  },
  {
   "cell_type": "markdown",
   "metadata": {},
   "source": [
    "### Tuning Results\n",
    "\n",
    "- Damping: 0.5 to 0.8 - No effect\n",
    "- Damping: 0.5 to 1.0 - took too long and errored out, needs to be below 1.0\n",
    "- Damping: 0.5 to 0.99, max_iter: 200 to 50 - No effect\n",
    "- Max-iter: 200 to 50 & 100 - memory error??? Got a MemoryError even after returning to defaults!\n",
    "- Affinity: euclidean to precomputed - error (S must be a square array, which mine is clearly not [9494,2])"
   ]
  },
  {
   "cell_type": "markdown",
   "metadata": {},
   "source": [
    "## K-Means (Target = Age)"
   ]
  },
  {
   "cell_type": "code",
   "execution_count": 189,
   "metadata": {},
   "outputs": [],
   "source": [
    "X = dfp.drop(['age'], 1)\n",
    "y = dfp['age']"
   ]
  },
  {
   "cell_type": "code",
   "execution_count": 190,
   "metadata": {},
   "outputs": [
    {
     "data": {
      "image/png": "[encoded data removed]",
      "text/plain": [
       "<matplotlib.figure.Figure at 0x2c277c7a3c8>"
      ]
     },
     "metadata": {},
     "output_type": "display_data"
    },
    {
     "name": "stdout",
     "output_type": "stream",
     "text": [
      "Comparing k-means clusters against the data:\n",
      "age    18  19  20  21   22   23   24   25   26   27 ...  72  73  74  75  76  \\\n",
      "row_0                                               ...                       \n",
      "0       9  12  28  45   66   88  117  133  149  164 ...   2   2   1   3   2   \n",
      "1       8  10  35  63  113  155  209  240  321  328 ...   0   1   0   0   0   \n",
      "2      16  19  48  63   96  103  153  182  232  241 ...  29  19  12  14  11   \n",
      "\n",
      "age    77  78  79  80  81  \n",
      "row_0                      \n",
      "0       2   0   0   0   1  \n",
      "1       0   0   0   0   0  \n",
      "2       4   5   3   3   4  \n",
      "\n",
      "[3 rows x 64 columns]\n"
     ]
    }
   ],
   "source": [
    "X_pca = PCA(2).fit_transform(X)\n",
    "\n",
    "y_pred = KMeans(n_clusters=3).fit_predict(X_pca)\n",
    "# Plot the solution.\n",
    "plt.scatter(X_pca[:, 0], X_pca[:, 1], c=y_pred)\n",
    "plt.show()\n",
    "\n",
    "print('Comparing k-means clusters against the data:')\n",
    "print(pd.crosstab(y_pred, y))"
   ]
  },
  {
   "cell_type": "code",
   "execution_count": 191,
   "metadata": {},
   "outputs": [
    {
     "data": {
      "image/png": "[encoded data removed]",
      "text/plain": [
       "<matplotlib.figure.Figure at 0x2c277bb6518>"
      ]
     },
     "metadata": {},
     "output_type": "display_data"
    },
    {
     "name": "stdout",
     "output_type": "stream",
     "text": [
      "Comparing k-means clusters against the data:\n",
      "age    18  19  20  21  22  23   24   25   26   27 ...  72  73  74  75  76  77  \\\n",
      "row_0                                             ...                           \n",
      "0       4   5  22  33  63  84   96  106  136  157 ...   0   1   0   0   0   0   \n",
      "1       9   9  23  37  45  48   85   88  102  118 ...  10   5   4   7   2   1   \n",
      "2       5   5  15  20  41  53   62   78   89   98 ...   1   2   0   1   2   1   \n",
      "3       5   9  22  42  63  95  140  168  218  206 ...   0   0   0   0   0   0   \n",
      "4      10  13  29  39  63  66   96  115  157  154 ...  20  14   9   9   9   4   \n",
      "\n",
      "age    78  79  80  81  \n",
      "row_0                  \n",
      "0       0   0   0   0  \n",
      "1       1   0   0   0  \n",
      "2       0   0   0   1  \n",
      "3       0   0   0   0  \n",
      "4       4   3   3   4  \n",
      "\n",
      "[5 rows x 64 columns]\n"
     ]
    }
   ],
   "source": [
    "X_pca = PCA(2).fit_transform(X)\n",
    "\n",
    "y_pred = KMeans(n_clusters=5).fit_predict(X_pca)\n",
    "# Plot the solution.\n",
    "plt.scatter(X_pca[:, 0], X_pca[:, 1], c=y_pred)\n",
    "plt.show()\n",
    "\n",
    "print('Comparing k-means clusters against the data:')\n",
    "print(pd.crosstab(y_pred, y))"
   ]
  },
  {
   "cell_type": "markdown",
   "metadata": {},
   "source": [
    "At first glance I really don't like all this overlap from one cluster into another. Perhaps adding clusters, one for each age will help. "
   ]
  },
  {
   "cell_type": "code",
   "execution_count": 192,
   "metadata": {
    "scrolled": false
   },
   "outputs": [
    {
     "data": {
      "image/png": "[encoded data removed]",
      "text/plain": [
       "<matplotlib.figure.Figure at 0x2c20a68a828>"
      ]
     },
     "metadata": {},
     "output_type": "display_data"
    },
    {
     "name": "stdout",
     "output_type": "stream",
     "text": [
      "Comparing k-means clusters against the data:\n",
      "age    18  19  20  21  22  23  24  25  26  27 ...  72  73  74  75  76  77  78  \\\n",
      "row_0                                         ...                               \n",
      "0       2   2   1   4   4   1   4   5   5   8 ...   0   0   0   1   1   1   0   \n",
      "1       1   0   1   2   0   2   3   3   3   6 ...   0   1   0   0   0   0   0   \n",
      "2       2   0   1   1   1   0   2   1   9   4 ...   1   0   1   0   0   0   0   \n",
      "3       0   0   0   2   4   9  14  14  17  14 ...   0   0   0   0   0   0   0   \n",
      "4       0   1   4   6   4   4  16  12  12  15 ...   0   0   0   0   0   0   0   \n",
      "5       1   2   1   6   8   9  11  11  13  10 ...   0   0   0   0   0   0   0   \n",
      "6       0   0   0   0   1   4   3   3   4   2 ...   0   0   0   0   0   0   0   \n",
      "7       1   0   1   2   6   5   7   9   6   9 ...   0   0   0   0   0   0   0   \n",
      "8       1   0   3   3   8   3   9   7  16  12 ...   2   0   0   0   0   0   0   \n",
      "9       0   1   1   5   2   4   1   7   4  10 ...   0   0   0   0   0   0   0   \n",
      "10      0   0   1   5  10  14  13  14  17  21 ...   0   0   0   0   0   0   0   \n",
      "11      2   0   2   1   0   4   5   7  13   2 ...   2   4   3   1   4   2   0   \n",
      "12      1   1   3   4  10  15  18  31  29  24 ...   0   0   0   0   0   0   0   \n",
      "13      2   0   1   3   2   3   0   5   4   7 ...   2   1   1   0   0   0   0   \n",
      "14      0   2   1   4   2   4   8   5   9  10 ...   0   0   0   0   0   0   0   \n",
      "15      1   2   3   3   4  10  15  15  23  19 ...   1   0   0   0   0   0   1   \n",
      "16      1   0   1   2   6   5  15   8  14  13 ...   0   0   0   0   0   0   0   \n",
      "17      0   2   5   3   5   5  10  12  14  16 ...   0   0   0   0   0   0   0   \n",
      "18      0   0   1   2   5   6   4   1   4   6 ...   0   0   0   0   0   0   0   \n",
      "19      1   0   0   2   3   1   3   2   3   2 ...   0   0   0   0   1   0   0   \n",
      "20      0   0   0   2   4   3   2   6   7   8 ...   1   1   1   1   0   1   0   \n",
      "21      1   2   0   3   2   0   2   2   9   5 ...   2   0   0   0   0   0   0   \n",
      "22      0   0   2   5   7   5  11   6   8   9 ...   0   0   0   0   0   0   0   \n",
      "23      0   0   2   4   8   4   8  12  12  16 ...   1   0   0   1   0   0   0   \n",
      "24      1   0   3   3   5   6   9   9  16  20 ...   0   0   0   0   0   0   0   \n",
      "25      0   1   1   1   3   4   0   3   1   5 ...   0   0   0   0   0   0   0   \n",
      "26      0   4   1   1   2   2   3   5  10  11 ...   5   3   1   2   0   0   2   \n",
      "27      0   0   2   5   4  10  10  13  13  20 ...   0   0   1   0   0   0   0   \n",
      "28      1   1   1   4   2   5   7  10   8  10 ...   0   0   0   0   0   0   0   \n",
      "29      0   1   2   0   6   9   0   9  14  10 ...   0   0   0   0   0   0   0   \n",
      "...    ..  ..  ..  ..  ..  ..  ..  ..  ..  .. ...  ..  ..  ..  ..  ..  ..  ..   \n",
      "34      0   2   3   2   9   9  13  17  17  21 ...   0   0   0   0   0   0   0   \n",
      "35      0   0   5   5   9   5  13   9  16  14 ...   0   0   0   0   0   0   0   \n",
      "36      0   0   4   1   3   2   4   6   7   6 ...   2   3   2   1   0   0   0   \n",
      "37      0   3   1   4   6  12  10  14  25  13 ...   0   0   0   0   0   0   0   \n",
      "38      0   0   1   2   1   1   3   5   1   5 ...   1   0   0   1   0   1   0   \n",
      "39      0   1   0   3   2   2   4   4   9   5 ...   1   2   1   2   1   0   0   \n",
      "40      1   1   4   4   6   5   9  12   9  19 ...   1   0   0   0   0   0   0   \n",
      "41      0   0   6   2   3   7  10  10  16  16 ...   0   0   0   0   0   0   0   \n",
      "42      0   0   1   1   2   5   8   6   8  14 ...   0   0   0   0   0   0   0   \n",
      "43      1   1   2   0   2   3   4   6   7   8 ...   2   1   0   3   0   0   1   \n",
      "44      1   0   3   2   4   6   7   7  11   9 ...   0   0   0   0   0   0   0   \n",
      "45      0   1   0   4   0   2   0   7   1   2 ...   0   0   0   1   0   0   0   \n",
      "46      0   0   0   2   5  13  12  16  17  13 ...   0   0   0   0   0   0   0   \n",
      "47      0   0   1   4   5   8   7  13  16  11 ...   0   0   0   0   0   0   0   \n",
      "48      1   1   8   7   6  12  16  17  13  23 ...   0   0   0   0   0   0   1   \n",
      "49      0   0   1   0   1   2   2   5   2   1 ...   0   1   0   0   0   0   0   \n",
      "50      0   0   2   1   5   4   4   1   2   6 ...   0   0   0   0   0   0   0   \n",
      "51      0   0   1   1   1   1   1   1   4   5 ...   0   0   0   0   0   1   0   \n",
      "52      0   0   3   0   5  12   8  10  15  10 ...   0   0   0   0   0   0   0   \n",
      "53      0   0   3   1   9   5  15  19  19  21 ...   0   0   0   0   0   0   0   \n",
      "54      1   2   1   1   2   2   3   4   3   5 ...   0   0   0   0   0   0   0   \n",
      "55      2   0   1   3   1   4   5   6   6   5 ...   0   0   0   0   0   0   0   \n",
      "56      0   0   0   2   4  14  12  11  35  18 ...   0   0   0   0   0   0   0   \n",
      "57      1   1   0   2   1   1   9   4   2   5 ...   0   0   0   1   2   0   0   \n",
      "58      1   1   1   0   2   2   4   2   6  13 ...   0   0   0   0   0   0   0   \n",
      "59      1   0   2   1   5   2   5   7   8   6 ...   4   3   2   1   3   0   0   \n",
      "60      0   1   1   3   4   3   6   6  12  11 ...   0   0   0   0   0   0   0   \n",
      "61      2   0   1   6  13   8  10  13  15  16 ...   0   0   0   0   0   0   0   \n",
      "62      0   1   1   2   6   5   3  14   7  15 ...   0   0   0   0   0   0   0   \n",
      "63      0   1   2   1   1   4   5   3   9   5 ...   3   1   0   1   0   0   0   \n",
      "\n",
      "age    79  80  81  \n",
      "row_0              \n",
      "0       0   0   0  \n",
      "1       0   0   0  \n",
      "2       0   0   1  \n",
      "3       0   0   0  \n",
      "4       0   0   0  \n",
      "5       0   0   0  \n",
      "6       0   0   0  \n",
      "7       0   0   0  \n",
      "8       0   0   0  \n",
      "9       0   0   0  \n",
      "10      0   0   0  \n",
      "11      1   3   1  \n",
      "12      0   0   0  \n",
      "13      0   0   0  \n",
      "14      0   0   0  \n",
      "15      0   0   0  \n",
      "16      0   0   0  \n",
      "17      0   0   0  \n",
      "18      0   0   0  \n",
      "19      0   0   0  \n",
      "20      1   0   0  \n",
      "21      0   0   0  \n",
      "22      0   0   0  \n",
      "23      0   0   0  \n",
      "24      0   0   0  \n",
      "25      0   0   0  \n",
      "26      1   0   2  \n",
      "27      0   0   0  \n",
      "28      0   0   0  \n",
      "29      0   0   0  \n",
      "...    ..  ..  ..  \n",
      "34      0   0   0  \n",
      "35      0   0   0  \n",
      "36      0   0   0  \n",
      "37      0   0   0  \n",
      "38      0   0   0  \n",
      "39      0   0   0  \n",
      "40      0   0   0  \n",
      "41      0   0   0  \n",
      "42      0   0   0  \n",
      "43      0   0   0  \n",
      "44      0   0   0  \n",
      "45      0   0   0  \n",
      "46      0   0   0  \n",
      "47      0   0   0  \n",
      "48      0   0   0  \n",
      "49      0   0   0  \n",
      "50      0   0   0  \n",
      "51      0   0   0  \n",
      "52      0   0   0  \n",
      "53      0   0   0  \n",
      "54      0   0   0  \n",
      "55      0   0   0  \n",
      "56      0   0   0  \n",
      "57      0   0   0  \n",
      "58      0   0   0  \n",
      "59      0   0   0  \n",
      "60      0   0   0  \n",
      "61      0   0   1  \n",
      "62      0   0   0  \n",
      "63      0   0   0  \n",
      "\n",
      "[64 rows x 64 columns]\n"
     ]
    }
   ],
   "source": [
    "X_pca = PCA(2).fit_transform(X)\n",
    "\n",
    "y_pred = KMeans(n_clusters=64).fit_predict(X_pca)\n",
    "# Plot the solution.\n",
    "plt.scatter(X_pca[:, 0], X_pca[:, 1], c=y_pred)\n",
    "plt.show()\n",
    "\n",
    "print('Comparing k-means clusters against the data:')\n",
    "print(pd.crosstab(y_pred, y))"
   ]
  },
  {
   "cell_type": "markdown",
   "metadata": {},
   "source": [
    "This didn't help. Instead of something resembling a clear cluster for each age I see clusters spread across the ages. "
   ]
  },
  {
   "cell_type": "markdown",
   "metadata": {},
   "source": [
    "## K-Means Target = Gender"
   ]
  },
  {
   "cell_type": "code",
   "execution_count": 193,
   "metadata": {},
   "outputs": [],
   "source": [
    "dfg = df\n",
    "dfg = pd.get_dummies(data=df, columns=['gender'])"
   ]
  },
  {
   "cell_type": "code",
   "execution_count": 194,
   "metadata": {},
   "outputs": [],
   "source": [
    "dfg['5k'] = pd.to_numeric(dfg['5k'], errors='coerce')\n",
    "dfg['10k'] = pd.to_numeric(dfg['10k'], errors='coerce')\n",
    "dfg['20k'] = pd.to_numeric(dfg['20k'], errors='coerce')\n",
    "dfg['25k'] = pd.to_numeric(dfg['25k'], errors='coerce')\n",
    "dfg['30k'] = pd.to_numeric(dfg['30k'], errors='coerce')\n",
    "dfg['35k'] = pd.to_numeric(dfg['35k'], errors='coerce')\n",
    "dfg['40k'] = pd.to_numeric(dfg['40k'], errors='coerce')\n",
    "dfg['half'] = pd.to_numeric(dfg['half'], errors='coerce')"
   ]
  },
  {
   "cell_type": "code",
   "execution_count": 195,
   "metadata": {},
   "outputs": [],
   "source": [
    "dfg = dfg.drop(['name', 'bib', 'ctz', 'state', 'city', 'division', 'country', 'gender_F'], 1)"
   ]
  },
  {
   "cell_type": "code",
   "execution_count": 196,
   "metadata": {},
   "outputs": [],
   "source": [
    "dfg = dfg.dropna()"
   ]
  },
  {
   "cell_type": "code",
   "execution_count": 197,
   "metadata": {},
   "outputs": [],
   "source": [
    "X = dfg.drop(['gender_M'], 1)\n",
    "y = dfg['gender_M']"
   ]
  },
  {
   "cell_type": "code",
   "execution_count": 198,
   "metadata": {},
   "outputs": [
    {
     "data": {
      "image/png": "[encoded data removed]",
      "text/plain": [
       "<matplotlib.figure.Figure at 0x2c2777b0dd8>"
      ]
     },
     "metadata": {},
     "output_type": "display_data"
    },
    {
     "name": "stdout",
     "output_type": "stream",
     "text": [
      "Comparing k-means clusters against the data:\n",
      "gender_M     0     1\n",
      "row_0               \n",
      "0         5809  4661\n",
      "1         5128  5362\n",
      "2         3228  7461\n"
     ]
    }
   ],
   "source": [
    "X_pca = PCA(2).fit_transform(X)\n",
    "\n",
    "y_pred = KMeans(n_clusters=3).fit_predict(X_pca)\n",
    "# Plot the solution.\n",
    "plt.scatter(X_pca[:, 0], X_pca[:, 1], c=y_pred)\n",
    "plt.show()\n",
    "\n",
    "print('Comparing k-means clusters against the data:')\n",
    "print(pd.crosstab(y_pred, y))"
   ]
  },
  {
   "cell_type": "code",
   "execution_count": 199,
   "metadata": {
    "scrolled": false
   },
   "outputs": [
    {
     "data": {
      "image/png": "[encoded data removed]",
      "text/plain": [
       "<matplotlib.figure.Figure at 0x2c20a4c8e48>"
      ]
     },
     "metadata": {},
     "output_type": "display_data"
    },
    {
     "name": "stdout",
     "output_type": "stream",
     "text": [
      "Comparing k-means clusters against the data:\n",
      "gender_M     0     1\n",
      "row_0               \n",
      "0         2888  3383\n",
      "1         3090  3462\n",
      "2         3409  2909\n",
      "3         1213  4960\n",
      "4         3565  2770\n"
     ]
    }
   ],
   "source": [
    "X_pca = PCA(2).fit_transform(X)\n",
    "\n",
    "y_pred = KMeans(n_clusters=5).fit_predict(X_pca)\n",
    "# Plot the solution.\n",
    "plt.scatter(X_pca[:, 0], X_pca[:, 1], c=y_pred)\n",
    "plt.show()\n",
    "\n",
    "print('Comparing k-means clusters against the data:')\n",
    "print(pd.crosstab(y_pred, y))"
   ]
  },
  {
   "cell_type": "markdown",
   "metadata": {},
   "source": [
    "Look at how the models are virtually identical for age and gender. I still notice that like the clustering for Overall the clusters seem to follow a horizontal path instead of breaking off at the point to cluster around each limb. "
   ]
  },
  {
   "cell_type": "code",
   "execution_count": 200,
   "metadata": {},
   "outputs": [
    {
     "data": {
      "image/png": "[encoded data removed]",
      "text/plain": [
       "<matplotlib.figure.Figure at 0x2c277341a58>"
      ]
     },
     "metadata": {},
     "output_type": "display_data"
    },
    {
     "name": "stdout",
     "output_type": "stream",
     "text": [
      "Comparing k-means clusters against the data:\n",
      "gender_M     0     1\n",
      "row_0               \n",
      "0            0  2353\n",
      "1         2083  1832\n",
      "2            0  3083\n",
      "3         2713     0\n",
      "4         2706     0\n",
      "5            0  2595\n",
      "6         1633  2224\n",
      "7         2044  1920\n",
      "8         2358     0\n",
      "9          628  3477\n"
     ]
    }
   ],
   "source": [
    "X_pca = PCA(2).fit_transform(X)\n",
    "\n",
    "y_pred = KMeans(n_clusters=10).fit_predict(X_pca)\n",
    "# Plot the solution.\n",
    "plt.scatter(X_pca[:, 0], X_pca[:, 1], c=y_pred)\n",
    "plt.show()\n",
    "\n",
    "print('Comparing k-means clusters against the data:')\n",
    "print(pd.crosstab(y_pred, y))"
   ]
  },
  {
   "cell_type": "markdown",
   "metadata": {},
   "source": [
    "By increasing my number of cluster it seems I was able to break the limb clusters free of each other. "
   ]
  },
  {
   "cell_type": "code",
   "execution_count": 201,
   "metadata": {},
   "outputs": [
    {
     "data": {
      "image/png": "[encoded data removed]",
      "text/plain": [
       "<matplotlib.figure.Figure at 0x2c209a57438>"
      ]
     },
     "metadata": {},
     "output_type": "display_data"
    },
    {
     "name": "stdout",
     "output_type": "stream",
     "text": [
      "Comparing k-means clusters against the data:\n",
      "gender_M     0     1\n",
      "row_0               \n",
      "0            0  1442\n",
      "1         1487     0\n",
      "2         1608     0\n",
      "3          271  1986\n",
      "4            0  1393\n",
      "5            0  1821\n",
      "6         1603     0\n",
      "7         1674     0\n",
      "8            0  1499\n",
      "9            0  1421\n",
      "10           0  1430\n",
      "11        1632     0\n",
      "12        1114     0\n",
      "13           0  1388\n",
      "14           0  1532\n",
      "15           0  1932\n",
      "16        1614     0\n",
      "17        1530     0\n",
      "18           0  1640\n",
      "19        1632     0\n"
     ]
    }
   ],
   "source": [
    "X_pca = PCA(2).fit_transform(X)\n",
    "\n",
    "y_pred = KMeans(n_clusters=20).fit_predict(X_pca)\n",
    "# Plot the solution.\n",
    "plt.scatter(X_pca[:, 0], X_pca[:, 1], c=y_pred)\n",
    "plt.show()\n",
    "\n",
    "print('Comparing k-means clusters against the data:')\n",
    "print(pd.crosstab(y_pred, y))"
   ]
  },
  {
   "cell_type": "markdown",
   "metadata": {},
   "source": [
    "By increasing the clusters to 20 I have separated them almost completely. This is the crosstab I'll incorporate back into the dataframe."
   ]
  },
  {
   "cell_type": "code",
   "execution_count": 204,
   "metadata": {},
   "outputs": [
    {
     "ename": "AttributeError",
     "evalue": "type object 'KMeans' has no attribute 'labels'",
     "output_type": "error",
     "traceback": [
      "\u001b[1;31m---------------------------------------------------------------------------\u001b[0m",
      "\u001b[1;31mAttributeError\u001b[0m                            Traceback (most recent call last)",
      "\u001b[1;32m<ipython-input-204-e2b0b9db89b1>\u001b[0m in \u001b[0;36m<module>\u001b[1;34m()\u001b[0m\n\u001b[1;32m----> 1\u001b[1;33m \u001b[0mlabels\u001b[0m \u001b[1;33m=\u001b[0m \u001b[0mKMeans\u001b[0m\u001b[1;33m.\u001b[0m\u001b[0mlabels\u001b[0m  \u001b[1;31m# access your kmeans model's labels\u001b[0m\u001b[1;33m\u001b[0m\u001b[0m\n\u001b[0m\u001b[0;32m      2\u001b[0m \u001b[0mdf\u001b[0m\u001b[1;33m[\u001b[0m\u001b[1;34m'clusters'\u001b[0m\u001b[1;33m]\u001b[0m \u001b[1;33m=\u001b[0m \u001b[0mlabels\u001b[0m  \u001b[1;31m# assign the labels back to original dataframe\u001b[0m\u001b[1;33m\u001b[0m\u001b[0m\n",
      "\u001b[1;31mAttributeError\u001b[0m: type object 'KMeans' has no attribute 'labels'"
     ]
    }
   ],
   "source": [
    "labels = KMeans.labels_  # access your kmeans model's labels \n",
    "df['clusters'] = labels  # assign the labels back to original dataframe"
   ]
  },
  {
   "cell_type": "code",
   "execution_count": null,
   "metadata": {},
   "outputs": [],
   "source": []
  },
  {
   "cell_type": "code",
   "execution_count": null,
   "metadata": {},
   "outputs": [],
   "source": [
    "#Creating cluster feature for use as hue. \n",
    "#Will this need concatenation? \n",
    "# dfp['cluster'] = pd.crosstab(y_train, labels)"
   ]
  },
  {
   "cell_type": "code",
   "execution_count": null,
   "metadata": {},
   "outputs": [],
   "source": [
    "# plt.figure(figsize=(18,10))\n",
    "# ax = sns.countplot(x=\"age\", hue=\"gender\", data=df)"
   ]
  },
  {
   "cell_type": "code",
   "execution_count": null,
   "metadata": {},
   "outputs": [],
   "source": []
  },
  {
   "cell_type": "code",
   "execution_count": null,
   "metadata": {},
   "outputs": [],
   "source": []
  },
  {
   "cell_type": "markdown",
   "metadata": {},
   "source": [
    "## Conclusion"
   ]
  },
  {
   "cell_type": "markdown",
   "metadata": {},
   "source": [
    "By far the biggest obstacle to this challenge was in the processing time of my models. I would much preferred to not have to use PCA and see how these unsupervised models worked with the whole data. Yes, I'm doing all of this on a laptop that is limited in its processing power. A powerful hardware configuration would be better suited to the task. But I am still dismayed by the obstacle of time here, knowing that as a data scientist I will be working with datasets that contain tens of thousands of features and millions of rows as regular practice. The practice of trial and error with model hyperparameters hits a very big wall when every model takes hours to process. \n",
    "\n",
    "However, it was encouraging to see how the reduction of features being clustered on decreased processing time. Age has only 64 values. Gender only 2. But the Overall target has as many values as there are observations in the data. \n",
    "\n",
    "So now it comes to the process of taking the crosstab data and reintegrating it into my DataFrame so I can extract useful knowledge that could be reported. "
   ]
  },
  {
   "cell_type": "code",
   "execution_count": null,
   "metadata": {},
   "outputs": [],
   "source": []
  }
 ],
 "metadata": {
  "kernelspec": {
   "display_name": "Python 3",
   "language": "python",
   "name": "python3"
  },
  "language_info": {
   "codemirror_mode": {
    "name": "ipython",
    "version": 3
   },
   "file_extension": ".py",
   "mimetype": "text/x-python",
   "name": "python",
   "nbconvert_exporter": "python",
   "pygments_lexer": "ipython3",
   "version": "3.6.4"
  }
 },
 "nbformat": 4,
 "nbformat_minor": 2
}
