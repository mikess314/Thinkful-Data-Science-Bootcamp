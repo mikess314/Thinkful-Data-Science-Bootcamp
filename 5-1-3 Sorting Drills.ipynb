{
 "cells": [
  {
   "cell_type": "code",
   "execution_count": 1,
   "metadata": {},
   "outputs": [],
   "source": [
    "import time\n",
    "import random\n",
    "\n",
    "# Set seed.\n",
    "random.seed(a=100)\n",
    "\n",
    "# Create our default list.\n",
    "short_list = list(random.sample(range(1000000), 10))\n",
    "long_list = list(random.sample(range(1000000), 10000))"
   ]
  },
  {
   "cell_type": "code",
   "execution_count": 2,
   "metadata": {},
   "outputs": [
    {
     "name": "stdout",
     "output_type": "stream",
     "text": [
      "--- 0.01563096046447754 seconds ---\n"
     ]
    }
   ],
   "source": [
    "# Start Timer\n",
    "start_time = time.time()\n",
    "\n",
    "# Sort the default list. Note that .sort() will sort in place, which would alter default_list.\n",
    "sorted(long_list)\n",
    "\n",
    "# Print time to show runtime\n",
    "print(\"--- %s seconds ---\" % (time.time() - start_time))"
   ]
  },
  {
   "cell_type": "code",
   "execution_count": 3,
   "metadata": {},
   "outputs": [
    {
     "name": "stdout",
     "output_type": "stream",
     "text": [
      "--- 0.0 seconds ---\n"
     ]
    }
   ],
   "source": [
    "# Start Timer\n",
    "start_time = time.time()\n",
    "\n",
    "# Sort the default list. Note that .sort() will sort in place, which would alter default_list.\n",
    "sorted(short_list)\n",
    "\n",
    "# Print time to show runtime\n",
    "print(\"--- %s seconds ---\" % (time.time() - start_time))"
   ]
  },
  {
   "cell_type": "markdown",
   "metadata": {},
   "source": [
    "## DRILL\n",
    "\n",
    "Return to the [sorting wiki page](https://en.wikipedia.org/wiki/Sorting_algorithm) and pick an algorithm we haven't covered here (you probably want to pick one of the simpler ones, but it's up to you. Implement it in Python below and see how it compares in sorting our short and long lists. You should be able to easily find guides on how to implement any of the algorithms. Can you figure out why it runs faster or slower than our other sorting algorithms?\n",
    "\n",
    "Some good sorts to try are:\n",
    "* Heap Sort\n",
    "* Selection Sort\n",
    "* QuickSort"
   ]
  },
  {
   "cell_type": "markdown",
   "metadata": {},
   "source": [
    "## Max Heap"
   ]
  },
  {
   "cell_type": "code",
   "execution_count": 5,
   "metadata": {},
   "outputs": [],
   "source": [
    "# Max Heap iterates over arrays\n",
    "\n",
    "import numpy as np\n",
    "\n",
    "long_array = np.asarray(long_list)"
   ]
  },
  {
   "cell_type": "code",
   "execution_count": 6,
   "metadata": {},
   "outputs": [
    {
     "data": {
      "text/plain": [
       "array([454572, 531486, 838882, ..., 747684, 248338, 449940])"
      ]
     },
     "execution_count": 6,
     "metadata": {},
     "output_type": "execute_result"
    }
   ],
   "source": [
    "long_array"
   ]
  },
  {
   "cell_type": "code",
   "execution_count": 14,
   "metadata": {},
   "outputs": [],
   "source": [
    "class MaxHeap:\n",
    "    # define Max Heap\n",
    "    def __init__(self, items=[]):\n",
    "        super().__init__()\n",
    "        self.heap = [0]\n",
    "        for i in items:\n",
    "            self.heap.append(i)\n",
    "            self.__floatUp(len(self.heap) - 1)\n",
    "    \n",
    "    #Push Function\n",
    "    def push(self, data):\n",
    "        self.heap.append(data)\n",
    "        self.__floatUp(len(self.heap) - 1)\n",
    "    \n",
    "    #Peel Function\n",
    "    def peek(self):\n",
    "        if self.heap[1]:\n",
    "            return self.heap[1]\n",
    "        else:\n",
    "            return False\n",
    "    \n",
    "    # Pop Function  \n",
    "    def pop(self):\n",
    "        if len(self.heap) > 2:\n",
    "            self.__swap(1, len(self.heap) - 1)\n",
    "            max = self.heap.pop()\n",
    "            self.__bubbleDown(1)\n",
    "        elif len(self.heap) == 2:\n",
    "            max = self.heap.pop()\n",
    "        else:\n",
    "            max = False\n",
    "        return max\n",
    "    \n",
    "    #Swap Function\n",
    "    def __swap(self, i, j):\n",
    "        self.heap[i], self.heap[j] = self.heap[j], self.heap[i]\n",
    "    \n",
    "    # floatUp Function\n",
    "    def __floatUp(self, index):\n",
    "        parent = index//2\n",
    "        if index <= 1:\n",
    "            return\n",
    "        elif self.heap[index] > self.heap[parent]:\n",
    "            self.__swap(index, parent)\n",
    "            self.__floatUp(parent)\n",
    "    \n",
    "    # Define bubbleDown (aka maxHeapify)\n",
    "    def __bubbleDown(self, index):\n",
    "        left = index * 2\n",
    "        right = index * 2 + 1\n",
    "        largest = index\n",
    "        if len(self.heap) > left and self.heap[largest] < self.heap[left]:\n",
    "            largest = left\n",
    "        if len(self.heap) > right and self.heap[largest] < self.heap[right]:\n",
    "            largest = right\n",
    "        if largest != index:\n",
    "            self.__swap(index, largest)\n",
    "            self.__bubbleDown(largest)"
   ]
  },
  {
   "cell_type": "code",
   "execution_count": 18,
   "metadata": {},
   "outputs": [
    {
     "name": "stdout",
     "output_type": "stream",
     "text": [
      "--- 0.027004718780517578 seconds ---\n"
     ]
    }
   ],
   "source": [
    "# Start Timer\n",
    "start_time = time.time()\n",
    "\n",
    "long_heap = MaxHeap(long_array)\n",
    "\n",
    "# Print time to show runtime\n",
    "print(\"--- %s seconds ---\" % (time.time() - start_time))"
   ]
  },
  {
   "cell_type": "code",
   "execution_count": 20,
   "metadata": {},
   "outputs": [
    {
     "data": {
      "text/plain": [
       "<__main__.MaxHeap at 0x21fe3c60668>"
      ]
     },
     "execution_count": 20,
     "metadata": {},
     "output_type": "execute_result"
    }
   ],
   "source": [
    "long_heap"
   ]
  },
  {
   "cell_type": "code",
   "execution_count": 25,
   "metadata": {},
   "outputs": [
    {
     "name": "stdout",
     "output_type": "stream",
     "text": [
      "[0, 999886, 999752, 999247, 999430, 999409, 999240, 999122, 999343, 999412, 999179, 998514, 998229, \n"
     ]
    }
   ],
   "source": [
    "print(str(long_heap.heap[0:len(long_heap.heap)])[:100])"
   ]
  },
  {
   "cell_type": "code",
   "execution_count": 32,
   "metadata": {},
   "outputs": [
    {
     "name": "stdout",
     "output_type": "stream",
     "text": [
      "--- 0.1381683349609375 seconds ---\n"
     ]
    }
   ],
   "source": [
    "# Max heap will work with lists, but it takes longer than an array\n",
    "start_time = time.time()\n",
    "\n",
    "long__list_heap = MaxHeap(long_list)\n",
    "\n",
    "# Print time to show runtime\n",
    "print(\"--- %s seconds ---\" % (time.time() - start_time))"
   ]
  },
  {
   "cell_type": "markdown",
   "metadata": {},
   "source": [
    "## Selection Sort\n",
    "\n",
    "Find the smallest value and swap it into the 0th position. run in O(n^2) so it's not very fast and is best for small lists (<10,000 items). "
   ]
  },
  {
   "cell_type": "code",
   "execution_count": 29,
   "metadata": {},
   "outputs": [],
   "source": [
    "def selection_sort(A):\n",
    "    #outer loop variabl i goes from range 0 to 2nd to last item in list\n",
    "    for i in range (0, len(A) - 1):\n",
    "        minIndex = i\n",
    "        # iterate through unsorted part of list\n",
    "        for j in range (i + 1, len(A)):\n",
    "            #compare and swap\n",
    "            if A[j] < A[minIndex]:\n",
    "                minIndex = j\n",
    "        if minIndex != i:\n",
    "            A[i], A[minIndex] = A[minIndex], A[i]"
   ]
  },
  {
   "cell_type": "code",
   "execution_count": 30,
   "metadata": {},
   "outputs": [
    {
     "name": "stdout",
     "output_type": "stream",
     "text": [
      "--- 7.697603702545166 seconds ---\n"
     ]
    }
   ],
   "source": [
    "# Start Timer\n",
    "start_time = time.time()\n",
    "\n",
    "long_select = selection_sort(long_list)\n",
    "\n",
    "# Print time to show runtime\n",
    "print(\"--- %s seconds ---\" % (time.time() - start_time))"
   ]
  },
  {
   "cell_type": "code",
   "execution_count": 31,
   "metadata": {},
   "outputs": [
    {
     "name": "stdout",
     "output_type": "stream",
     "text": [
      "--- 0.0 seconds ---\n"
     ]
    }
   ],
   "source": [
    "# Start Timer\n",
    "start_time = time.time()\n",
    "\n",
    "short_select = selection_sort(short_list)\n",
    "\n",
    "# Print time to show runtime\n",
    "print(\"--- %s seconds ---\" % (time.time() - start_time))"
   ]
  },
  {
   "cell_type": "markdown",
   "metadata": {},
   "source": [
    "## QuickSort\n",
    "\n",
    "Selects a pivot point in the list and swings all values smaller than the pivot to the left of the pivot. Then creates a left partition and a right partition. It opertes recursively, so it is also best with small lists. So the most important thing is to select your pivot. Randomly chosen pivots ensure O(n log n), worst case is O(n^2)"
   ]
  },
  {
   "cell_type": "code",
   "execution_count": 39,
   "metadata": {},
   "outputs": [],
   "source": [
    "# QuickSort with pivot of median of first, last, and center values\n",
    "def quick_sort(A):\n",
    "    # pass in our list (A), starting point, and ending (high) index\n",
    "    quick_sort2(A, 0, len(A) - 1)\n",
    "    \n",
    "def quick_sort2(A, low, hi):\n",
    "    #where the partition is created and values assigned to a side\n",
    "    if low < hi:\n",
    "        p = partition(A, low, hi)\n",
    "        quick_sort2(A, low, p - 1)\n",
    "        quick_sort2(A, p + 1, hi)\n",
    "        \n",
    "def get_pivot(A, low, hi):\n",
    "    mid = (hi + low) // 2\n",
    "    pivot = hi\n",
    "    if A[low] < A[mid]:\n",
    "        if A[mid] < A[hi]:\n",
    "            pivot = mid\n",
    "    elif A[low] < A[hi]:\n",
    "        pivot = low\n",
    "    return pivot\n",
    "\n",
    "def partition(A, low, hi):\n",
    "    pivotIndex = get_pivot(A, low, hi)\n",
    "    pivotValue = A[pivotIndex]\n",
    "    A[pivotIndex], A[low] = A[low], A[pivotIndex]\n",
    "    border = low\n",
    "    \n",
    "    for i in range(low, hi + 1):\n",
    "        if A[i] < pivotValue:\n",
    "            border += 1\n",
    "            A[i], A[border] = A[border], A[i]\n",
    "    A[low], A[border] = A[border], A[low]\n",
    "    \n",
    "    return"
   ]
  },
  {
   "cell_type": "code",
   "execution_count": 40,
   "metadata": {},
   "outputs": [
    {
     "ename": "TypeError",
     "evalue": "'<' not supported between instances of 'int' and 'NoneType'",
     "output_type": "error",
     "traceback": [
      "\u001b[1;31m---------------------------------------------------------------------------\u001b[0m",
      "\u001b[1;31mTypeError\u001b[0m                                 Traceback (most recent call last)",
      "\u001b[1;32m<ipython-input-40-f2dd84e49d83>\u001b[0m in \u001b[0;36m<module>\u001b[1;34m()\u001b[0m\n\u001b[0;32m      3\u001b[0m \u001b[0mstart_time\u001b[0m \u001b[1;33m=\u001b[0m \u001b[0mtime\u001b[0m\u001b[1;33m.\u001b[0m\u001b[0mtime\u001b[0m\u001b[1;33m(\u001b[0m\u001b[1;33m)\u001b[0m\u001b[1;33m\u001b[0m\u001b[0m\n\u001b[0;32m      4\u001b[0m \u001b[1;33m\u001b[0m\u001b[0m\n\u001b[1;32m----> 5\u001b[1;33m \u001b[0mquick_short\u001b[0m \u001b[1;33m=\u001b[0m \u001b[0mquick_sort\u001b[0m\u001b[1;33m(\u001b[0m\u001b[0mshort_list\u001b[0m\u001b[1;33m)\u001b[0m\u001b[1;33m\u001b[0m\u001b[0m\n\u001b[0m\u001b[0;32m      6\u001b[0m \u001b[1;33m\u001b[0m\u001b[0m\n\u001b[0;32m      7\u001b[0m \u001b[1;31m# Print time to show runtime\u001b[0m\u001b[1;33m\u001b[0m\u001b[1;33m\u001b[0m\u001b[0m\n",
      "\u001b[1;32m<ipython-input-39-d805a15cb006>\u001b[0m in \u001b[0;36mquick_sort\u001b[1;34m(A)\u001b[0m\n\u001b[0;32m      2\u001b[0m \u001b[1;32mdef\u001b[0m \u001b[0mquick_sort\u001b[0m\u001b[1;33m(\u001b[0m\u001b[0mA\u001b[0m\u001b[1;33m)\u001b[0m\u001b[1;33m:\u001b[0m\u001b[1;33m\u001b[0m\u001b[0m\n\u001b[0;32m      3\u001b[0m     \u001b[1;31m# pass in our list (A), starting point, and ending (high) index\u001b[0m\u001b[1;33m\u001b[0m\u001b[1;33m\u001b[0m\u001b[0m\n\u001b[1;32m----> 4\u001b[1;33m     \u001b[0mquick_sort2\u001b[0m\u001b[1;33m(\u001b[0m\u001b[0mA\u001b[0m\u001b[1;33m,\u001b[0m \u001b[1;36m0\u001b[0m\u001b[1;33m,\u001b[0m \u001b[0mlen\u001b[0m\u001b[1;33m(\u001b[0m\u001b[0mA\u001b[0m\u001b[1;33m)\u001b[0m \u001b[1;33m-\u001b[0m \u001b[1;36m1\u001b[0m\u001b[1;33m)\u001b[0m\u001b[1;33m\u001b[0m\u001b[0m\n\u001b[0m\u001b[0;32m      5\u001b[0m \u001b[1;33m\u001b[0m\u001b[0m\n\u001b[0;32m      6\u001b[0m \u001b[1;32mdef\u001b[0m \u001b[0mquick_sort2\u001b[0m\u001b[1;33m(\u001b[0m\u001b[0mA\u001b[0m\u001b[1;33m,\u001b[0m \u001b[0mlow\u001b[0m\u001b[1;33m,\u001b[0m \u001b[0mhi\u001b[0m\u001b[1;33m)\u001b[0m\u001b[1;33m:\u001b[0m\u001b[1;33m\u001b[0m\u001b[0m\n",
      "\u001b[1;32m<ipython-input-39-d805a15cb006>\u001b[0m in \u001b[0;36mquick_sort2\u001b[1;34m(A, low, hi)\u001b[0m\n\u001b[0;32m      8\u001b[0m     \u001b[1;32mif\u001b[0m \u001b[0mlow\u001b[0m \u001b[1;33m<\u001b[0m \u001b[0mhi\u001b[0m\u001b[1;33m:\u001b[0m\u001b[1;33m\u001b[0m\u001b[0m\n\u001b[0;32m      9\u001b[0m         \u001b[0mp\u001b[0m \u001b[1;33m=\u001b[0m \u001b[0mpartition\u001b[0m\u001b[1;33m(\u001b[0m\u001b[0mA\u001b[0m\u001b[1;33m,\u001b[0m \u001b[0mlow\u001b[0m\u001b[1;33m,\u001b[0m \u001b[0mhi\u001b[0m\u001b[1;33m)\u001b[0m\u001b[1;33m\u001b[0m\u001b[0m\n\u001b[1;32m---> 10\u001b[1;33m         \u001b[0mquick_sort2\u001b[0m\u001b[1;33m(\u001b[0m\u001b[0mA\u001b[0m\u001b[1;33m,\u001b[0m \u001b[0mlow\u001b[0m\u001b[1;33m,\u001b[0m \u001b[0mp\u001b[0m\u001b[1;33m)\u001b[0m\u001b[1;33m\u001b[0m\u001b[0m\n\u001b[0m\u001b[0;32m     11\u001b[0m         \u001b[0mquick_sort2\u001b[0m\u001b[1;33m(\u001b[0m\u001b[0mA\u001b[0m\u001b[1;33m,\u001b[0m \u001b[0mp\u001b[0m \u001b[1;33m+\u001b[0m \u001b[1;36m1\u001b[0m\u001b[1;33m,\u001b[0m \u001b[0mhi\u001b[0m\u001b[1;33m)\u001b[0m\u001b[1;33m\u001b[0m\u001b[0m\n\u001b[0;32m     12\u001b[0m \u001b[1;33m\u001b[0m\u001b[0m\n",
      "\u001b[1;32m<ipython-input-39-d805a15cb006>\u001b[0m in \u001b[0;36mquick_sort2\u001b[1;34m(A, low, hi)\u001b[0m\n\u001b[0;32m      6\u001b[0m \u001b[1;32mdef\u001b[0m \u001b[0mquick_sort2\u001b[0m\u001b[1;33m(\u001b[0m\u001b[0mA\u001b[0m\u001b[1;33m,\u001b[0m \u001b[0mlow\u001b[0m\u001b[1;33m,\u001b[0m \u001b[0mhi\u001b[0m\u001b[1;33m)\u001b[0m\u001b[1;33m:\u001b[0m\u001b[1;33m\u001b[0m\u001b[0m\n\u001b[0;32m      7\u001b[0m     \u001b[1;31m#where the partition is created and values assigned to a side\u001b[0m\u001b[1;33m\u001b[0m\u001b[1;33m\u001b[0m\u001b[0m\n\u001b[1;32m----> 8\u001b[1;33m     \u001b[1;32mif\u001b[0m \u001b[0mlow\u001b[0m \u001b[1;33m<\u001b[0m \u001b[0mhi\u001b[0m\u001b[1;33m:\u001b[0m\u001b[1;33m\u001b[0m\u001b[0m\n\u001b[0m\u001b[0;32m      9\u001b[0m         \u001b[0mp\u001b[0m \u001b[1;33m=\u001b[0m \u001b[0mpartition\u001b[0m\u001b[1;33m(\u001b[0m\u001b[0mA\u001b[0m\u001b[1;33m,\u001b[0m \u001b[0mlow\u001b[0m\u001b[1;33m,\u001b[0m \u001b[0mhi\u001b[0m\u001b[1;33m)\u001b[0m\u001b[1;33m\u001b[0m\u001b[0m\n\u001b[0;32m     10\u001b[0m         \u001b[0mquick_sort2\u001b[0m\u001b[1;33m(\u001b[0m\u001b[0mA\u001b[0m\u001b[1;33m,\u001b[0m \u001b[0mlow\u001b[0m\u001b[1;33m,\u001b[0m \u001b[0mp\u001b[0m\u001b[1;33m)\u001b[0m\u001b[1;33m\u001b[0m\u001b[0m\n",
      "\u001b[1;31mTypeError\u001b[0m: '<' not supported between instances of 'int' and 'NoneType'"
     ]
    }
   ],
   "source": [
    "short_list = list(random.sample(range(1000000), 10))\n",
    "\n",
    "start_time = time.time()\n",
    "\n",
    "quick_short = quick_sort(short_list)\n",
    "\n",
    "# Print time to show runtime\n",
    "print(\"--- %s seconds ---\" % (time.time() - start_time))"
   ]
  },
  {
   "cell_type": "code",
   "execution_count": 37,
   "metadata": {},
   "outputs": [
    {
     "data": {
      "text/plain": [
       "[152745,\n",
       " 183236,\n",
       " 366725,\n",
       " 412125,\n",
       " 477025,\n",
       " 481850,\n",
       " 739784,\n",
       " 767514,\n",
       " 808225,\n",
       " 997948]"
      ]
     },
     "execution_count": 37,
     "metadata": {},
     "output_type": "execute_result"
    }
   ],
   "source": [
    "short_list"
   ]
  },
  {
   "cell_type": "code",
   "execution_count": 46,
   "metadata": {},
   "outputs": [],
   "source": [
    "def quick_sort(A):\n",
    "    quick_sort2(A, 0, len(A)-1)\n",
    "\n",
    "def quick_sort2(A, low, hi):\n",
    "    #You have to set your threshold manually here. I would prefer it was found and defined by the code\n",
    "    if hi-low < 500000 and low < hi:\n",
    "        quick_selection(A, low, hi)\n",
    "    elif low < hi:\n",
    "        p = partition(A, low, hi)\n",
    "        quick_sort2(A, low, p - 1)\n",
    "        quick_sort2(A, p + 1, hi)\n",
    "\n",
    "def get_pivot(A, low, hi):\n",
    "    mid = (hi + low) // 2\n",
    "    s = sorted([A[low], A[mid], A[hi]])\n",
    "    if s[1] == A[low]:\n",
    "        return low\n",
    "    elif s[1] == A[mid]:\n",
    "        return mid\n",
    "    return hi\n",
    "\n",
    "def partition(A, low, hi):\n",
    "    pivotIndex = get_pivot(A, low, hi)\n",
    "    pivotValue = A[pivotIndex]\n",
    "    A[pivotIndex], A[low] = A[low], A[pivotIndex]\n",
    "    border = low\n",
    "\n",
    "    for i in range(low, hi+1):\n",
    "        if A[i] < pivotValue:\n",
    "            border += 1\n",
    "            A[i], A[border] = A[border], A[i]\n",
    "    A[low], A[border] = A[border], A[low]\n",
    "\n",
    "    return (border)\n",
    "\n",
    "def quick_selection(x, first, last):\n",
    "    for i in range (first, last):\n",
    "        minIndex = i\n",
    "        for j in range (i+1, last+1):\n",
    "            if x[j] < x[minIndex]:\n",
    "                minIndex = j\n",
    "        if minIndex != i:\n",
    "            x[i], x[minIndex] = x[minIndex], x[i]"
   ]
  },
  {
   "cell_type": "code",
   "execution_count": 47,
   "metadata": {},
   "outputs": [
    {
     "name": "stdout",
     "output_type": "stream",
     "text": [
      "--- 0.0 seconds ---\n"
     ]
    }
   ],
   "source": [
    "short_list = list(random.sample(range(1000000), 10))\n",
    "\n",
    "start_time = time.time()\n",
    "\n",
    "quick_short = quick_sort(short_list)\n",
    "\n",
    "# Print time to show runtime\n",
    "print(\"--- %s seconds ---\" % (time.time() - start_time))"
   ]
  },
  {
   "cell_type": "code",
   "execution_count": 48,
   "metadata": {},
   "outputs": [
    {
     "name": "stdout",
     "output_type": "stream",
     "text": [
      "--- 5.02677583694458 seconds ---\n"
     ]
    }
   ],
   "source": [
    "long_list = list(random.sample(range(1000000), 10000))\n",
    "\n",
    "start_time = time.time()\n",
    "\n",
    "quick_long = quick_sort(long_list)\n",
    "\n",
    "# Print time to show runtime\n",
    "print(\"--- %s seconds ---\" % (time.time() - start_time))"
   ]
  },
  {
   "cell_type": "code",
   "execution_count": null,
   "metadata": {},
   "outputs": [],
   "source": []
  }
 ],
 "metadata": {
  "kernelspec": {
   "display_name": "Python 3",
   "language": "python",
   "name": "python3"
  },
  "language_info": {
   "codemirror_mode": {
    "name": "ipython",
    "version": 3
   },
   "file_extension": ".py",
   "mimetype": "text/x-python",
   "name": "python",
   "nbconvert_exporter": "python",
   "pygments_lexer": "ipython3",
   "version": "3.6.4"
  }
 },
 "nbformat": 4,
 "nbformat_minor": 2
}
