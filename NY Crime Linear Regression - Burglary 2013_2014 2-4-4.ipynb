{
 "cells": [
  {
   "cell_type": "code",
   "execution_count": 121,
   "metadata": {},
   "outputs": [],
   "source": [
    "import pandas as pd\n",
    "import numpy as np\n",
    "import statsmodels.formula.api as smf\n",
    "\n",
    "from statsmodels.sandbox.regression.predstd import wls_prediction_std\n",
    "from matplotlib import pyplot as plt\n",
    "from itertools import combinations\n",
    "from sklearn import linear_model, feature_selection\n",
    "from sklearn.decomposition import PCA\n",
    "from sklearn.cross_validation import train_test_split\n",
    "from sklearn.linear_model import LinearRegression\n",
    "from sklearn.metrics import roc_auc_score, mean_squared_error, r2_score\n",
    "from sklearn import svm\n",
    "from sklearn.preprocessing import PolynomialFeatures\n",
    "from sklearn.preprocessing import Imputer\n",
    "from sklearn.model_selection import KFold\n",
    "from sklearn.model_selection import cross_val_score\n",
    "from sklearn.metrics import confusion_matrix\n",
    "from sklearn.naive_bayes import GaussianNB\n",
    "\n",
    "%matplotlib inline\n",
    "pd.options.display.float_format = '{:.3f}'.format\n",
    "\n",
    "# Suppress annoying harmless error.\n",
    "import warnings\n",
    "warnings.filterwarnings(action=\"ignore\", module=\"scipy\", message=\"^internal gelsd\")"
   ]
  },
  {
   "cell_type": "code",
   "execution_count": 122,
   "metadata": {},
   "outputs": [
    {
     "data": {
      "text/html": [
       "<div>\n",
       "<style scoped>\n",
       "    .dataframe tbody tr th:only-of-type {\n",
       "        vertical-align: middle;\n",
       "    }\n",
       "\n",
       "    .dataframe tbody tr th {\n",
       "        vertical-align: top;\n",
       "    }\n",
       "\n",
       "    .dataframe thead th {\n",
       "        text-align: right;\n",
       "    }\n",
       "</style>\n",
       "<table border=\"1\" class=\"dataframe\">\n",
       "  <thead>\n",
       "    <tr style=\"text-align: right;\">\n",
       "      <th></th>\n",
       "      <th>Population</th>\n",
       "      <th>RapeLegacy</th>\n",
       "      <th>Robbery</th>\n",
       "      <th>AggravatedAssault</th>\n",
       "      <th>Burglary</th>\n",
       "      <th>LarcenyTheft</th>\n",
       "      <th>MotorVehicleTheft</th>\n",
       "      <th>Arson3</th>\n",
       "    </tr>\n",
       "  </thead>\n",
       "  <tbody>\n",
       "    <tr>\n",
       "      <th>0</th>\n",
       "      <td>1,861</td>\n",
       "      <td>0</td>\n",
       "      <td>0</td>\n",
       "      <td>0</td>\n",
       "      <td>2</td>\n",
       "      <td>10</td>\n",
       "      <td>0</td>\n",
       "      <td>0.000</td>\n",
       "    </tr>\n",
       "    <tr>\n",
       "      <th>1</th>\n",
       "      <td>2,577</td>\n",
       "      <td>0</td>\n",
       "      <td>0</td>\n",
       "      <td>3</td>\n",
       "      <td>3</td>\n",
       "      <td>20</td>\n",
       "      <td>1</td>\n",
       "      <td>0.000</td>\n",
       "    </tr>\n",
       "    <tr>\n",
       "      <th>2</th>\n",
       "      <td>2,846</td>\n",
       "      <td>0</td>\n",
       "      <td>0</td>\n",
       "      <td>3</td>\n",
       "      <td>1</td>\n",
       "      <td>15</td>\n",
       "      <td>0</td>\n",
       "      <td>0.000</td>\n",
       "    </tr>\n",
       "    <tr>\n",
       "      <th>3</th>\n",
       "      <td>97,956</td>\n",
       "      <td>30</td>\n",
       "      <td>227</td>\n",
       "      <td>526</td>\n",
       "      <td>705</td>\n",
       "      <td>3,243</td>\n",
       "      <td>142</td>\n",
       "      <td>nan</td>\n",
       "    </tr>\n",
       "    <tr>\n",
       "      <th>4</th>\n",
       "      <td>6,388</td>\n",
       "      <td>3</td>\n",
       "      <td>4</td>\n",
       "      <td>16</td>\n",
       "      <td>53</td>\n",
       "      <td>165</td>\n",
       "      <td>5</td>\n",
       "      <td>nan</td>\n",
       "    </tr>\n",
       "    <tr>\n",
       "      <th>5</th>\n",
       "      <td>4,089</td>\n",
       "      <td>0</td>\n",
       "      <td>3</td>\n",
       "      <td>2</td>\n",
       "      <td>10</td>\n",
       "      <td>36</td>\n",
       "      <td>0</td>\n",
       "      <td>nan</td>\n",
       "    </tr>\n",
       "    <tr>\n",
       "      <th>6</th>\n",
       "      <td>1,781</td>\n",
       "      <td>0</td>\n",
       "      <td>0</td>\n",
       "      <td>3</td>\n",
       "      <td>0</td>\n",
       "      <td>10</td>\n",
       "      <td>0</td>\n",
       "      <td>0.000</td>\n",
       "    </tr>\n",
       "    <tr>\n",
       "      <th>7</th>\n",
       "      <td>118,296</td>\n",
       "      <td>7</td>\n",
       "      <td>31</td>\n",
       "      <td>68</td>\n",
       "      <td>204</td>\n",
       "      <td>1,882</td>\n",
       "      <td>32</td>\n",
       "      <td>3.000</td>\n",
       "    </tr>\n",
       "    <tr>\n",
       "      <th>8</th>\n",
       "      <td>9,519</td>\n",
       "      <td>2</td>\n",
       "      <td>4</td>\n",
       "      <td>3</td>\n",
       "      <td>16</td>\n",
       "      <td>188</td>\n",
       "      <td>6</td>\n",
       "      <td>1.000</td>\n",
       "    </tr>\n",
       "    <tr>\n",
       "      <th>9</th>\n",
       "      <td>18,182</td>\n",
       "      <td>0</td>\n",
       "      <td>12</td>\n",
       "      <td>18</td>\n",
       "      <td>99</td>\n",
       "      <td>291</td>\n",
       "      <td>15</td>\n",
       "      <td>0.000</td>\n",
       "    </tr>\n",
       "  </tbody>\n",
       "</table>\n",
       "</div>"
      ],
      "text/plain": [
       "  Population RapeLegacy Robbery AggravatedAssault Burglary LarcenyTheft  \\\n",
       "0      1,861          0       0                 0        2           10   \n",
       "1      2,577          0       0                 3        3           20   \n",
       "2      2,846          0       0                 3        1           15   \n",
       "3     97,956         30     227               526      705        3,243   \n",
       "4      6,388          3       4                16       53          165   \n",
       "5      4,089          0       3                 2       10           36   \n",
       "6      1,781          0       0                 3        0           10   \n",
       "7    118,296          7      31                68      204        1,882   \n",
       "8      9,519          2       4                 3       16          188   \n",
       "9     18,182          0      12                18       99          291   \n",
       "\n",
       "  MotorVehicleTheft  Arson3  \n",
       "0                 0   0.000  \n",
       "1                 1   0.000  \n",
       "2                 0   0.000  \n",
       "3               142     nan  \n",
       "4                 5     nan  \n",
       "5                 0     nan  \n",
       "6                 0   0.000  \n",
       "7                32   3.000  \n",
       "8                 6   1.000  \n",
       "9                15   0.000  "
      ]
     },
     "execution_count": 122,
     "metadata": {},
     "output_type": "execute_result"
    }
   ],
   "source": [
    "crime = pd.read_csv('offenses_by_city_2013.csv',\n",
    "                    header=0,\n",
    "                    names=['City', 'Population', 'ViolentCrime', 'Manslaughter', 'RapeCurrent', 'RapeLegacy', 'Robbery', 'AggravatedAssault', 'PropertyCrime', 'Burglary', 'LarcenyTheft', 'MotorVehicleTheft', 'Arson3'],\n",
    "                    )\n",
    "crime = crime.drop(['City', 'Manslaughter', 'PropertyCrime', 'ViolentCrime', 'RapeCurrent'], axis=1)\n",
    "crime.head(10)"
   ]
  },
  {
   "cell_type": "code",
   "execution_count": 123,
   "metadata": {},
   "outputs": [],
   "source": [
    "for col in crime.columns[:-1]:\n",
    "    crime[col] = crime[col].str.replace(\",\",\"\")\n",
    "\n",
    "imp = Imputer(missing_values='NaN', strategy='mean', axis=0)\n",
    "imp.fit(crime)\n",
    "crime = pd.DataFrame(data=imp.transform(crime) , columns=crime.columns)"
   ]
  },
  {
   "cell_type": "code",
   "execution_count": 124,
   "metadata": {},
   "outputs": [
    {
     "data": {
      "text/plain": [
       "Population           float64\n",
       "RapeLegacy           float64\n",
       "Robbery              float64\n",
       "AggravatedAssault    float64\n",
       "Burglary             float64\n",
       "LarcenyTheft         float64\n",
       "MotorVehicleTheft    float64\n",
       "Arson3               float64\n",
       "dtype: object"
      ]
     },
     "execution_count": 124,
     "metadata": {},
     "output_type": "execute_result"
    }
   ],
   "source": [
    "crime.dtypes"
   ]
  },
  {
   "cell_type": "code",
   "execution_count": 125,
   "metadata": {},
   "outputs": [],
   "source": [
    "for col in crime.columns:\n",
    "    crime[col] = crime[col].apply(pd.to_numeric).astype('int64')"
   ]
  },
  {
   "cell_type": "code",
   "execution_count": 126,
   "metadata": {},
   "outputs": [
    {
     "data": {
      "text/plain": [
       "Population           int64\n",
       "RapeLegacy           int64\n",
       "Robbery              int64\n",
       "AggravatedAssault    int64\n",
       "Burglary             int64\n",
       "LarcenyTheft         int64\n",
       "MotorVehicleTheft    int64\n",
       "Arson3               int64\n",
       "dtype: object"
      ]
     },
     "execution_count": 126,
     "metadata": {},
     "output_type": "execute_result"
    }
   ],
   "source": [
    "crime.dtypes"
   ]
  },
  {
   "cell_type": "code",
   "execution_count": 127,
   "metadata": {},
   "outputs": [
    {
     "data": {
      "text/html": [
       "<div>\n",
       "<style scoped>\n",
       "    .dataframe tbody tr th:only-of-type {\n",
       "        vertical-align: middle;\n",
       "    }\n",
       "\n",
       "    .dataframe tbody tr th {\n",
       "        vertical-align: top;\n",
       "    }\n",
       "\n",
       "    .dataframe thead th {\n",
       "        text-align: right;\n",
       "    }\n",
       "</style>\n",
       "<table border=\"1\" class=\"dataframe\">\n",
       "  <thead>\n",
       "    <tr style=\"text-align: right;\">\n",
       "      <th></th>\n",
       "      <th>Population</th>\n",
       "      <th>RapeLegacy</th>\n",
       "      <th>Robbery</th>\n",
       "      <th>AggravatedAssault</th>\n",
       "      <th>Burglary</th>\n",
       "      <th>LarcenyTheft</th>\n",
       "      <th>MotorVehicleTheft</th>\n",
       "      <th>Arson3</th>\n",
       "    </tr>\n",
       "  </thead>\n",
       "  <tbody>\n",
       "    <tr>\n",
       "      <th>count</th>\n",
       "      <td>351.000</td>\n",
       "      <td>351.000</td>\n",
       "      <td>351.000</td>\n",
       "      <td>351.000</td>\n",
       "      <td>351.000</td>\n",
       "      <td>351.000</td>\n",
       "      <td>351.000</td>\n",
       "      <td>351.000</td>\n",
       "    </tr>\n",
       "    <tr>\n",
       "      <th>mean</th>\n",
       "      <td>40037.627</td>\n",
       "      <td>5.858</td>\n",
       "      <td>72.895</td>\n",
       "      <td>121.259</td>\n",
       "      <td>119.678</td>\n",
       "      <td>637.017</td>\n",
       "      <td>35.897</td>\n",
       "      <td>1.464</td>\n",
       "    </tr>\n",
       "    <tr>\n",
       "      <th>std</th>\n",
       "      <td>448104.485</td>\n",
       "      <td>60.166</td>\n",
       "      <td>1026.605</td>\n",
       "      <td>1698.804</td>\n",
       "      <td>920.976</td>\n",
       "      <td>6318.799</td>\n",
       "      <td>401.691</td>\n",
       "      <td>7.808</td>\n",
       "    </tr>\n",
       "    <tr>\n",
       "      <th>min</th>\n",
       "      <td>526.000</td>\n",
       "      <td>0.000</td>\n",
       "      <td>0.000</td>\n",
       "      <td>0.000</td>\n",
       "      <td>0.000</td>\n",
       "      <td>0.000</td>\n",
       "      <td>0.000</td>\n",
       "      <td>0.000</td>\n",
       "    </tr>\n",
       "    <tr>\n",
       "      <th>25%</th>\n",
       "      <td>3010.500</td>\n",
       "      <td>0.000</td>\n",
       "      <td>0.000</td>\n",
       "      <td>1.000</td>\n",
       "      <td>6.000</td>\n",
       "      <td>31.000</td>\n",
       "      <td>0.000</td>\n",
       "      <td>0.000</td>\n",
       "    </tr>\n",
       "    <tr>\n",
       "      <th>50%</th>\n",
       "      <td>7411.000</td>\n",
       "      <td>0.000</td>\n",
       "      <td>1.000</td>\n",
       "      <td>5.000</td>\n",
       "      <td>18.000</td>\n",
       "      <td>95.000</td>\n",
       "      <td>2.000</td>\n",
       "      <td>1.000</td>\n",
       "    </tr>\n",
       "    <tr>\n",
       "      <th>75%</th>\n",
       "      <td>19324.500</td>\n",
       "      <td>2.000</td>\n",
       "      <td>5.000</td>\n",
       "      <td>14.500</td>\n",
       "      <td>52.500</td>\n",
       "      <td>290.000</td>\n",
       "      <td>7.000</td>\n",
       "      <td>1.000</td>\n",
       "    </tr>\n",
       "    <tr>\n",
       "      <th>max</th>\n",
       "      <td>8396126.000</td>\n",
       "      <td>1112.000</td>\n",
       "      <td>19170.000</td>\n",
       "      <td>31767.000</td>\n",
       "      <td>16606.000</td>\n",
       "      <td>117931.000</td>\n",
       "      <td>7434.000</td>\n",
       "      <td>132.000</td>\n",
       "    </tr>\n",
       "  </tbody>\n",
       "</table>\n",
       "</div>"
      ],
      "text/plain": [
       "       Population  RapeLegacy   Robbery  AggravatedAssault  Burglary  \\\n",
       "count     351.000     351.000   351.000            351.000   351.000   \n",
       "mean    40037.627       5.858    72.895            121.259   119.678   \n",
       "std    448104.485      60.166  1026.605           1698.804   920.976   \n",
       "min       526.000       0.000     0.000              0.000     0.000   \n",
       "25%      3010.500       0.000     0.000              1.000     6.000   \n",
       "50%      7411.000       0.000     1.000              5.000    18.000   \n",
       "75%     19324.500       2.000     5.000             14.500    52.500   \n",
       "max   8396126.000    1112.000 19170.000          31767.000 16606.000   \n",
       "\n",
       "       LarcenyTheft  MotorVehicleTheft  Arson3  \n",
       "count       351.000            351.000 351.000  \n",
       "mean        637.017             35.897   1.464  \n",
       "std        6318.799            401.691   7.808  \n",
       "min           0.000              0.000   0.000  \n",
       "25%          31.000              0.000   0.000  \n",
       "50%          95.000              2.000   1.000  \n",
       "75%         290.000              7.000   1.000  \n",
       "max      117931.000           7434.000 132.000  "
      ]
     },
     "execution_count": 127,
     "metadata": {},
     "output_type": "execute_result"
    }
   ],
   "source": [
    "crime.describe()"
   ]
  },
  {
   "cell_type": "code",
   "execution_count": 128,
   "metadata": {},
   "outputs": [
    {
     "data": {
      "text/plain": [
       "Arson3               0\n",
       "MotorVehicleTheft    0\n",
       "LarcenyTheft         0\n",
       "Burglary             0\n",
       "AggravatedAssault    0\n",
       "dtype: int64"
      ]
     },
     "execution_count": 128,
     "metadata": {},
     "output_type": "execute_result"
    }
   ],
   "source": [
    "crime.isnull().sum().sort_values(ascending=False).head()"
   ]
  },
  {
   "cell_type": "code",
   "execution_count": 129,
   "metadata": {},
   "outputs": [
    {
     "data": {
      "text/plain": [
       "Population           int64\n",
       "RapeLegacy           int64\n",
       "Robbery              int64\n",
       "AggravatedAssault    int64\n",
       "Burglary             int64\n",
       "LarcenyTheft         int64\n",
       "MotorVehicleTheft    int64\n",
       "Arson3               int64\n",
       "dtype: object"
      ]
     },
     "execution_count": 129,
     "metadata": {},
     "output_type": "execute_result"
    }
   ],
   "source": [
    "crime.dtypes"
   ]
  },
  {
   "cell_type": "markdown",
   "metadata": {},
   "source": [
    "I've realized that PropertyCrime is the sum of Burglery, Larceny Theft, and Mother Vegicle Theft. So we're going to delete that and make a prediction for Burglary. I will continue to use the non-property crime data as that might be informative and I can still check the correlations for feature reduction if need be. "
   ]
  },
  {
   "cell_type": "code",
   "execution_count": 130,
   "metadata": {},
   "outputs": [],
   "source": [
    "X = crime.drop('Burglary', 1)\n",
    "y = crime['Burglary']"
   ]
  },
  {
   "cell_type": "code",
   "execution_count": 131,
   "metadata": {},
   "outputs": [],
   "source": [
    "def add_interactions(X):\n",
    "    # Get feature names\n",
    "    combos = list(combinations(list(X.columns), 2))\n",
    "    colnames = list(X.columns) + ['_'.join(X) for X in combos]\n",
    "    \n",
    "    # Find interactions\n",
    "    poly = PolynomialFeatures(interaction_only=True, include_bias=False)\n",
    "    X = poly.fit_transform(X)\n",
    "    X = pd.DataFrame(X)\n",
    "    X.columns = colnames\n",
    "    \n",
    "    # Remove interaction terms with all 0 values            \n",
    "    noint_indicies = [i for i, X in enumerate(list((X == 0).all())) if X]\n",
    "    X = X.drop(X.columns[noint_indicies], axis=1)\n",
    "    \n",
    "    return X"
   ]
  },
  {
   "cell_type": "code",
   "execution_count": 132,
   "metadata": {},
   "outputs": [
    {
     "name": "stdout",
     "output_type": "stream",
     "text": [
      "   Population  RapeLegacy  Robbery  AggravatedAssault  LarcenyTheft  \\\n",
      "0    1861.000       0.000    0.000              0.000        10.000   \n",
      "1    2577.000       0.000    0.000              3.000        20.000   \n",
      "2    2846.000       0.000    0.000              3.000        15.000   \n",
      "3   97956.000      30.000  227.000            526.000      3243.000   \n",
      "4    6388.000       3.000    4.000             16.000       165.000   \n",
      "\n",
      "   MotorVehicleTheft  Arson3  Population_RapeLegacy  Population_Robbery  \\\n",
      "0              0.000   0.000                  0.000               0.000   \n",
      "1              1.000   0.000                  0.000               0.000   \n",
      "2              0.000   0.000                  0.000               0.000   \n",
      "3            142.000   1.000            2938680.000        22236012.000   \n",
      "4              5.000   1.000              19164.000           25552.000   \n",
      "\n",
      "   Population_AggravatedAssault            ...             \\\n",
      "0                         0.000            ...              \n",
      "1                      7731.000            ...              \n",
      "2                      8538.000            ...              \n",
      "3                  51524856.000            ...              \n",
      "4                    102208.000            ...              \n",
      "\n",
      "   Robbery_AggravatedAssault  Robbery_LarcenyTheft  Robbery_MotorVehicleTheft  \\\n",
      "0                      0.000                 0.000                      0.000   \n",
      "1                      0.000                 0.000                      0.000   \n",
      "2                      0.000                 0.000                      0.000   \n",
      "3                 119402.000            736161.000                  32234.000   \n",
      "4                     64.000               660.000                     20.000   \n",
      "\n",
      "   Robbery_Arson3  AggravatedAssault_LarcenyTheft  \\\n",
      "0           0.000                           0.000   \n",
      "1           0.000                          60.000   \n",
      "2           0.000                          45.000   \n",
      "3         227.000                     1705818.000   \n",
      "4           4.000                        2640.000   \n",
      "\n",
      "   AggravatedAssault_MotorVehicleTheft  AggravatedAssault_Arson3  \\\n",
      "0                                0.000                     0.000   \n",
      "1                                3.000                     0.000   \n",
      "2                                0.000                     0.000   \n",
      "3                            74692.000                   526.000   \n",
      "4                               80.000                    16.000   \n",
      "\n",
      "   LarcenyTheft_MotorVehicleTheft  LarcenyTheft_Arson3  \\\n",
      "0                           0.000                0.000   \n",
      "1                          20.000                0.000   \n",
      "2                           0.000                0.000   \n",
      "3                      460506.000             3243.000   \n",
      "4                         825.000              165.000   \n",
      "\n",
      "   MotorVehicleTheft_Arson3  \n",
      "0                     0.000  \n",
      "1                     0.000  \n",
      "2                     0.000  \n",
      "3                   142.000  \n",
      "4                     5.000  \n",
      "\n",
      "[5 rows x 28 columns]\n"
     ]
    }
   ],
   "source": [
    "X = add_interactions(X)\n",
    "print(X.head(5))"
   ]
  },
  {
   "cell_type": "code",
   "execution_count": 133,
   "metadata": {},
   "outputs": [],
   "source": [
    "pca = PCA(n_components=10)\n",
    "X_pca = pd.DataFrame(pca.fit_transform(X))"
   ]
  },
  {
   "cell_type": "code",
   "execution_count": 134,
   "metadata": {},
   "outputs": [
    {
     "data": {
      "text/html": [
       "<div>\n",
       "<style scoped>\n",
       "    .dataframe tbody tr th:only-of-type {\n",
       "        vertical-align: middle;\n",
       "    }\n",
       "\n",
       "    .dataframe tbody tr th {\n",
       "        vertical-align: top;\n",
       "    }\n",
       "\n",
       "    .dataframe thead th {\n",
       "        text-align: right;\n",
       "    }\n",
       "</style>\n",
       "<table border=\"1\" class=\"dataframe\">\n",
       "  <thead>\n",
       "    <tr style=\"text-align: right;\">\n",
       "      <th></th>\n",
       "      <th>0</th>\n",
       "      <th>1</th>\n",
       "      <th>2</th>\n",
       "      <th>3</th>\n",
       "      <th>4</th>\n",
       "      <th>5</th>\n",
       "      <th>6</th>\n",
       "      <th>7</th>\n",
       "      <th>8</th>\n",
       "      <th>9</th>\n",
       "    </tr>\n",
       "  </thead>\n",
       "  <tbody>\n",
       "    <tr>\n",
       "      <th>0</th>\n",
       "      <td>-2985194456.634</td>\n",
       "      <td>-2649528.820</td>\n",
       "      <td>740209.962</td>\n",
       "      <td>195136.484</td>\n",
       "      <td>25472.137</td>\n",
       "      <td>-29473.364</td>\n",
       "      <td>4146.583</td>\n",
       "      <td>-7594.834</td>\n",
       "      <td>-2380.855</td>\n",
       "      <td>-1460.825</td>\n",
       "    </tr>\n",
       "    <tr>\n",
       "      <th>1</th>\n",
       "      <td>-2985160965.062</td>\n",
       "      <td>-2647194.064</td>\n",
       "      <td>737686.414</td>\n",
       "      <td>191444.550</td>\n",
       "      <td>27268.525</td>\n",
       "      <td>-28878.363</td>\n",
       "      <td>4512.808</td>\n",
       "      <td>-7027.920</td>\n",
       "      <td>-2030.254</td>\n",
       "      <td>-1361.034</td>\n",
       "    </tr>\n",
       "    <tr>\n",
       "      <th>2</th>\n",
       "      <td>-2985169339.225</td>\n",
       "      <td>-2650988.499</td>\n",
       "      <td>737274.524</td>\n",
       "      <td>192258.615</td>\n",
       "      <td>27132.460</td>\n",
       "      <td>-29333.629</td>\n",
       "      <td>4400.966</td>\n",
       "      <td>-6770.347</td>\n",
       "      <td>-1892.781</td>\n",
       "      <td>-1278.389</td>\n",
       "    </tr>\n",
       "    <tr>\n",
       "      <th>3</th>\n",
       "      <td>-2665219963.143</td>\n",
       "      <td>31324285.784</td>\n",
       "      <td>-24481439.266</td>\n",
       "      <td>-8908971.890</td>\n",
       "      <td>863513.128</td>\n",
       "      <td>-334807.955</td>\n",
       "      <td>779792.703</td>\n",
       "      <td>71082.407</td>\n",
       "      <td>-35999.093</td>\n",
       "      <td>-22091.174</td>\n",
       "    </tr>\n",
       "    <tr>\n",
       "      <th>4</th>\n",
       "      <td>-2984176335.999</td>\n",
       "      <td>-2474992.840</td>\n",
       "      <td>613579.910</td>\n",
       "      <td>157506.779</td>\n",
       "      <td>31655.573</td>\n",
       "      <td>-37159.041</td>\n",
       "      <td>-1258.086</td>\n",
       "      <td>-3393.427</td>\n",
       "      <td>-1021.715</td>\n",
       "      <td>-606.709</td>\n",
       "    </tr>\n",
       "  </tbody>\n",
       "</table>\n",
       "</div>"
      ],
      "text/plain": [
       "                0            1             2            3          4  \\\n",
       "0 -2985194456.634 -2649528.820    740209.962   195136.484  25472.137   \n",
       "1 -2985160965.062 -2647194.064    737686.414   191444.550  27268.525   \n",
       "2 -2985169339.225 -2650988.499    737274.524   192258.615  27132.460   \n",
       "3 -2665219963.143 31324285.784 -24481439.266 -8908971.890 863513.128   \n",
       "4 -2984176335.999 -2474992.840    613579.910   157506.779  31655.573   \n",
       "\n",
       "            5          6         7          8          9  \n",
       "0  -29473.364   4146.583 -7594.834  -2380.855  -1460.825  \n",
       "1  -28878.363   4512.808 -7027.920  -2030.254  -1361.034  \n",
       "2  -29333.629   4400.966 -6770.347  -1892.781  -1278.389  \n",
       "3 -334807.955 779792.703 71082.407 -35999.093 -22091.174  \n",
       "4  -37159.041  -1258.086 -3393.427  -1021.715   -606.709  "
      ]
     },
     "execution_count": 134,
     "metadata": {},
     "output_type": "execute_result"
    }
   ],
   "source": [
    "X_pca.head()"
   ]
  },
  {
   "cell_type": "code",
   "execution_count": 135,
   "metadata": {},
   "outputs": [
    {
     "data": {
      "text/plain": [
       "0      2\n",
       "1      3\n",
       "2      1\n",
       "3    705\n",
       "4     53\n",
       "Name: Burglary, dtype: int64"
      ]
     },
     "execution_count": 135,
     "metadata": {},
     "output_type": "execute_result"
    }
   ],
   "source": [
    "y.head()"
   ]
  },
  {
   "cell_type": "code",
   "execution_count": 136,
   "metadata": {},
   "outputs": [],
   "source": [
    "X_train, X_test, y_train, y_test = train_test_split(X_pca, y, train_size=0.70, random_state=1)"
   ]
  },
  {
   "cell_type": "code",
   "execution_count": 137,
   "metadata": {},
   "outputs": [
    {
     "data": {
      "text/plain": [
       "LinearRegression(copy_X=True, fit_intercept=True, n_jobs=1, normalize=False)"
      ]
     },
     "execution_count": 137,
     "metadata": {},
     "output_type": "execute_result"
    }
   ],
   "source": [
    "regression_model = LinearRegression()\n",
    "regression_model.fit(X_train, y_train)"
   ]
  },
  {
   "cell_type": "code",
   "execution_count": 138,
   "metadata": {},
   "outputs": [],
   "source": [
    "y_pred = regression_model.predict(X_test)"
   ]
  },
  {
   "cell_type": "code",
   "execution_count": 139,
   "metadata": {},
   "outputs": [
    {
     "name": "stdout",
     "output_type": "stream",
     "text": [
      "Coefficients: \n",
      " [ 1.59120127e-08  1.56440747e-05  1.34483326e-05 -3.82852003e-05\n",
      "  3.69639368e-05 -4.69988328e-05 -8.89272399e-06  3.41564378e-03\n",
      " -1.55123316e-03  5.19833126e-03]\n",
      "Mean squared error: 6678.36\n",
      "Variance score: 0.90\n"
     ]
    }
   ],
   "source": [
    "# The coefficients\n",
    "print('Coefficients: \\n', regression_model.coef_)\n",
    "# The mean squared error\n",
    "print(\"Mean squared error: %.2f\"\n",
    "      % mean_squared_error(y_test, y_pred))\n",
    "# Explained variance score: 1 is perfect prediction\n",
    "print('Variance score: %.2f' % r2_score(y_test, y_pred))"
   ]
  },
  {
   "cell_type": "code",
   "execution_count": 140,
   "metadata": {},
   "outputs": [
    {
     "data": {
      "text/plain": [
       "Index(['Population', 'RapeLegacy', 'Robbery', 'AggravatedAssault', 'Burglary',\n",
       "       'LarcenyTheft', 'MotorVehicleTheft', 'Arson3'],\n",
       "      dtype='object')"
      ]
     },
     "execution_count": 140,
     "metadata": {},
     "output_type": "execute_result"
    }
   ],
   "source": [
    "crime.columns"
   ]
  },
  {
   "cell_type": "code",
   "execution_count": 141,
   "metadata": {},
   "outputs": [],
   "source": [
    "linear_formula = 'Burglary ~ Population+RapeLegacy+Robbery+AggravatedAssault+LarcenyTheft+MotorVehicleTheft+Arson3'\n",
    "\n",
    "# Fit the model to our data using the formula.\n",
    "lm = smf.ols(formula=linear_formula, data=crime).fit()"
   ]
  },
  {
   "cell_type": "code",
   "execution_count": 142,
   "metadata": {},
   "outputs": [
    {
     "data": {
      "text/html": [
       "<table class=\"simpletable\">\n",
       "<caption>OLS Regression Results</caption>\n",
       "<tr>\n",
       "  <th>Dep. Variable:</th>        <td>Burglary</td>     <th>  R-squared:         </th> <td>   0.999</td> \n",
       "</tr>\n",
       "<tr>\n",
       "  <th>Model:</th>                   <td>OLS</td>       <th>  Adj. R-squared:    </th> <td>   0.999</td> \n",
       "</tr>\n",
       "<tr>\n",
       "  <th>Method:</th>             <td>Least Squares</td>  <th>  F-statistic:       </th> <td>3.666e+04</td>\n",
       "</tr>\n",
       "<tr>\n",
       "  <th>Date:</th>             <td>Thu, 17 May 2018</td> <th>  Prob (F-statistic):</th>  <td>  0.00</td>  \n",
       "</tr>\n",
       "<tr>\n",
       "  <th>Time:</th>                 <td>20:24:06</td>     <th>  Log-Likelihood:    </th> <td> -1731.6</td> \n",
       "</tr>\n",
       "<tr>\n",
       "  <th>No. Observations:</th>      <td>   351</td>      <th>  AIC:               </th> <td>   3479.</td> \n",
       "</tr>\n",
       "<tr>\n",
       "  <th>Df Residuals:</th>          <td>   343</td>      <th>  BIC:               </th> <td>   3510.</td> \n",
       "</tr>\n",
       "<tr>\n",
       "  <th>Df Model:</th>              <td>     7</td>      <th>                     </th>     <td> </td>    \n",
       "</tr>\n",
       "<tr>\n",
       "  <th>Covariance Type:</th>      <td>nonrobust</td>    <th>                     </th>     <td> </td>    \n",
       "</tr>\n",
       "</table>\n",
       "<table class=\"simpletable\">\n",
       "<tr>\n",
       "          <td></td>             <th>coef</th>     <th>std err</th>      <th>t</th>      <th>P>|t|</th>  <th>[0.025</th>    <th>0.975]</th>  \n",
       "</tr>\n",
       "<tr>\n",
       "  <th>Intercept</th>         <td>    9.7093</td> <td>    2.275</td> <td>    4.268</td> <td> 0.000</td> <td>    5.235</td> <td>   14.183</td>\n",
       "</tr>\n",
       "<tr>\n",
       "  <th>Population</th>        <td>   -0.0018</td> <td>    0.000</td> <td>  -11.176</td> <td> 0.000</td> <td>   -0.002</td> <td>   -0.001</td>\n",
       "</tr>\n",
       "<tr>\n",
       "  <th>RapeLegacy</th>        <td>    6.2769</td> <td>    0.738</td> <td>    8.504</td> <td> 0.000</td> <td>    4.825</td> <td>    7.729</td>\n",
       "</tr>\n",
       "<tr>\n",
       "  <th>Robbery</th>           <td>   -0.7324</td> <td>    0.152</td> <td>   -4.826</td> <td> 0.000</td> <td>   -1.031</td> <td>   -0.434</td>\n",
       "</tr>\n",
       "<tr>\n",
       "  <th>AggravatedAssault</th> <td>    0.0423</td> <td>    0.088</td> <td>    0.482</td> <td> 0.630</td> <td>   -0.130</td> <td>    0.215</td>\n",
       "</tr>\n",
       "<tr>\n",
       "  <th>LarcenyTheft</th>      <td>    0.1350</td> <td>    0.010</td> <td>   13.703</td> <td> 0.000</td> <td>    0.116</td> <td>    0.154</td>\n",
       "</tr>\n",
       "<tr>\n",
       "  <th>MotorVehicleTheft</th> <td>    2.9008</td> <td>    0.153</td> <td>   18.975</td> <td> 0.000</td> <td>    2.600</td> <td>    3.201</td>\n",
       "</tr>\n",
       "<tr>\n",
       "  <th>Arson3</th>            <td>    2.5065</td> <td>    0.310</td> <td>    8.074</td> <td> 0.000</td> <td>    1.896</td> <td>    3.117</td>\n",
       "</tr>\n",
       "</table>\n",
       "<table class=\"simpletable\">\n",
       "<tr>\n",
       "  <th>Omnibus:</th>       <td>212.178</td> <th>  Durbin-Watson:     </th> <td>   1.958</td>\n",
       "</tr>\n",
       "<tr>\n",
       "  <th>Prob(Omnibus):</th> <td> 0.000</td>  <th>  Jarque-Bera (JB):  </th> <td>3171.293</td>\n",
       "</tr>\n",
       "<tr>\n",
       "  <th>Skew:</th>          <td> 2.215</td>  <th>  Prob(JB):          </th> <td>    0.00</td>\n",
       "</tr>\n",
       "<tr>\n",
       "  <th>Kurtosis:</th>      <td>17.044</td>  <th>  Cond. No.          </th> <td>5.64e+05</td>\n",
       "</tr>\n",
       "</table>"
      ],
      "text/plain": [
       "<class 'statsmodels.iolib.summary.Summary'>\n",
       "\"\"\"\n",
       "                            OLS Regression Results                            \n",
       "==============================================================================\n",
       "Dep. Variable:               Burglary   R-squared:                       0.999\n",
       "Model:                            OLS   Adj. R-squared:                  0.999\n",
       "Method:                 Least Squares   F-statistic:                 3.666e+04\n",
       "Date:                Thu, 17 May 2018   Prob (F-statistic):               0.00\n",
       "Time:                        20:24:06   Log-Likelihood:                -1731.6\n",
       "No. Observations:                 351   AIC:                             3479.\n",
       "Df Residuals:                     343   BIC:                             3510.\n",
       "Df Model:                           7                                         \n",
       "Covariance Type:            nonrobust                                         \n",
       "=====================================================================================\n",
       "                        coef    std err          t      P>|t|      [0.025      0.975]\n",
       "-------------------------------------------------------------------------------------\n",
       "Intercept             9.7093      2.275      4.268      0.000       5.235      14.183\n",
       "Population           -0.0018      0.000    -11.176      0.000      -0.002      -0.001\n",
       "RapeLegacy            6.2769      0.738      8.504      0.000       4.825       7.729\n",
       "Robbery              -0.7324      0.152     -4.826      0.000      -1.031      -0.434\n",
       "AggravatedAssault     0.0423      0.088      0.482      0.630      -0.130       0.215\n",
       "LarcenyTheft          0.1350      0.010     13.703      0.000       0.116       0.154\n",
       "MotorVehicleTheft     2.9008      0.153     18.975      0.000       2.600       3.201\n",
       "Arson3                2.5065      0.310      8.074      0.000       1.896       3.117\n",
       "==============================================================================\n",
       "Omnibus:                      212.178   Durbin-Watson:                   1.958\n",
       "Prob(Omnibus):                  0.000   Jarque-Bera (JB):             3171.293\n",
       "Skew:                           2.215   Prob(JB):                         0.00\n",
       "Kurtosis:                      17.044   Cond. No.                     5.64e+05\n",
       "==============================================================================\n",
       "\n",
       "Warnings:\n",
       "[1] Standard Errors assume that the covariance matrix of the errors is correctly specified.\n",
       "[2] The condition number is large, 5.64e+05. This might indicate that there are\n",
       "strong multicollinearity or other numerical problems.\n",
       "\"\"\""
      ]
     },
     "execution_count": 142,
     "metadata": {},
     "output_type": "execute_result"
    }
   ],
   "source": [
    "lm.summary()"
   ]
  },
  {
   "cell_type": "code",
   "execution_count": 143,
   "metadata": {},
   "outputs": [
    {
     "data": {
      "text/plain": [
       "Intercept            9.709\n",
       "Population          -0.002\n",
       "RapeLegacy           6.277\n",
       "Robbery             -0.732\n",
       "AggravatedAssault    0.042\n",
       "LarcenyTheft         0.135\n",
       "MotorVehicleTheft    2.901\n",
       "Arson3               2.507\n",
       "dtype: float64"
      ]
     },
     "execution_count": 143,
     "metadata": {},
     "output_type": "execute_result"
    }
   ],
   "source": [
    "lm.params"
   ]
  },
  {
   "cell_type": "markdown",
   "metadata": {},
   "source": [
    "It is clear that Population, Aggravated Assault, and Larceny Theft have little to no impact on Burglary. So I will re-run this linear formula without them. "
   ]
  },
  {
   "cell_type": "code",
   "execution_count": 144,
   "metadata": {},
   "outputs": [
    {
     "data": {
      "text/html": [
       "<div>\n",
       "<style scoped>\n",
       "    .dataframe tbody tr th:only-of-type {\n",
       "        vertical-align: middle;\n",
       "    }\n",
       "\n",
       "    .dataframe tbody tr th {\n",
       "        vertical-align: top;\n",
       "    }\n",
       "\n",
       "    .dataframe thead th {\n",
       "        text-align: right;\n",
       "    }\n",
       "</style>\n",
       "<table border=\"1\" class=\"dataframe\">\n",
       "  <thead>\n",
       "    <tr style=\"text-align: right;\">\n",
       "      <th></th>\n",
       "      <th>Population</th>\n",
       "      <th>RapeLegacy</th>\n",
       "      <th>Robbery</th>\n",
       "      <th>AggravatedAssault</th>\n",
       "      <th>Burglary</th>\n",
       "      <th>LarcenyTheft</th>\n",
       "      <th>MotorVehicleTheft</th>\n",
       "      <th>Arson3</th>\n",
       "    </tr>\n",
       "  </thead>\n",
       "  <tbody>\n",
       "    <tr>\n",
       "      <th>0</th>\n",
       "      <td>1861</td>\n",
       "      <td>0</td>\n",
       "      <td>0</td>\n",
       "      <td>0</td>\n",
       "      <td>2</td>\n",
       "      <td>10</td>\n",
       "      <td>0</td>\n",
       "      <td>0</td>\n",
       "    </tr>\n",
       "    <tr>\n",
       "      <th>1</th>\n",
       "      <td>2577</td>\n",
       "      <td>0</td>\n",
       "      <td>0</td>\n",
       "      <td>3</td>\n",
       "      <td>3</td>\n",
       "      <td>20</td>\n",
       "      <td>1</td>\n",
       "      <td>0</td>\n",
       "    </tr>\n",
       "    <tr>\n",
       "      <th>2</th>\n",
       "      <td>2846</td>\n",
       "      <td>0</td>\n",
       "      <td>0</td>\n",
       "      <td>3</td>\n",
       "      <td>1</td>\n",
       "      <td>15</td>\n",
       "      <td>0</td>\n",
       "      <td>0</td>\n",
       "    </tr>\n",
       "    <tr>\n",
       "      <th>3</th>\n",
       "      <td>97956</td>\n",
       "      <td>30</td>\n",
       "      <td>227</td>\n",
       "      <td>526</td>\n",
       "      <td>705</td>\n",
       "      <td>3243</td>\n",
       "      <td>142</td>\n",
       "      <td>1</td>\n",
       "    </tr>\n",
       "    <tr>\n",
       "      <th>4</th>\n",
       "      <td>6388</td>\n",
       "      <td>3</td>\n",
       "      <td>4</td>\n",
       "      <td>16</td>\n",
       "      <td>53</td>\n",
       "      <td>165</td>\n",
       "      <td>5</td>\n",
       "      <td>1</td>\n",
       "    </tr>\n",
       "  </tbody>\n",
       "</table>\n",
       "</div>"
      ],
      "text/plain": [
       "   Population  RapeLegacy  Robbery  AggravatedAssault  Burglary  LarcenyTheft  \\\n",
       "0        1861           0        0                  0         2            10   \n",
       "1        2577           0        0                  3         3            20   \n",
       "2        2846           0        0                  3         1            15   \n",
       "3       97956          30      227                526       705          3243   \n",
       "4        6388           3        4                 16        53           165   \n",
       "\n",
       "   MotorVehicleTheft  Arson3  \n",
       "0                  0       0  \n",
       "1                  1       0  \n",
       "2                  0       0  \n",
       "3                142       1  \n",
       "4                  5       1  "
      ]
     },
     "execution_count": 144,
     "metadata": {},
     "output_type": "execute_result"
    }
   ],
   "source": [
    "crime.head()"
   ]
  },
  {
   "cell_type": "code",
   "execution_count": 145,
   "metadata": {},
   "outputs": [
    {
     "data": {
      "text/html": [
       "<div>\n",
       "<style scoped>\n",
       "    .dataframe tbody tr th:only-of-type {\n",
       "        vertical-align: middle;\n",
       "    }\n",
       "\n",
       "    .dataframe tbody tr th {\n",
       "        vertical-align: top;\n",
       "    }\n",
       "\n",
       "    .dataframe thead th {\n",
       "        text-align: right;\n",
       "    }\n",
       "</style>\n",
       "<table border=\"1\" class=\"dataframe\">\n",
       "  <thead>\n",
       "    <tr style=\"text-align: right;\">\n",
       "      <th></th>\n",
       "      <th>RapeLegacy</th>\n",
       "      <th>Robbery</th>\n",
       "      <th>Burglary</th>\n",
       "      <th>MotorVehicleTheft</th>\n",
       "      <th>Arson3</th>\n",
       "    </tr>\n",
       "  </thead>\n",
       "  <tbody>\n",
       "    <tr>\n",
       "      <th>0</th>\n",
       "      <td>0</td>\n",
       "      <td>0</td>\n",
       "      <td>2</td>\n",
       "      <td>0</td>\n",
       "      <td>0</td>\n",
       "    </tr>\n",
       "    <tr>\n",
       "      <th>1</th>\n",
       "      <td>0</td>\n",
       "      <td>0</td>\n",
       "      <td>3</td>\n",
       "      <td>1</td>\n",
       "      <td>0</td>\n",
       "    </tr>\n",
       "    <tr>\n",
       "      <th>2</th>\n",
       "      <td>0</td>\n",
       "      <td>0</td>\n",
       "      <td>1</td>\n",
       "      <td>0</td>\n",
       "      <td>0</td>\n",
       "    </tr>\n",
       "    <tr>\n",
       "      <th>3</th>\n",
       "      <td>30</td>\n",
       "      <td>227</td>\n",
       "      <td>705</td>\n",
       "      <td>142</td>\n",
       "      <td>1</td>\n",
       "    </tr>\n",
       "    <tr>\n",
       "      <th>4</th>\n",
       "      <td>3</td>\n",
       "      <td>4</td>\n",
       "      <td>53</td>\n",
       "      <td>5</td>\n",
       "      <td>1</td>\n",
       "    </tr>\n",
       "    <tr>\n",
       "      <th>5</th>\n",
       "      <td>0</td>\n",
       "      <td>3</td>\n",
       "      <td>10</td>\n",
       "      <td>0</td>\n",
       "      <td>1</td>\n",
       "    </tr>\n",
       "    <tr>\n",
       "      <th>6</th>\n",
       "      <td>0</td>\n",
       "      <td>0</td>\n",
       "      <td>0</td>\n",
       "      <td>0</td>\n",
       "      <td>0</td>\n",
       "    </tr>\n",
       "    <tr>\n",
       "      <th>7</th>\n",
       "      <td>7</td>\n",
       "      <td>31</td>\n",
       "      <td>204</td>\n",
       "      <td>32</td>\n",
       "      <td>3</td>\n",
       "    </tr>\n",
       "    <tr>\n",
       "      <th>8</th>\n",
       "      <td>2</td>\n",
       "      <td>4</td>\n",
       "      <td>16</td>\n",
       "      <td>6</td>\n",
       "      <td>1</td>\n",
       "    </tr>\n",
       "    <tr>\n",
       "      <th>9</th>\n",
       "      <td>0</td>\n",
       "      <td>12</td>\n",
       "      <td>99</td>\n",
       "      <td>15</td>\n",
       "      <td>0</td>\n",
       "    </tr>\n",
       "  </tbody>\n",
       "</table>\n",
       "</div>"
      ],
      "text/plain": [
       "   RapeLegacy  Robbery  Burglary  MotorVehicleTheft  Arson3\n",
       "0           0        0         2                  0       0\n",
       "1           0        0         3                  1       0\n",
       "2           0        0         1                  0       0\n",
       "3          30      227       705                142       1\n",
       "4           3        4        53                  5       1\n",
       "5           0        3        10                  0       1\n",
       "6           0        0         0                  0       0\n",
       "7           7       31       204                 32       3\n",
       "8           2        4        16                  6       1\n",
       "9           0       12        99                 15       0"
      ]
     },
     "execution_count": 145,
     "metadata": {},
     "output_type": "execute_result"
    }
   ],
   "source": [
    "crime = crime.drop(['Population', 'AggravatedAssault', 'LarcenyTheft'], axis=1)\n",
    "crime.head(10)"
   ]
  },
  {
   "cell_type": "markdown",
   "metadata": {},
   "source": [
    "Now that I have removed the low-impact features, let's expand what we have with reestablishing our interactions. An interesting thing happened when I tried to re-run the interactions without first redefining X and y. The interactions that already existed through the first run were then made as features for further interactions, creating hundreds (and then thousands) of features. So below I ahve redefined X and y. "
   ]
  },
  {
   "cell_type": "code",
   "execution_count": 146,
   "metadata": {},
   "outputs": [],
   "source": [
    "X = crime.drop('Burglary', 1)\n",
    "y = crime['Burglary']"
   ]
  },
  {
   "cell_type": "code",
   "execution_count": 147,
   "metadata": {},
   "outputs": [],
   "source": [
    "def add_interactions(X):\n",
    "    # Get feature names\n",
    "    combos = list(combinations(list(X.columns), 2))\n",
    "    colnames = list(X.columns) + ['_'.join(X) for X in combos]\n",
    "    \n",
    "    # Find interactions\n",
    "    poly = PolynomialFeatures(interaction_only=True, include_bias=False)\n",
    "    X = poly.fit_transform(X)\n",
    "    X = pd.DataFrame(X)\n",
    "    X.columns = colnames\n",
    "    \n",
    "    # Remove interaction terms with all 0 values            \n",
    "    noint_indicies = [i for i, X in enumerate(list((X == 0).all())) if X]\n",
    "    X = X.drop(X.columns[noint_indicies], axis=1)\n",
    "    \n",
    "    return X"
   ]
  },
  {
   "cell_type": "code",
   "execution_count": 148,
   "metadata": {},
   "outputs": [
    {
     "name": "stdout",
     "output_type": "stream",
     "text": [
      "   RapeLegacy  Robbery  MotorVehicleTheft  Arson3  RapeLegacy_Robbery  \\\n",
      "0       0.000    0.000              0.000   0.000               0.000   \n",
      "1       0.000    0.000              1.000   0.000               0.000   \n",
      "2       0.000    0.000              0.000   0.000               0.000   \n",
      "3      30.000  227.000            142.000   1.000            6810.000   \n",
      "4       3.000    4.000              5.000   1.000              12.000   \n",
      "\n",
      "   RapeLegacy_MotorVehicleTheft  RapeLegacy_Arson3  Robbery_MotorVehicleTheft  \\\n",
      "0                         0.000              0.000                      0.000   \n",
      "1                         0.000              0.000                      0.000   \n",
      "2                         0.000              0.000                      0.000   \n",
      "3                      4260.000             30.000                  32234.000   \n",
      "4                        15.000              3.000                     20.000   \n",
      "\n",
      "   Robbery_Arson3  MotorVehicleTheft_Arson3  \n",
      "0           0.000                     0.000  \n",
      "1           0.000                     0.000  \n",
      "2           0.000                     0.000  \n",
      "3         227.000                   142.000  \n",
      "4           4.000                     5.000  \n"
     ]
    }
   ],
   "source": [
    "X = add_interactions(X)\n",
    "print(X.head(5))"
   ]
  },
  {
   "cell_type": "code",
   "execution_count": 149,
   "metadata": {},
   "outputs": [],
   "source": [
    "pca = PCA(n_components=4)\n",
    "X_pca = pd.DataFrame(pca.fit_transform(X))"
   ]
  },
  {
   "cell_type": "markdown",
   "metadata": {},
   "source": [
    "Note that we are down to 4 featuires. This is the result of limitations of the svd_solver argument of the PCA decomposition."
   ]
  },
  {
   "cell_type": "code",
   "execution_count": 150,
   "metadata": {},
   "outputs": [],
   "source": [
    "X_train, X_test, y_train, y_test = train_test_split(X_pca, y, train_size=0.70, random_state=1)"
   ]
  },
  {
   "cell_type": "code",
   "execution_count": 151,
   "metadata": {},
   "outputs": [
    {
     "data": {
      "text/plain": [
       "LinearRegression(copy_X=True, fit_intercept=True, n_jobs=1, normalize=False)"
      ]
     },
     "execution_count": 151,
     "metadata": {},
     "output_type": "execute_result"
    }
   ],
   "source": [
    "regression_model = LinearRegression()\n",
    "regression_model.fit(X_train, y_train)"
   ]
  },
  {
   "cell_type": "code",
   "execution_count": 152,
   "metadata": {},
   "outputs": [],
   "source": [
    "y_pred = regression_model.predict(X_test)"
   ]
  },
  {
   "cell_type": "code",
   "execution_count": 153,
   "metadata": {},
   "outputs": [
    {
     "name": "stdout",
     "output_type": "stream",
     "text": [
      "Coefficients: \n",
      " [ 0.00011484  0.03652587  0.04260175 -0.0088957 ]\n",
      "Mean squared error: 64851.47\n",
      "Variance score: 0.04\n"
     ]
    }
   ],
   "source": [
    "# The coefficients\n",
    "print('Coefficients: \\n', regression_model.coef_)\n",
    "# The mean squared error\n",
    "print(\"Mean squared error: %.2f\"\n",
    "      % mean_squared_error(y_test, y_pred))\n",
    "# Explained variance score: 1 is perfect prediction\n",
    "print('Variance score: %.2f' % r2_score(y_test, y_pred))"
   ]
  },
  {
   "cell_type": "markdown",
   "metadata": {},
   "source": [
    "Our model still runs effectively at 92%. Let's try this entire process again for the 2014 data. I will make the following assumptions:\n",
    "\n",
    "- The features that held little to no impact in 2013 will hold little to no impact in 2014 and will be therefor excluded\n",
    "- The dataset will require the same cleaning as the 2013 data"
   ]
  },
  {
   "cell_type": "code",
   "execution_count": 166,
   "metadata": {},
   "outputs": [
    {
     "data": {
      "text/html": [
       "<div>\n",
       "<style scoped>\n",
       "    .dataframe tbody tr th:only-of-type {\n",
       "        vertical-align: middle;\n",
       "    }\n",
       "\n",
       "    .dataframe tbody tr th {\n",
       "        vertical-align: top;\n",
       "    }\n",
       "\n",
       "    .dataframe thead th {\n",
       "        text-align: right;\n",
       "    }\n",
       "</style>\n",
       "<table border=\"1\" class=\"dataframe\">\n",
       "  <thead>\n",
       "    <tr style=\"text-align: right;\">\n",
       "      <th></th>\n",
       "      <th>Population</th>\n",
       "      <th>Robbery</th>\n",
       "      <th>AggravatedAssault</th>\n",
       "      <th>Burglary</th>\n",
       "      <th>LarcenyTheft</th>\n",
       "      <th>MotorVehicleTheft</th>\n",
       "      <th>Arson3</th>\n",
       "    </tr>\n",
       "  </thead>\n",
       "  <tbody>\n",
       "    <tr>\n",
       "      <th>0</th>\n",
       "      <td>1,851</td>\n",
       "      <td>0</td>\n",
       "      <td>0</td>\n",
       "      <td>1</td>\n",
       "      <td>10</td>\n",
       "      <td>0</td>\n",
       "      <td>0.000</td>\n",
       "    </tr>\n",
       "    <tr>\n",
       "      <th>1</th>\n",
       "      <td>2,568</td>\n",
       "      <td>1</td>\n",
       "      <td>1</td>\n",
       "      <td>1</td>\n",
       "      <td>47</td>\n",
       "      <td>1</td>\n",
       "      <td>0.000</td>\n",
       "    </tr>\n",
       "    <tr>\n",
       "      <th>2</th>\n",
       "      <td>820</td>\n",
       "      <td>0</td>\n",
       "      <td>0</td>\n",
       "      <td>0</td>\n",
       "      <td>1</td>\n",
       "      <td>0</td>\n",
       "      <td>0.000</td>\n",
       "    </tr>\n",
       "    <tr>\n",
       "      <th>3</th>\n",
       "      <td>2,842</td>\n",
       "      <td>0</td>\n",
       "      <td>1</td>\n",
       "      <td>0</td>\n",
       "      <td>17</td>\n",
       "      <td>0</td>\n",
       "      <td>0.000</td>\n",
       "    </tr>\n",
       "    <tr>\n",
       "      <th>4</th>\n",
       "      <td>98,595</td>\n",
       "      <td>237</td>\n",
       "      <td>503</td>\n",
       "      <td>683</td>\n",
       "      <td>3,083</td>\n",
       "      <td>122</td>\n",
       "      <td>12.000</td>\n",
       "    </tr>\n",
       "    <tr>\n",
       "      <th>5</th>\n",
       "      <td>5,872</td>\n",
       "      <td>2</td>\n",
       "      <td>21</td>\n",
       "      <td>41</td>\n",
       "      <td>159</td>\n",
       "      <td>4</td>\n",
       "      <td>0.000</td>\n",
       "    </tr>\n",
       "    <tr>\n",
       "      <th>6</th>\n",
       "      <td>1,107</td>\n",
       "      <td>0</td>\n",
       "      <td>0</td>\n",
       "      <td>2</td>\n",
       "      <td>5</td>\n",
       "      <td>0</td>\n",
       "      <td>0.000</td>\n",
       "    </tr>\n",
       "    <tr>\n",
       "      <th>7</th>\n",
       "      <td>4,032</td>\n",
       "      <td>0</td>\n",
       "      <td>9</td>\n",
       "      <td>6</td>\n",
       "      <td>24</td>\n",
       "      <td>0</td>\n",
       "      <td>0.000</td>\n",
       "    </tr>\n",
       "    <tr>\n",
       "      <th>8</th>\n",
       "      <td>1,723</td>\n",
       "      <td>0</td>\n",
       "      <td>1</td>\n",
       "      <td>2</td>\n",
       "      <td>0</td>\n",
       "      <td>0</td>\n",
       "      <td>0.000</td>\n",
       "    </tr>\n",
       "    <tr>\n",
       "      <th>9</th>\n",
       "      <td>118,860</td>\n",
       "      <td>43</td>\n",
       "      <td>68</td>\n",
       "      <td>176</td>\n",
       "      <td>1,846</td>\n",
       "      <td>44</td>\n",
       "      <td>2.000</td>\n",
       "    </tr>\n",
       "  </tbody>\n",
       "</table>\n",
       "</div>"
      ],
      "text/plain": [
       "  Population Robbery AggravatedAssault Burglary LarcenyTheft  \\\n",
       "0      1,851       0                 0        1           10   \n",
       "1      2,568       1                 1        1           47   \n",
       "2        820       0                 0        0            1   \n",
       "3      2,842       0                 1        0           17   \n",
       "4     98,595     237               503      683        3,083   \n",
       "5      5,872       2                21       41          159   \n",
       "6      1,107       0                 0        2            5   \n",
       "7      4,032       0                 9        6           24   \n",
       "8      1,723       0                 1        2            0   \n",
       "9    118,860      43                68      176        1,846   \n",
       "\n",
       "  MotorVehicleTheft  Arson3  \n",
       "0                 0   0.000  \n",
       "1                 1   0.000  \n",
       "2                 0   0.000  \n",
       "3                 0   0.000  \n",
       "4               122  12.000  \n",
       "5                 4   0.000  \n",
       "6                 0   0.000  \n",
       "7                 0   0.000  \n",
       "8                 0   0.000  \n",
       "9                44   2.000  "
      ]
     },
     "execution_count": 166,
     "metadata": {},
     "output_type": "execute_result"
    }
   ],
   "source": [
    "crime2 = pd.read_csv('2014Offenses.csv',\n",
    "                    header=0,\n",
    "                    names=['City', 'Population', 'ViolentCrime', 'Manslaughter', 'RapeCurrent', 'RapeLegacy', 'Robbery', 'AggravatedAssault', 'PropertyCrime', 'Burglary', 'LarcenyTheft', 'MotorVehicleTheft', 'Arson3'],\n",
    "                    )\n",
    "crime2 = crime2.drop(['City', 'RapeLegacy', 'Manslaughter', 'PropertyCrime', 'ViolentCrime', 'RapeCurrent'], axis=1)\n",
    "crime2.head(10)"
   ]
  },
  {
   "cell_type": "code",
   "execution_count": 167,
   "metadata": {},
   "outputs": [],
   "source": [
    "for col in crime2.columns[:-1]:\n",
    "    crime2[col] = crime2[col].str.replace(\",\",\"\")\n",
    "\n",
    "imp = Imputer(missing_values='NaN', strategy='mean', axis=0)\n",
    "imp.fit(crime2)\n",
    "crime2 = pd.DataFrame(data=imp.transform(crime2) , columns=crime2.columns)"
   ]
  },
  {
   "cell_type": "code",
   "execution_count": 168,
   "metadata": {},
   "outputs": [
    {
     "data": {
      "text/plain": [
       "Population           float64\n",
       "Robbery              float64\n",
       "AggravatedAssault    float64\n",
       "Burglary             float64\n",
       "LarcenyTheft         float64\n",
       "MotorVehicleTheft    float64\n",
       "Arson3               float64\n",
       "dtype: object"
      ]
     },
     "execution_count": 168,
     "metadata": {},
     "output_type": "execute_result"
    }
   ],
   "source": [
    "crime2.dtypes"
   ]
  },
  {
   "cell_type": "code",
   "execution_count": 169,
   "metadata": {},
   "outputs": [],
   "source": [
    "for col in crime2.columns:\n",
    "    crime2[col] = crime2[col].apply(pd.to_numeric).astype('int64')"
   ]
  },
  {
   "cell_type": "code",
   "execution_count": 170,
   "metadata": {},
   "outputs": [
    {
     "data": {
      "text/plain": [
       "Arson3               0\n",
       "MotorVehicleTheft    0\n",
       "LarcenyTheft         0\n",
       "Burglary             0\n",
       "AggravatedAssault    0\n",
       "dtype: int64"
      ]
     },
     "execution_count": 170,
     "metadata": {},
     "output_type": "execute_result"
    }
   ],
   "source": [
    "crime2.isnull().sum().sort_values(ascending=False).head()"
   ]
  },
  {
   "cell_type": "code",
   "execution_count": 171,
   "metadata": {},
   "outputs": [],
   "source": [
    "X = crime2.drop('Burglary', 1)\n",
    "y = crime2['Burglary']"
   ]
  },
  {
   "cell_type": "code",
   "execution_count": 172,
   "metadata": {},
   "outputs": [],
   "source": [
    "def add_interactions(X):\n",
    "    # Get feature names\n",
    "    combos = list(combinations(list(X.columns), 2))\n",
    "    colnames = list(X.columns) + ['_'.join(X) for X in combos]\n",
    "    \n",
    "    # Find interactions\n",
    "    poly = PolynomialFeatures(interaction_only=True, include_bias=False)\n",
    "    X = poly.fit_transform(X)\n",
    "    X = pd.DataFrame(X)\n",
    "    X.columns = colnames\n",
    "    \n",
    "    # Remove interaction terms with all 0 values            \n",
    "    noint_indicies = [i for i, X in enumerate(list((X == 0).all())) if X]\n",
    "    X = X.drop(X.columns[noint_indicies], axis=1)\n",
    "    \n",
    "    return X"
   ]
  },
  {
   "cell_type": "code",
   "execution_count": 173,
   "metadata": {},
   "outputs": [
    {
     "name": "stdout",
     "output_type": "stream",
     "text": [
      "   Population  Robbery  AggravatedAssault  LarcenyTheft  MotorVehicleTheft  \\\n",
      "0    1851.000    0.000              0.000        10.000              0.000   \n",
      "1    2568.000    1.000              1.000        47.000              1.000   \n",
      "2     820.000    0.000              0.000         1.000              0.000   \n",
      "3    2842.000    0.000              1.000        17.000              0.000   \n",
      "4   98595.000  237.000            503.000      3083.000            122.000   \n",
      "\n",
      "   Arson3  Population_Robbery  Population_AggravatedAssault  \\\n",
      "0   0.000               0.000                         0.000   \n",
      "1   0.000            2568.000                      2568.000   \n",
      "2   0.000               0.000                         0.000   \n",
      "3   0.000               0.000                      2842.000   \n",
      "4  12.000        23367015.000                  49593285.000   \n",
      "\n",
      "   Population_LarcenyTheft  Population_MotorVehicleTheft  \\\n",
      "0                18510.000                         0.000   \n",
      "1               120696.000                      2568.000   \n",
      "2                  820.000                         0.000   \n",
      "3                48314.000                         0.000   \n",
      "4            303968385.000                  12028590.000   \n",
      "\n",
      "             ...             Robbery_AggravatedAssault  Robbery_LarcenyTheft  \\\n",
      "0            ...                                 0.000                 0.000   \n",
      "1            ...                                 1.000                47.000   \n",
      "2            ...                                 0.000                 0.000   \n",
      "3            ...                                 0.000                 0.000   \n",
      "4            ...                            119211.000            730671.000   \n",
      "\n",
      "   Robbery_MotorVehicleTheft  Robbery_Arson3  AggravatedAssault_LarcenyTheft  \\\n",
      "0                      0.000           0.000                           0.000   \n",
      "1                      1.000           0.000                          47.000   \n",
      "2                      0.000           0.000                           0.000   \n",
      "3                      0.000           0.000                          17.000   \n",
      "4                  28914.000        2844.000                     1550749.000   \n",
      "\n",
      "   AggravatedAssault_MotorVehicleTheft  AggravatedAssault_Arson3  \\\n",
      "0                                0.000                     0.000   \n",
      "1                                1.000                     0.000   \n",
      "2                                0.000                     0.000   \n",
      "3                                0.000                     0.000   \n",
      "4                            61366.000                  6036.000   \n",
      "\n",
      "   LarcenyTheft_MotorVehicleTheft  LarcenyTheft_Arson3  \\\n",
      "0                           0.000                0.000   \n",
      "1                          47.000                0.000   \n",
      "2                           0.000                0.000   \n",
      "3                           0.000                0.000   \n",
      "4                      376126.000            36996.000   \n",
      "\n",
      "   MotorVehicleTheft_Arson3  \n",
      "0                     0.000  \n",
      "1                     0.000  \n",
      "2                     0.000  \n",
      "3                     0.000  \n",
      "4                  1464.000  \n",
      "\n",
      "[5 rows x 21 columns]\n"
     ]
    }
   ],
   "source": [
    "X = add_interactions(X)\n",
    "print(X.head(5))"
   ]
  },
  {
   "cell_type": "code",
   "execution_count": 174,
   "metadata": {},
   "outputs": [],
   "source": [
    "pca = PCA(n_components=10)\n",
    "X_pca = pd.DataFrame(pca.fit_transform(X))"
   ]
  },
  {
   "cell_type": "code",
   "execution_count": 175,
   "metadata": {},
   "outputs": [],
   "source": [
    "X_train, X_test, y_train, y_test = train_test_split(X_pca, y, train_size=0.70, random_state=1)"
   ]
  },
  {
   "cell_type": "code",
   "execution_count": 176,
   "metadata": {},
   "outputs": [
    {
     "data": {
      "text/plain": [
       "LinearRegression(copy_X=True, fit_intercept=True, n_jobs=1, normalize=False)"
      ]
     },
     "execution_count": 176,
     "metadata": {},
     "output_type": "execute_result"
    }
   ],
   "source": [
    "regression_model = LinearRegression()\n",
    "regression_model.fit(X_train, y_train)"
   ]
  },
  {
   "cell_type": "code",
   "execution_count": 177,
   "metadata": {},
   "outputs": [],
   "source": [
    "y_pred = regression_model.predict(X_test)"
   ]
  },
  {
   "cell_type": "code",
   "execution_count": 178,
   "metadata": {},
   "outputs": [
    {
     "name": "stdout",
     "output_type": "stream",
     "text": [
      "Coefficients: \n",
      " [ 1.58885248e-08  1.32182441e-05  8.81648058e-06  5.75712943e-06\n",
      "  1.03233431e-04 -1.01418673e-05  2.93831064e-03  9.85676110e-05\n",
      "  7.44691553e-03 -9.42857668e-04]\n",
      "Mean squared error: 1188.94\n",
      "Variance score: 0.89\n"
     ]
    }
   ],
   "source": [
    "# The coefficients\n",
    "print('Coefficients: \\n', regression_model.coef_)\n",
    "# The mean squared error\n",
    "print(\"Mean squared error: %.2f\"\n",
    "      % mean_squared_error(y_test, y_pred))\n",
    "# Explained variance score: 1 is perfect prediction\n",
    "print('Variance score: %.2f' % r2_score(y_test, y_pred))"
   ]
  },
  {
   "cell_type": "markdown",
   "metadata": {},
   "source": [
    "With an 89% variance score, this linear regression applies to two separate yars of data equivalently. "
   ]
  },
  {
   "cell_type": "code",
   "execution_count": null,
   "metadata": {},
   "outputs": [],
   "source": []
  }
 ],
 "metadata": {
  "kernelspec": {
   "display_name": "Python 3",
   "language": "python",
   "name": "python3"
  },
  "language_info": {
   "codemirror_mode": {
    "name": "ipython",
    "version": 3
   },
   "file_extension": ".py",
   "mimetype": "text/x-python",
   "name": "python",
   "nbconvert_exporter": "python",
   "pygments_lexer": "ipython3",
   "version": "3.6.4"
  }
 },
 "nbformat": 4,
 "nbformat_minor": 2
}
