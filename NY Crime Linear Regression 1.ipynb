{
 "cells": [
  {
   "cell_type": "code",
   "execution_count": 1,
   "metadata": {},
   "outputs": [
    {
     "name": "stderr",
     "output_type": "stream",
     "text": [
      "C:\\ProgramData\\Anaconda3\\lib\\site-packages\\sklearn\\cross_validation.py:41: DeprecationWarning: This module was deprecated in version 0.18 in favor of the model_selection module into which all the refactored classes and functions are moved. Also note that the interface of the new CV iterators are different from that of this module. This module will be removed in 0.20.\n",
      "  \"This module will be removed in 0.20.\", DeprecationWarning)\n"
     ]
    }
   ],
   "source": [
    "import pandas as pd\n",
    "import numpy as np\n",
    "import statsmodels.formula.api as smf\n",
    "\n",
    "from statsmodels.sandbox.regression.predstd import wls_prediction_std\n",
    "from matplotlib import pyplot as plt\n",
    "from itertools import combinations\n",
    "from sklearn import linear_model, feature_selection\n",
    "from sklearn.decomposition import PCA\n",
    "from sklearn.cross_validation import train_test_split\n",
    "from sklearn.linear_model import LinearRegression\n",
    "from sklearn.metrics import roc_auc_score, mean_squared_error, r2_score\n",
    "from sklearn import svm\n",
    "from sklearn.preprocessing import PolynomialFeatures\n",
    "from sklearn.preprocessing import Imputer\n",
    "from sklearn.model_selection import KFold\n",
    "from sklearn.model_selection import cross_val_score\n",
    "from sklearn.metrics import confusion_matrix\n",
    "\n",
    "%matplotlib inline\n",
    "pd.options.display.float_format = '{:.3f}'.format\n",
    "\n",
    "# Suppress annoying harmless error.\n",
    "import warnings\n",
    "warnings.filterwarnings(action=\"ignore\", module=\"scipy\", message=\"^internal gelsd\")"
   ]
  },
  {
   "cell_type": "code",
   "execution_count": 2,
   "metadata": {},
   "outputs": [
    {
     "data": {
      "text/html": [
       "<div>\n",
       "<style scoped>\n",
       "    .dataframe tbody tr th:only-of-type {\n",
       "        vertical-align: middle;\n",
       "    }\n",
       "\n",
       "    .dataframe tbody tr th {\n",
       "        vertical-align: top;\n",
       "    }\n",
       "\n",
       "    .dataframe thead th {\n",
       "        text-align: right;\n",
       "    }\n",
       "</style>\n",
       "<table border=\"1\" class=\"dataframe\">\n",
       "  <thead>\n",
       "    <tr style=\"text-align: right;\">\n",
       "      <th></th>\n",
       "      <th>Population</th>\n",
       "      <th>Robbery</th>\n",
       "      <th>AggravatedAssault</th>\n",
       "      <th>PropertyCrime</th>\n",
       "      <th>Burglary</th>\n",
       "      <th>LarcenyTheft</th>\n",
       "      <th>MotorVehicleTheft</th>\n",
       "      <th>Arson3</th>\n",
       "    </tr>\n",
       "  </thead>\n",
       "  <tbody>\n",
       "    <tr>\n",
       "      <th>0</th>\n",
       "      <td>1,861</td>\n",
       "      <td>0</td>\n",
       "      <td>0</td>\n",
       "      <td>12</td>\n",
       "      <td>2</td>\n",
       "      <td>10</td>\n",
       "      <td>0</td>\n",
       "      <td>0.000</td>\n",
       "    </tr>\n",
       "    <tr>\n",
       "      <th>1</th>\n",
       "      <td>2,577</td>\n",
       "      <td>0</td>\n",
       "      <td>3</td>\n",
       "      <td>24</td>\n",
       "      <td>3</td>\n",
       "      <td>20</td>\n",
       "      <td>1</td>\n",
       "      <td>0.000</td>\n",
       "    </tr>\n",
       "    <tr>\n",
       "      <th>2</th>\n",
       "      <td>2,846</td>\n",
       "      <td>0</td>\n",
       "      <td>3</td>\n",
       "      <td>16</td>\n",
       "      <td>1</td>\n",
       "      <td>15</td>\n",
       "      <td>0</td>\n",
       "      <td>0.000</td>\n",
       "    </tr>\n",
       "    <tr>\n",
       "      <th>3</th>\n",
       "      <td>97,956</td>\n",
       "      <td>227</td>\n",
       "      <td>526</td>\n",
       "      <td>4,090</td>\n",
       "      <td>705</td>\n",
       "      <td>3,243</td>\n",
       "      <td>142</td>\n",
       "      <td>nan</td>\n",
       "    </tr>\n",
       "    <tr>\n",
       "      <th>4</th>\n",
       "      <td>6,388</td>\n",
       "      <td>4</td>\n",
       "      <td>16</td>\n",
       "      <td>223</td>\n",
       "      <td>53</td>\n",
       "      <td>165</td>\n",
       "      <td>5</td>\n",
       "      <td>nan</td>\n",
       "    </tr>\n",
       "    <tr>\n",
       "      <th>5</th>\n",
       "      <td>4,089</td>\n",
       "      <td>3</td>\n",
       "      <td>2</td>\n",
       "      <td>46</td>\n",
       "      <td>10</td>\n",
       "      <td>36</td>\n",
       "      <td>0</td>\n",
       "      <td>nan</td>\n",
       "    </tr>\n",
       "    <tr>\n",
       "      <th>6</th>\n",
       "      <td>1,781</td>\n",
       "      <td>0</td>\n",
       "      <td>3</td>\n",
       "      <td>10</td>\n",
       "      <td>0</td>\n",
       "      <td>10</td>\n",
       "      <td>0</td>\n",
       "      <td>0.000</td>\n",
       "    </tr>\n",
       "    <tr>\n",
       "      <th>7</th>\n",
       "      <td>118,296</td>\n",
       "      <td>31</td>\n",
       "      <td>68</td>\n",
       "      <td>2,118</td>\n",
       "      <td>204</td>\n",
       "      <td>1,882</td>\n",
       "      <td>32</td>\n",
       "      <td>3.000</td>\n",
       "    </tr>\n",
       "    <tr>\n",
       "      <th>8</th>\n",
       "      <td>9,519</td>\n",
       "      <td>4</td>\n",
       "      <td>3</td>\n",
       "      <td>210</td>\n",
       "      <td>16</td>\n",
       "      <td>188</td>\n",
       "      <td>6</td>\n",
       "      <td>1.000</td>\n",
       "    </tr>\n",
       "    <tr>\n",
       "      <th>9</th>\n",
       "      <td>18,182</td>\n",
       "      <td>12</td>\n",
       "      <td>18</td>\n",
       "      <td>405</td>\n",
       "      <td>99</td>\n",
       "      <td>291</td>\n",
       "      <td>15</td>\n",
       "      <td>0.000</td>\n",
       "    </tr>\n",
       "  </tbody>\n",
       "</table>\n",
       "</div>"
      ],
      "text/plain": [
       "  Population Robbery AggravatedAssault PropertyCrime Burglary LarcenyTheft  \\\n",
       "0      1,861       0                 0            12        2           10   \n",
       "1      2,577       0                 3            24        3           20   \n",
       "2      2,846       0                 3            16        1           15   \n",
       "3     97,956     227               526         4,090      705        3,243   \n",
       "4      6,388       4                16           223       53          165   \n",
       "5      4,089       3                 2            46       10           36   \n",
       "6      1,781       0                 3            10        0           10   \n",
       "7    118,296      31                68         2,118      204        1,882   \n",
       "8      9,519       4                 3           210       16          188   \n",
       "9     18,182      12                18           405       99          291   \n",
       "\n",
       "  MotorVehicleTheft  Arson3  \n",
       "0                 0   0.000  \n",
       "1                 1   0.000  \n",
       "2                 0   0.000  \n",
       "3               142     nan  \n",
       "4                 5     nan  \n",
       "5                 0     nan  \n",
       "6                 0   0.000  \n",
       "7                32   3.000  \n",
       "8                 6   1.000  \n",
       "9                15   0.000  "
      ]
     },
     "execution_count": 2,
     "metadata": {},
     "output_type": "execute_result"
    }
   ],
   "source": [
    "crime = pd.read_csv('offenses_by_city_2013.csv',\n",
    "                    header=0,\n",
    "                    names=['City', 'Population', 'ViolentCrime', 'Manslaughter', 'RapeCurrent', 'RapeLegacy', 'Robbery', 'AggravatedAssault', 'PropertyCrime', 'Burglary', 'LarcenyTheft', 'MotorVehicleTheft', 'Arson3'],\n",
    "                    )\n",
    "crime = crime.drop(['City', 'ViolentCrime', 'Manslaughter', 'RapeCurrent', 'RapeLegacy'], axis=1)\n",
    "crime.head(10)"
   ]
  },
  {
   "cell_type": "code",
   "execution_count": 3,
   "metadata": {},
   "outputs": [],
   "source": [
    "for col in crime.columns[:-1]:\n",
    "    crime[col] = crime[col].str.replace(\",\",\"\")\n",
    "\n",
    "imp = Imputer(missing_values='NaN', strategy='mean', axis=0)\n",
    "imp.fit(crime)\n",
    "crime = pd.DataFrame(data=imp.transform(crime) , columns=crime.columns)"
   ]
  },
  {
   "cell_type": "code",
   "execution_count": 4,
   "metadata": {},
   "outputs": [
    {
     "data": {
      "text/plain": [
       "Population           float64\n",
       "Robbery              float64\n",
       "AggravatedAssault    float64\n",
       "PropertyCrime        float64\n",
       "Burglary             float64\n",
       "LarcenyTheft         float64\n",
       "MotorVehicleTheft    float64\n",
       "Arson3               float64\n",
       "dtype: object"
      ]
     },
     "execution_count": 4,
     "metadata": {},
     "output_type": "execute_result"
    }
   ],
   "source": [
    "crime.dtypes"
   ]
  },
  {
   "cell_type": "code",
   "execution_count": 5,
   "metadata": {},
   "outputs": [],
   "source": [
    "for col in crime.columns:\n",
    "    crime[col] = crime[col].apply(pd.to_numeric).astype('int64')"
   ]
  },
  {
   "cell_type": "code",
   "execution_count": 6,
   "metadata": {},
   "outputs": [
    {
     "data": {
      "text/plain": [
       "Population           int64\n",
       "Robbery              int64\n",
       "AggravatedAssault    int64\n",
       "PropertyCrime        int64\n",
       "Burglary             int64\n",
       "LarcenyTheft         int64\n",
       "MotorVehicleTheft    int64\n",
       "Arson3               int64\n",
       "dtype: object"
      ]
     },
     "execution_count": 6,
     "metadata": {},
     "output_type": "execute_result"
    }
   ],
   "source": [
    "crime.dtypes"
   ]
  },
  {
   "cell_type": "code",
   "execution_count": 7,
   "metadata": {},
   "outputs": [
    {
     "data": {
      "text/html": [
       "<div>\n",
       "<style scoped>\n",
       "    .dataframe tbody tr th:only-of-type {\n",
       "        vertical-align: middle;\n",
       "    }\n",
       "\n",
       "    .dataframe tbody tr th {\n",
       "        vertical-align: top;\n",
       "    }\n",
       "\n",
       "    .dataframe thead th {\n",
       "        text-align: right;\n",
       "    }\n",
       "</style>\n",
       "<table border=\"1\" class=\"dataframe\">\n",
       "  <thead>\n",
       "    <tr style=\"text-align: right;\">\n",
       "      <th></th>\n",
       "      <th>Population</th>\n",
       "      <th>Robbery</th>\n",
       "      <th>AggravatedAssault</th>\n",
       "      <th>PropertyCrime</th>\n",
       "      <th>Burglary</th>\n",
       "      <th>LarcenyTheft</th>\n",
       "      <th>MotorVehicleTheft</th>\n",
       "      <th>Arson3</th>\n",
       "    </tr>\n",
       "  </thead>\n",
       "  <tbody>\n",
       "    <tr>\n",
       "      <th>count</th>\n",
       "      <td>351.000</td>\n",
       "      <td>351.000</td>\n",
       "      <td>351.000</td>\n",
       "      <td>351.000</td>\n",
       "      <td>351.000</td>\n",
       "      <td>351.000</td>\n",
       "      <td>351.000</td>\n",
       "      <td>351.000</td>\n",
       "    </tr>\n",
       "    <tr>\n",
       "      <th>mean</th>\n",
       "      <td>40037.627</td>\n",
       "      <td>72.895</td>\n",
       "      <td>121.259</td>\n",
       "      <td>792.601</td>\n",
       "      <td>119.678</td>\n",
       "      <td>637.017</td>\n",
       "      <td>35.897</td>\n",
       "      <td>1.464</td>\n",
       "    </tr>\n",
       "    <tr>\n",
       "      <th>std</th>\n",
       "      <td>448104.485</td>\n",
       "      <td>1026.605</td>\n",
       "      <td>1698.804</td>\n",
       "      <td>7626.827</td>\n",
       "      <td>920.976</td>\n",
       "      <td>6318.799</td>\n",
       "      <td>401.691</td>\n",
       "      <td>7.808</td>\n",
       "    </tr>\n",
       "    <tr>\n",
       "      <th>min</th>\n",
       "      <td>526.000</td>\n",
       "      <td>0.000</td>\n",
       "      <td>0.000</td>\n",
       "      <td>0.000</td>\n",
       "      <td>0.000</td>\n",
       "      <td>0.000</td>\n",
       "      <td>0.000</td>\n",
       "      <td>0.000</td>\n",
       "    </tr>\n",
       "    <tr>\n",
       "      <th>25%</th>\n",
       "      <td>3010.500</td>\n",
       "      <td>0.000</td>\n",
       "      <td>1.000</td>\n",
       "      <td>41.000</td>\n",
       "      <td>6.000</td>\n",
       "      <td>31.000</td>\n",
       "      <td>0.000</td>\n",
       "      <td>0.000</td>\n",
       "    </tr>\n",
       "    <tr>\n",
       "      <th>50%</th>\n",
       "      <td>7411.000</td>\n",
       "      <td>1.000</td>\n",
       "      <td>5.000</td>\n",
       "      <td>114.000</td>\n",
       "      <td>18.000</td>\n",
       "      <td>95.000</td>\n",
       "      <td>2.000</td>\n",
       "      <td>1.000</td>\n",
       "    </tr>\n",
       "    <tr>\n",
       "      <th>75%</th>\n",
       "      <td>19324.500</td>\n",
       "      <td>5.000</td>\n",
       "      <td>14.500</td>\n",
       "      <td>343.000</td>\n",
       "      <td>52.500</td>\n",
       "      <td>290.000</td>\n",
       "      <td>7.000</td>\n",
       "      <td>1.000</td>\n",
       "    </tr>\n",
       "    <tr>\n",
       "      <th>max</th>\n",
       "      <td>8396126.000</td>\n",
       "      <td>19170.000</td>\n",
       "      <td>31767.000</td>\n",
       "      <td>141971.000</td>\n",
       "      <td>16606.000</td>\n",
       "      <td>117931.000</td>\n",
       "      <td>7434.000</td>\n",
       "      <td>132.000</td>\n",
       "    </tr>\n",
       "  </tbody>\n",
       "</table>\n",
       "</div>"
      ],
      "text/plain": [
       "       Population   Robbery  AggravatedAssault  PropertyCrime  Burglary  \\\n",
       "count     351.000   351.000            351.000        351.000   351.000   \n",
       "mean    40037.627    72.895            121.259        792.601   119.678   \n",
       "std    448104.485  1026.605           1698.804       7626.827   920.976   \n",
       "min       526.000     0.000              0.000          0.000     0.000   \n",
       "25%      3010.500     0.000              1.000         41.000     6.000   \n",
       "50%      7411.000     1.000              5.000        114.000    18.000   \n",
       "75%     19324.500     5.000             14.500        343.000    52.500   \n",
       "max   8396126.000 19170.000          31767.000     141971.000 16606.000   \n",
       "\n",
       "       LarcenyTheft  MotorVehicleTheft  Arson3  \n",
       "count       351.000            351.000 351.000  \n",
       "mean        637.017             35.897   1.464  \n",
       "std        6318.799            401.691   7.808  \n",
       "min           0.000              0.000   0.000  \n",
       "25%          31.000              0.000   0.000  \n",
       "50%          95.000              2.000   1.000  \n",
       "75%         290.000              7.000   1.000  \n",
       "max      117931.000           7434.000 132.000  "
      ]
     },
     "execution_count": 7,
     "metadata": {},
     "output_type": "execute_result"
    }
   ],
   "source": [
    "crime.describe()"
   ]
  },
  {
   "cell_type": "code",
   "execution_count": 8,
   "metadata": {},
   "outputs": [
    {
     "data": {
      "text/plain": [
       "Arson3               0\n",
       "MotorVehicleTheft    0\n",
       "LarcenyTheft         0\n",
       "Burglary             0\n",
       "PropertyCrime        0\n",
       "dtype: int64"
      ]
     },
     "execution_count": 8,
     "metadata": {},
     "output_type": "execute_result"
    }
   ],
   "source": [
    "crime.isnull().sum().sort_values(ascending=False).head()"
   ]
  },
  {
   "cell_type": "code",
   "execution_count": 9,
   "metadata": {},
   "outputs": [],
   "source": [
    "# Everything above should be copied for use in other regressions"
   ]
  },
  {
   "cell_type": "code",
   "execution_count": 10,
   "metadata": {},
   "outputs": [],
   "source": [
    "X = crime.drop('PropertyCrime', 1)\n",
    "y = crime['PropertyCrime']"
   ]
  },
  {
   "cell_type": "code",
   "execution_count": 11,
   "metadata": {},
   "outputs": [],
   "source": [
    "def add_interactions(X):\n",
    "    # Get feature names\n",
    "    combos = list(combinations(list(X.columns), 2))\n",
    "    colnames = list(X.columns) + ['_'.join(X) for X in combos]\n",
    "    \n",
    "    # Find interactions\n",
    "    poly = PolynomialFeatures(interaction_only=True, include_bias=False)\n",
    "    X = poly.fit_transform(X)\n",
    "    X = pd.DataFrame(X)\n",
    "    X.columns = colnames\n",
    "    \n",
    "    # Remove interaction terms with all 0 values            \n",
    "    noint_indicies = [i for i, X in enumerate(list((X == 0).all())) if X]\n",
    "    X = X.drop(X.columns[noint_indicies], axis=1)\n",
    "    \n",
    "    return X"
   ]
  },
  {
   "cell_type": "code",
   "execution_count": 12,
   "metadata": {},
   "outputs": [
    {
     "name": "stdout",
     "output_type": "stream",
     "text": [
      "   Population  Robbery  AggravatedAssault  Burglary  LarcenyTheft  \\\n",
      "0    1861.000    0.000              0.000     2.000        10.000   \n",
      "1    2577.000    0.000              3.000     3.000        20.000   \n",
      "2    2846.000    0.000              3.000     1.000        15.000   \n",
      "3   97956.000  227.000            526.000   705.000      3243.000   \n",
      "4    6388.000    4.000             16.000    53.000       165.000   \n",
      "\n",
      "   MotorVehicleTheft  Arson3  Population_Robbery  \\\n",
      "0              0.000   0.000               0.000   \n",
      "1              1.000   0.000               0.000   \n",
      "2              0.000   0.000               0.000   \n",
      "3            142.000   1.000        22236012.000   \n",
      "4              5.000   1.000           25552.000   \n",
      "\n",
      "   Population_AggravatedAssault  Population_Burglary  \\\n",
      "0                         0.000             3722.000   \n",
      "1                      7731.000             7731.000   \n",
      "2                      8538.000             2846.000   \n",
      "3                  51524856.000         69058980.000   \n",
      "4                    102208.000           338564.000   \n",
      "\n",
      "             ...             AggravatedAssault_Burglary  \\\n",
      "0            ...                                  0.000   \n",
      "1            ...                                  9.000   \n",
      "2            ...                                  3.000   \n",
      "3            ...                             370830.000   \n",
      "4            ...                                848.000   \n",
      "\n",
      "   AggravatedAssault_LarcenyTheft  AggravatedAssault_MotorVehicleTheft  \\\n",
      "0                           0.000                                0.000   \n",
      "1                          60.000                                3.000   \n",
      "2                          45.000                                0.000   \n",
      "3                     1705818.000                            74692.000   \n",
      "4                        2640.000                               80.000   \n",
      "\n",
      "   AggravatedAssault_Arson3  Burglary_LarcenyTheft  \\\n",
      "0                     0.000                 20.000   \n",
      "1                     0.000                 60.000   \n",
      "2                     0.000                 15.000   \n",
      "3                   526.000            2286315.000   \n",
      "4                    16.000               8745.000   \n",
      "\n",
      "   Burglary_MotorVehicleTheft  Burglary_Arson3  \\\n",
      "0                       0.000            0.000   \n",
      "1                       3.000            0.000   \n",
      "2                       0.000            0.000   \n",
      "3                  100110.000          705.000   \n",
      "4                     265.000           53.000   \n",
      "\n",
      "   LarcenyTheft_MotorVehicleTheft  LarcenyTheft_Arson3  \\\n",
      "0                           0.000                0.000   \n",
      "1                          20.000                0.000   \n",
      "2                           0.000                0.000   \n",
      "3                      460506.000             3243.000   \n",
      "4                         825.000              165.000   \n",
      "\n",
      "   MotorVehicleTheft_Arson3  \n",
      "0                     0.000  \n",
      "1                     0.000  \n",
      "2                     0.000  \n",
      "3                   142.000  \n",
      "4                     5.000  \n",
      "\n",
      "[5 rows x 28 columns]\n"
     ]
    }
   ],
   "source": [
    "X = add_interactions(X)\n",
    "print(X.head(5))"
   ]
  },
  {
   "cell_type": "code",
   "execution_count": 13,
   "metadata": {},
   "outputs": [],
   "source": [
    "pca = PCA(n_components=10)\n",
    "X_pca = pd.DataFrame(pca.fit_transform(X))"
   ]
  },
  {
   "cell_type": "code",
   "execution_count": 14,
   "metadata": {},
   "outputs": [
    {
     "name": "stdout",
     "output_type": "stream",
     "text": [
      "                0            1            2             3           4  \\\n",
      "0 -3012318183.210 -4484135.945 -1730978.710    168983.521  106593.485   \n",
      "1 -3012284454.572 -4484069.527 -1727585.395    165260.928  106693.401   \n",
      "2 -3012293404.019 -4488773.545 -1729494.921    165325.139  108005.481   \n",
      "3 -2686014457.694 28482332.533 34840481.663 -10897451.717 1284703.623   \n",
      "4 -3011264711.313 -4254515.000 -1556538.726    115384.755  126183.582   \n",
      "\n",
      "             5           6          7         8          9  \n",
      "0   -49444.581  -13940.915  -5387.518 -4005.956  -3140.881  \n",
      "1   -47501.406  -14257.182  -5040.506 -3713.226  -2780.759  \n",
      "2   -48865.012  -14155.095  -4940.118 -3575.827  -2604.208  \n",
      "3 -1088510.661 -606225.143 162919.376 60970.081 -57216.793  \n",
      "4   -63422.361   -8229.998  -3332.662 -1938.278  -1320.973  \n"
     ]
    }
   ],
   "source": [
    "print(X_pca.head(5))"
   ]
  },
  {
   "cell_type": "code",
   "execution_count": 15,
   "metadata": {},
   "outputs": [],
   "source": [
    "X_train, X_test, y_train, y_test = train_test_split(X_pca, y, train_size=0.70, random_state=1)"
   ]
  },
  {
   "cell_type": "code",
   "execution_count": 16,
   "metadata": {},
   "outputs": [
    {
     "name": "stdout",
     "output_type": "stream",
     "text": [
      "(351, 8)\n",
      "(351, 28)\n",
      "(351, 10)\n",
      "(351,)\n"
     ]
    }
   ],
   "source": [
    "print(crime.shape)\n",
    "print(X.shape)\n",
    "print(X_pca.shape)\n",
    "print(y.shape)"
   ]
  },
  {
   "cell_type": "code",
   "execution_count": 17,
   "metadata": {},
   "outputs": [
    {
     "data": {
      "text/html": [
       "<div>\n",
       "<style scoped>\n",
       "    .dataframe tbody tr th:only-of-type {\n",
       "        vertical-align: middle;\n",
       "    }\n",
       "\n",
       "    .dataframe tbody tr th {\n",
       "        vertical-align: top;\n",
       "    }\n",
       "\n",
       "    .dataframe thead th {\n",
       "        text-align: right;\n",
       "    }\n",
       "</style>\n",
       "<table border=\"1\" class=\"dataframe\">\n",
       "  <thead>\n",
       "    <tr style=\"text-align: right;\">\n",
       "      <th></th>\n",
       "      <th>0</th>\n",
       "      <th>1</th>\n",
       "      <th>2</th>\n",
       "      <th>3</th>\n",
       "      <th>4</th>\n",
       "      <th>5</th>\n",
       "      <th>6</th>\n",
       "      <th>7</th>\n",
       "      <th>8</th>\n",
       "      <th>9</th>\n",
       "    </tr>\n",
       "  </thead>\n",
       "  <tbody>\n",
       "    <tr>\n",
       "      <th>41</th>\n",
       "      <td>-3012099771.078</td>\n",
       "      <td>-4469811.275</td>\n",
       "      <td>-1680979.222</td>\n",
       "      <td>159463.079</td>\n",
       "      <td>108551.103</td>\n",
       "      <td>-45399.372</td>\n",
       "      <td>-14008.552</td>\n",
       "      <td>-3756.931</td>\n",
       "      <td>-3068.885</td>\n",
       "      <td>-1744.330</td>\n",
       "    </tr>\n",
       "    <tr>\n",
       "      <th>38</th>\n",
       "      <td>-3012244286.015</td>\n",
       "      <td>-4486825.038</td>\n",
       "      <td>-1716288.345</td>\n",
       "      <td>163655.002</td>\n",
       "      <td>107450.430</td>\n",
       "      <td>-49177.828</td>\n",
       "      <td>-14184.915</td>\n",
       "      <td>-5211.407</td>\n",
       "      <td>-3889.376</td>\n",
       "      <td>-2914.305</td>\n",
       "    </tr>\n",
       "    <tr>\n",
       "      <th>213</th>\n",
       "      <td>-3009779294.127</td>\n",
       "      <td>-4522104.757</td>\n",
       "      <td>-1273398.779</td>\n",
       "      <td>32920.978</td>\n",
       "      <td>100637.312</td>\n",
       "      <td>-18556.030</td>\n",
       "      <td>-20101.979</td>\n",
       "      <td>619.332</td>\n",
       "      <td>-458.110</td>\n",
       "      <td>3946.715</td>\n",
       "    </tr>\n",
       "    <tr>\n",
       "      <th>159</th>\n",
       "      <td>-3011396548.527</td>\n",
       "      <td>-4255420.903</td>\n",
       "      <td>-1501828.401</td>\n",
       "      <td>142508.510</td>\n",
       "      <td>72534.601</td>\n",
       "      <td>-28853.030</td>\n",
       "      <td>-7019.370</td>\n",
       "      <td>2329.104</td>\n",
       "      <td>-301.222</td>\n",
       "      <td>277.381</td>\n",
       "    </tr>\n",
       "    <tr>\n",
       "      <th>251</th>\n",
       "      <td>-3012302922.725</td>\n",
       "      <td>-4474025.920</td>\n",
       "      <td>-1728228.674</td>\n",
       "      <td>168828.427</td>\n",
       "      <td>109606.313</td>\n",
       "      <td>-49558.622</td>\n",
       "      <td>-13536.799</td>\n",
       "      <td>-4870.809</td>\n",
       "      <td>-3843.312</td>\n",
       "      <td>-2847.148</td>\n",
       "    </tr>\n",
       "  </tbody>\n",
       "</table>\n",
       "</div>"
      ],
      "text/plain": [
       "                  0            1            2          3          4  \\\n",
       "41  -3012099771.078 -4469811.275 -1680979.222 159463.079 108551.103   \n",
       "38  -3012244286.015 -4486825.038 -1716288.345 163655.002 107450.430   \n",
       "213 -3009779294.127 -4522104.757 -1273398.779  32920.978 100637.312   \n",
       "159 -3011396548.527 -4255420.903 -1501828.401 142508.510  72534.601   \n",
       "251 -3012302922.725 -4474025.920 -1728228.674 168828.427 109606.313   \n",
       "\n",
       "             5          6         7         8         9  \n",
       "41  -45399.372 -14008.552 -3756.931 -3068.885 -1744.330  \n",
       "38  -49177.828 -14184.915 -5211.407 -3889.376 -2914.305  \n",
       "213 -18556.030 -20101.979   619.332  -458.110  3946.715  \n",
       "159 -28853.030  -7019.370  2329.104  -301.222   277.381  \n",
       "251 -49558.622 -13536.799 -4870.809 -3843.312 -2847.148  "
      ]
     },
     "execution_count": 17,
     "metadata": {},
     "output_type": "execute_result"
    }
   ],
   "source": [
    "X_train.head()"
   ]
  },
  {
   "cell_type": "code",
   "execution_count": 18,
   "metadata": {},
   "outputs": [],
   "source": [
    "# Such a large set of features can cause overfitting and also slow computing\n",
    "# Use feature selection to select the most important features\n",
    "select = feature_selection.SelectKBest(k=10)\n",
    "selected_features = select.fit(X_train, y_train)\n",
    "indices_selected = selected_features.get_support(indices=True)\n",
    "colnames_selected = [X_pca.columns[i] for i in indices_selected]\n",
    "\n",
    "X_train_selected = X_train[colnames_selected]\n",
    "X_test_selected = X_test[colnames_selected]"
   ]
  },
  {
   "cell_type": "code",
   "execution_count": 19,
   "metadata": {},
   "outputs": [
    {
     "name": "stdout",
     "output_type": "stream",
     "text": [
      "[0, 1, 2, 3, 4, 5, 6, 7, 8, 9]\n"
     ]
    }
   ],
   "source": [
    "print(colnames_selected)"
   ]
  },
  {
   "cell_type": "code",
   "execution_count": 20,
   "metadata": {},
   "outputs": [
    {
     "data": {
      "text/plain": [
       "LinearRegression(copy_X=True, fit_intercept=True, n_jobs=1, normalize=False)"
      ]
     },
     "execution_count": 20,
     "metadata": {},
     "output_type": "execute_result"
    }
   ],
   "source": [
    "regression_model = LinearRegression()\n",
    "regression_model.fit(X_train, y_train)"
   ]
  },
  {
   "cell_type": "code",
   "execution_count": 21,
   "metadata": {},
   "outputs": [],
   "source": [
    "y_pred = regression_model.predict(X_test)"
   ]
  },
  {
   "cell_type": "code",
   "execution_count": 22,
   "metadata": {},
   "outputs": [
    {
     "name": "stdout",
     "output_type": "stream",
     "text": [
      "(245,)\n",
      "(245, 10)\n"
     ]
    }
   ],
   "source": [
    "print(y_train.shape)\n",
    "print(X_train.shape)"
   ]
  },
  {
   "cell_type": "code",
   "execution_count": 23,
   "metadata": {},
   "outputs": [
    {
     "name": "stdout",
     "output_type": "stream",
     "text": [
      "Coefficients: \n",
      " [ 1.34983703e-07  2.48421886e-05  4.37404734e-05 -2.80344846e-05\n",
      "  7.52224763e-05  1.78601488e-04  8.39643403e-04  7.67140884e-03\n",
      "  1.80762523e-02  7.70716440e-03]\n",
      "Mean squared error: 129367.75\n",
      "Variance score: 0.88\n"
     ]
    }
   ],
   "source": [
    "# The coefficients\n",
    "print('Coefficients: \\n', regression_model.coef_)\n",
    "# The mean squared error\n",
    "print(\"Mean squared error: %.2f\"\n",
    "      % mean_squared_error(y_test, y_pred))\n",
    "# Explained variance score: 1 is perfect prediction\n",
    "print('Variance score: %.2f' % r2_score(y_test, y_pred))"
   ]
  }
 ],
 "metadata": {
  "kernelspec": {
   "display_name": "Python 3",
   "language": "python",
   "name": "python3"
  },
  "language_info": {
   "codemirror_mode": {
    "name": "ipython",
    "version": 3
   },
   "file_extension": ".py",
   "mimetype": "text/x-python",
   "name": "python",
   "nbconvert_exporter": "python",
   "pygments_lexer": "ipython3",
   "version": "3.6.4"
  }
 },
 "nbformat": 4,
 "nbformat_minor": 2
}
