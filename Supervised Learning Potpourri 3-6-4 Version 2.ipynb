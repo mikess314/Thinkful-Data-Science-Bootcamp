{
 "cells": [
  {
   "cell_type": "code",
   "execution_count": 30,
   "metadata": {},
   "outputs": [],
   "source": [
    "import pandas as pd\n",
    "import numpy as np\n",
    "import scipy\n",
    "import matplotlib.pyplot as plt\n",
    "%matplotlib inline\n",
    "\n",
    "from sklearn import ensemble, linear_model, preprocessing, cross_validation, neighbors, tree, svm\n",
    "from sklearn.utils import shuffle\n",
    "from sklearn.preprocessing import Imputer\n",
    "from sklearn.svm import SVR\n",
    "from sklearn.decomposition import PCA\n",
    "from sklearn.cross_validation import train_test_split\n",
    "from sklearn.linear_model import LinearRegression\n",
    "from sklearn.metrics import roc_auc_score, r2_score, mean_squared_error\n",
    "from sklearn.model_selection import cross_val_score\n",
    "from sklearn.neighbors import KNeighborsRegressor\n",
    "from sklearn.ensemble import GradientBoostingRegressor"
   ]
  },
  {
   "cell_type": "markdown",
   "metadata": {},
   "source": [
    "### This Notebook contains the minimal code necessary to accomplish the modeling. The process containing the decisions that led to this can be found in \"Version 1\""
   ]
  },
  {
   "cell_type": "markdown",
   "metadata": {},
   "source": [
    "The assignment here is to create a predictive model using Supervised Learning models learned so far to predict housing prices for the Melbourne Metropolitan area. The Kaggle dataset containend two CSVs. One of them contained a great deal of missing data such that it became largely useless. The other was missing about 25% of the Prices, but that still left it with over 29,000 observations. "
   ]
  },
  {
   "cell_type": "code",
   "execution_count": 31,
   "metadata": {},
   "outputs": [],
   "source": [
    "df2 = pd.read_csv('MELBOURNE_HOUSE_PRICES_LESS.csv')"
   ]
  },
  {
   "cell_type": "code",
   "execution_count": 32,
   "metadata": {},
   "outputs": [],
   "source": [
    "df2 = df2.dropna()"
   ]
  },
  {
   "cell_type": "code",
   "execution_count": 33,
   "metadata": {},
   "outputs": [
    {
     "name": "stdout",
     "output_type": "stream",
     "text": [
      "<class 'pandas.core.frame.DataFrame'>\n",
      "Int64Index: 41196 entries, 0 to 52961\n",
      "Data columns (total 12 columns):\n",
      "Suburb           41196 non-null object\n",
      "Address          41196 non-null object\n",
      "Rooms            41196 non-null int64\n",
      "Type             41196 non-null object\n",
      "Price            41196 non-null float64\n",
      "Method           41196 non-null object\n",
      "SellerG          41196 non-null object\n",
      "Date             41196 non-null object\n",
      "Regionname       41196 non-null object\n",
      "Propertycount    41196 non-null int64\n",
      "Distance         41196 non-null float64\n",
      "CouncilArea      41196 non-null object\n",
      "dtypes: float64(2), int64(2), object(8)\n",
      "memory usage: 4.1+ MB\n"
     ]
    }
   ],
   "source": [
    "df2.info()"
   ]
  },
  {
   "cell_type": "markdown",
   "metadata": {},
   "source": [
    "Preprocessing included limiting the DataFrame to observations that contained value 'h' for feature 'type'. All others were not houses, which is the assignment for this model. \n",
    "\n",
    "I also dropped columns that conained data that didn't add any value to the model such as the address, name of the seller, date of the listing, etc. Then I created dummies for the categorical features, one of which was the Suburb which will be a major factor later in this Notebook. "
   ]
  },
  {
   "cell_type": "code",
   "execution_count": 34,
   "metadata": {},
   "outputs": [],
   "source": [
    "df2 = df2.loc[df2['Type'] == 'h']"
   ]
  },
  {
   "cell_type": "code",
   "execution_count": 35,
   "metadata": {},
   "outputs": [
    {
     "name": "stdout",
     "output_type": "stream",
     "text": [
      "<class 'pandas.core.frame.DataFrame'>\n",
      "Int64Index: 29207 entries, 0 to 52961\n",
      "Data columns (total 12 columns):\n",
      "Suburb           29207 non-null object\n",
      "Address          29207 non-null object\n",
      "Rooms            29207 non-null int64\n",
      "Type             29207 non-null object\n",
      "Price            29207 non-null float64\n",
      "Method           29207 non-null object\n",
      "SellerG          29207 non-null object\n",
      "Date             29207 non-null object\n",
      "Regionname       29207 non-null object\n",
      "Propertycount    29207 non-null int64\n",
      "Distance         29207 non-null float64\n",
      "CouncilArea      29207 non-null object\n",
      "dtypes: float64(2), int64(2), object(8)\n",
      "memory usage: 2.9+ MB\n"
     ]
    }
   ],
   "source": [
    "df2.info()"
   ]
  },
  {
   "cell_type": "code",
   "execution_count": 36,
   "metadata": {},
   "outputs": [],
   "source": [
    "df2 = df2.drop(['Address', 'SellerG', 'Date', 'Regionname', 'Type', 'Suburb'], 1)"
   ]
  },
  {
   "cell_type": "code",
   "execution_count": 37,
   "metadata": {},
   "outputs": [
    {
     "name": "stdout",
     "output_type": "stream",
     "text": [
      "<class 'pandas.core.frame.DataFrame'>\n",
      "Int64Index: 29207 entries, 0 to 52961\n",
      "Data columns (total 6 columns):\n",
      "Rooms            29207 non-null int64\n",
      "Price            29207 non-null float64\n",
      "Method           29207 non-null object\n",
      "Propertycount    29207 non-null int64\n",
      "Distance         29207 non-null float64\n",
      "CouncilArea      29207 non-null object\n",
      "dtypes: float64(2), int64(2), object(2)\n",
      "memory usage: 1.6+ MB\n"
     ]
    }
   ],
   "source": [
    "df2.info()"
   ]
  },
  {
   "cell_type": "code",
   "execution_count": 38,
   "metadata": {},
   "outputs": [],
   "source": [
    "df2 = pd.get_dummies(data=df2, columns=['Method', 'CouncilArea'])"
   ]
  },
  {
   "cell_type": "code",
   "execution_count": 39,
   "metadata": {},
   "outputs": [
    {
     "data": {
      "text/html": [
       "<div>\n",
       "<style scoped>\n",
       "    .dataframe tbody tr th:only-of-type {\n",
       "        vertical-align: middle;\n",
       "    }\n",
       "\n",
       "    .dataframe tbody tr th {\n",
       "        vertical-align: top;\n",
       "    }\n",
       "\n",
       "    .dataframe thead th {\n",
       "        text-align: right;\n",
       "    }\n",
       "</style>\n",
       "<table border=\"1\" class=\"dataframe\">\n",
       "  <thead>\n",
       "    <tr style=\"text-align: right;\">\n",
       "      <th></th>\n",
       "      <th>Rooms</th>\n",
       "      <th>Price</th>\n",
       "      <th>Propertycount</th>\n",
       "      <th>Distance</th>\n",
       "      <th>Method_PI</th>\n",
       "      <th>Method_S</th>\n",
       "      <th>Method_SA</th>\n",
       "      <th>Method_SP</th>\n",
       "      <th>Method_VB</th>\n",
       "      <th>CouncilArea_Banyule City Council</th>\n",
       "      <th>...</th>\n",
       "      <th>CouncilArea_Moorabool Shire Council</th>\n",
       "      <th>CouncilArea_Moreland City Council</th>\n",
       "      <th>CouncilArea_Nillumbik Shire Council</th>\n",
       "      <th>CouncilArea_Port Phillip City Council</th>\n",
       "      <th>CouncilArea_Stonnington City Council</th>\n",
       "      <th>CouncilArea_Whitehorse City Council</th>\n",
       "      <th>CouncilArea_Whittlesea City Council</th>\n",
       "      <th>CouncilArea_Wyndham City Council</th>\n",
       "      <th>CouncilArea_Yarra City Council</th>\n",
       "      <th>CouncilArea_Yarra Ranges Shire Council</th>\n",
       "    </tr>\n",
       "  </thead>\n",
       "  <tbody>\n",
       "    <tr>\n",
       "      <th>0</th>\n",
       "      <td>3</td>\n",
       "      <td>1490000.0</td>\n",
       "      <td>4019</td>\n",
       "      <td>3.0</td>\n",
       "      <td>0</td>\n",
       "      <td>1</td>\n",
       "      <td>0</td>\n",
       "      <td>0</td>\n",
       "      <td>0</td>\n",
       "      <td>0</td>\n",
       "      <td>...</td>\n",
       "      <td>0</td>\n",
       "      <td>0</td>\n",
       "      <td>0</td>\n",
       "      <td>0</td>\n",
       "      <td>0</td>\n",
       "      <td>0</td>\n",
       "      <td>0</td>\n",
       "      <td>0</td>\n",
       "      <td>1</td>\n",
       "      <td>0</td>\n",
       "    </tr>\n",
       "    <tr>\n",
       "      <th>1</th>\n",
       "      <td>3</td>\n",
       "      <td>1220000.0</td>\n",
       "      <td>4019</td>\n",
       "      <td>3.0</td>\n",
       "      <td>0</td>\n",
       "      <td>1</td>\n",
       "      <td>0</td>\n",
       "      <td>0</td>\n",
       "      <td>0</td>\n",
       "      <td>0</td>\n",
       "      <td>...</td>\n",
       "      <td>0</td>\n",
       "      <td>0</td>\n",
       "      <td>0</td>\n",
       "      <td>0</td>\n",
       "      <td>0</td>\n",
       "      <td>0</td>\n",
       "      <td>0</td>\n",
       "      <td>0</td>\n",
       "      <td>1</td>\n",
       "      <td>0</td>\n",
       "    </tr>\n",
       "    <tr>\n",
       "      <th>2</th>\n",
       "      <td>3</td>\n",
       "      <td>1420000.0</td>\n",
       "      <td>4019</td>\n",
       "      <td>3.0</td>\n",
       "      <td>0</td>\n",
       "      <td>1</td>\n",
       "      <td>0</td>\n",
       "      <td>0</td>\n",
       "      <td>0</td>\n",
       "      <td>0</td>\n",
       "      <td>...</td>\n",
       "      <td>0</td>\n",
       "      <td>0</td>\n",
       "      <td>0</td>\n",
       "      <td>0</td>\n",
       "      <td>0</td>\n",
       "      <td>0</td>\n",
       "      <td>0</td>\n",
       "      <td>0</td>\n",
       "      <td>1</td>\n",
       "      <td>0</td>\n",
       "    </tr>\n",
       "    <tr>\n",
       "      <th>3</th>\n",
       "      <td>3</td>\n",
       "      <td>1515000.0</td>\n",
       "      <td>1543</td>\n",
       "      <td>7.5</td>\n",
       "      <td>0</td>\n",
       "      <td>1</td>\n",
       "      <td>0</td>\n",
       "      <td>0</td>\n",
       "      <td>0</td>\n",
       "      <td>0</td>\n",
       "      <td>...</td>\n",
       "      <td>0</td>\n",
       "      <td>0</td>\n",
       "      <td>0</td>\n",
       "      <td>0</td>\n",
       "      <td>0</td>\n",
       "      <td>0</td>\n",
       "      <td>0</td>\n",
       "      <td>0</td>\n",
       "      <td>0</td>\n",
       "      <td>0</td>\n",
       "    </tr>\n",
       "    <tr>\n",
       "      <th>4</th>\n",
       "      <td>2</td>\n",
       "      <td>670000.0</td>\n",
       "      <td>3464</td>\n",
       "      <td>10.4</td>\n",
       "      <td>0</td>\n",
       "      <td>1</td>\n",
       "      <td>0</td>\n",
       "      <td>0</td>\n",
       "      <td>0</td>\n",
       "      <td>0</td>\n",
       "      <td>...</td>\n",
       "      <td>0</td>\n",
       "      <td>0</td>\n",
       "      <td>0</td>\n",
       "      <td>0</td>\n",
       "      <td>0</td>\n",
       "      <td>0</td>\n",
       "      <td>0</td>\n",
       "      <td>0</td>\n",
       "      <td>0</td>\n",
       "      <td>0</td>\n",
       "    </tr>\n",
       "  </tbody>\n",
       "</table>\n",
       "<p>5 rows × 42 columns</p>\n",
       "</div>"
      ],
      "text/plain": [
       "   Rooms      Price  Propertycount  Distance  Method_PI  Method_S  Method_SA  \\\n",
       "0      3  1490000.0           4019       3.0          0         1          0   \n",
       "1      3  1220000.0           4019       3.0          0         1          0   \n",
       "2      3  1420000.0           4019       3.0          0         1          0   \n",
       "3      3  1515000.0           1543       7.5          0         1          0   \n",
       "4      2   670000.0           3464      10.4          0         1          0   \n",
       "\n",
       "   Method_SP  Method_VB  CouncilArea_Banyule City Council  \\\n",
       "0          0          0                                 0   \n",
       "1          0          0                                 0   \n",
       "2          0          0                                 0   \n",
       "3          0          0                                 0   \n",
       "4          0          0                                 0   \n",
       "\n",
       "                    ...                    \\\n",
       "0                   ...                     \n",
       "1                   ...                     \n",
       "2                   ...                     \n",
       "3                   ...                     \n",
       "4                   ...                     \n",
       "\n",
       "   CouncilArea_Moorabool Shire Council  CouncilArea_Moreland City Council  \\\n",
       "0                                    0                                  0   \n",
       "1                                    0                                  0   \n",
       "2                                    0                                  0   \n",
       "3                                    0                                  0   \n",
       "4                                    0                                  0   \n",
       "\n",
       "   CouncilArea_Nillumbik Shire Council  CouncilArea_Port Phillip City Council  \\\n",
       "0                                    0                                      0   \n",
       "1                                    0                                      0   \n",
       "2                                    0                                      0   \n",
       "3                                    0                                      0   \n",
       "4                                    0                                      0   \n",
       "\n",
       "   CouncilArea_Stonnington City Council  CouncilArea_Whitehorse City Council  \\\n",
       "0                                     0                                    0   \n",
       "1                                     0                                    0   \n",
       "2                                     0                                    0   \n",
       "3                                     0                                    0   \n",
       "4                                     0                                    0   \n",
       "\n",
       "   CouncilArea_Whittlesea City Council  CouncilArea_Wyndham City Council  \\\n",
       "0                                    0                                 0   \n",
       "1                                    0                                 0   \n",
       "2                                    0                                 0   \n",
       "3                                    0                                 0   \n",
       "4                                    0                                 0   \n",
       "\n",
       "   CouncilArea_Yarra City Council  CouncilArea_Yarra Ranges Shire Council  \n",
       "0                               1                                       0  \n",
       "1                               1                                       0  \n",
       "2                               1                                       0  \n",
       "3                               0                                       0  \n",
       "4                               0                                       0  \n",
       "\n",
       "[5 rows x 42 columns]"
      ]
     },
     "execution_count": 39,
     "metadata": {},
     "output_type": "execute_result"
    }
   ],
   "source": [
    "df2.head()"
   ]
  },
  {
   "cell_type": "code",
   "execution_count": 40,
   "metadata": {},
   "outputs": [],
   "source": [
    "X = df2.drop('Price', axis=1)\n",
    "y = df2['Price']"
   ]
  },
  {
   "cell_type": "code",
   "execution_count": 41,
   "metadata": {},
   "outputs": [],
   "source": [
    "X_train, X_test, y_train, y_test = cross_validation.train_test_split(X, y,test_size=0.2)"
   ]
  },
  {
   "cell_type": "markdown",
   "metadata": {},
   "source": [
    "Note in the following cell the removal of the Suburb column. Rather than show the long line of testing that was done to bring about this decision I'll just explain it here. \n",
    "\n",
    "This dataset contains a massive amount of outliers. So many that most models are very poor at handling them. Note that this dataset might be better served with clustering models that will come later in the Unsupervised Learning section. However, this assignment requires the use of SL modeling. \n",
    "\n",
    "The Suburb of the dataset contains hundreds of values, as anyone familiar with the Melbourne area would know. I considered it a possibility that to handle all of the outliers, which are right to exist in the data and should not be removed just to make the model \"better\", I should create a model for every suburb. There were 71 that had >200 Price observations. It's not a large number of observations, but it might still be better to model each suburb as there are several factors that affect housingn prices that are not present in this dataset (Average income, population, local industry, resident demographics, etc.). \n",
    "\n",
    "That said, here are the models that I ran having excluded the Suburb feature, but before running models for each suburb."
   ]
  },
  {
   "cell_type": "markdown",
   "metadata": {},
   "source": [
    "## Gradient Boosting without Suburbs (X, y)"
   ]
  },
  {
   "cell_type": "code",
   "execution_count": 42,
   "metadata": {},
   "outputs": [
    {
     "data": {
      "text/plain": [
       "0.6788992162797785"
      ]
     },
     "execution_count": 42,
     "metadata": {},
     "output_type": "execute_result"
    }
   ],
   "source": [
    "X_train, X_test, y_train, y_test = cross_validation.train_test_split(X, y,test_size=0.2)\n",
    "\n",
    "clf = GradientBoostingRegressor(n_estimators=100, max_depth=4, learning_rate=0.1, loss='huber', random_state=1)\n",
    "clf.fit(X_train, y_train)\n",
    "\n",
    "clf.score(X_test, y_test)"
   ]
  },
  {
   "cell_type": "code",
   "execution_count": 43,
   "metadata": {},
   "outputs": [
    {
     "data": {
      "text/plain": [
       "array([0.61364395, 0.68743723, 0.65297499, 0.60267996, 0.64670298,\n",
       "       0.69075547, 0.70484685, 0.64576996, 0.67855121, 0.68125362])"
      ]
     },
     "execution_count": 43,
     "metadata": {},
     "output_type": "execute_result"
    }
   ],
   "source": [
    "cross_val_score(clf, X_test, y_test, cv=10)"
   ]
  },
  {
   "cell_type": "markdown",
   "metadata": {},
   "source": [
    "This isn't bad, but hardly anything to report up as a success. The best news to take away here is the model's ability to display feature importance. "
   ]
  },
  {
   "cell_type": "code",
   "execution_count": 44,
   "metadata": {},
   "outputs": [
    {
     "data": {
      "image/png": "[encoded data removed]",
      "text/plain": [
       "<matplotlib.figure.Figure at 0x28a84165b38>"
      ]
     },
     "metadata": {},
     "output_type": "display_data"
    }
   ],
   "source": [
    "feature_importance = clf.feature_importances_\n",
    "\n",
    "feature_importance = 100.0 * (feature_importance / feature_importance.max())\n",
    "sorted_idx = np.argsort(feature_importance)\n",
    "pos = np.arange(sorted_idx.shape[0]) + .5\n",
    "plt.figure(figsize=(15,30))\n",
    "plt.subplot(1, 2, 2)\n",
    "plt.barh(pos, feature_importance[sorted_idx], align='center')\n",
    "plt.yticks(pos, X.columns[sorted_idx])\n",
    "plt.xlabel('Relative Importance')\n",
    "plt.title('Variable Importance')\n",
    "plt.show()"
   ]
  },
  {
   "cell_type": "markdown",
   "metadata": {},
   "source": [
    "Distance from city center is the most important feature. Number of rooms is second by a moderate amount. Whether or not the house is within the jurisdiction of the Bayside City Council is down quite a lot from the Distance. And everything else matters not one little bit. I'll run a PCA just to be sure. However, I have my doubts that it will add much value to our model since there are only three features that seem to be influencing our prices to any extent. \n",
    "\n",
    "### NOTE: \n",
    "\n",
    "The processing of additional models after this point and inclusion of PCA is more of an exercise of my understanding of the models. I do not expect them to predict housing very well given the low feature relevance and the number of outliers. "
   ]
  },
  {
   "cell_type": "markdown",
   "metadata": {},
   "source": [
    "## Gradient Boosting (X_pca, y)"
   ]
  },
  {
   "cell_type": "code",
   "execution_count": 45,
   "metadata": {},
   "outputs": [],
   "source": [
    "pca = PCA(n_components=30)\n",
    "X_pca = pd.DataFrame(pca.fit_transform(X))"
   ]
  },
  {
   "cell_type": "code",
   "execution_count": 46,
   "metadata": {},
   "outputs": [],
   "source": [
    "X_train, X_test, y_train, y_test = train_test_split(X_pca, y, train_size=0.2, random_state=1)"
   ]
  },
  {
   "cell_type": "code",
   "execution_count": 47,
   "metadata": {},
   "outputs": [
    {
     "data": {
      "text/plain": [
       "0.3326970851588744"
      ]
     },
     "execution_count": 47,
     "metadata": {},
     "output_type": "execute_result"
    }
   ],
   "source": [
    "decision_tree = tree.DecisionTreeRegressor(max_depth=2)\n",
    "decision_tree.fit(X_train, y_train)\n",
    "\n",
    "decision_tree.score(X_test, y_test)"
   ]
  },
  {
   "cell_type": "code",
   "execution_count": 48,
   "metadata": {},
   "outputs": [
    {
     "data": {
      "text/plain": [
       "array([0.33308316, 0.28069995, 0.30663957, 0.3295295 , 0.3313005 ,\n",
       "       0.33026489, 0.33014281, 0.33922263, 0.32039426, 0.29964428])"
      ]
     },
     "execution_count": 48,
     "metadata": {},
     "output_type": "execute_result"
    }
   ],
   "source": [
    "cross_val_score(decision_tree, X_test, y_test, cv=10)"
   ]
  },
  {
   "cell_type": "code",
   "execution_count": 49,
   "metadata": {},
   "outputs": [
    {
     "data": {
      "image/png": "[encoded data removed]",
      "text/plain": [
       "<matplotlib.figure.Figure at 0x28a8377a358>"
      ]
     },
     "metadata": {},
     "output_type": "display_data"
    }
   ],
   "source": [
    "feature_importance = decision_tree.feature_importances_\n",
    "\n",
    "feature_importance = 100.0 * (feature_importance / feature_importance.max())\n",
    "sorted_idx = np.argsort(feature_importance)\n",
    "pos = np.arange(sorted_idx.shape[0]) + .5\n",
    "plt.figure(figsize=(15,10))\n",
    "plt.subplot(1, 2, 2)\n",
    "plt.barh(pos, feature_importance[sorted_idx], align='center')\n",
    "plt.yticks(pos, X_pca.columns[sorted_idx])\n",
    "plt.xlabel('Relative Importance')\n",
    "plt.title('Variable Importance')\n",
    "plt.show()"
   ]
  },
  {
   "cell_type": "markdown",
   "metadata": {},
   "source": [
    "Look at that. The similarity between X and X_pca is virtually nonexistent as expected. I'll run a Lasso and ridge regression next."
   ]
  },
  {
   "cell_type": "markdown",
   "metadata": {},
   "source": [
    "## LASSO Regression"
   ]
  },
  {
   "cell_type": "code",
   "execution_count": 50,
   "metadata": {},
   "outputs": [],
   "source": [
    "#Don't forget to reset our train, test split to X and y instead of X_pca\n",
    "X_train, X_test, y_train, y_test = cross_validation.train_test_split(X, y,test_size=0.2)"
   ]
  },
  {
   "cell_type": "code",
   "execution_count": 51,
   "metadata": {},
   "outputs": [
    {
     "name": "stdout",
     "output_type": "stream",
     "text": [
      "\n",
      "R-squared  model, range of alpha: .00001 to 1\n"
     ]
    },
    {
     "name": "stderr",
     "output_type": "stream",
     "text": [
      "C:\\ProgramData\\Anaconda3\\lib\\site-packages\\sklearn\\linear_model\\coordinate_descent.py:491: ConvergenceWarning: Objective did not converge. You might want to increase the number of iterations. Fitting data with very small alpha may cause precision problems.\n",
      "  ConvergenceWarning)\n"
     ]
    },
    {
     "name": "stdout",
     "output_type": "stream",
     "text": [
      "R2 Score for alpha 1e-05\n",
      "0.5887952807782686\n",
      "\n",
      "\n",
      "R2 Score for alpha 0.001\n",
      "0.5887952807782423\n",
      "\n",
      "\n",
      "R2 Score for alpha 0.01\n",
      "0.5887952807756442\n",
      "\n",
      "\n",
      "R2 Score for alpha 0.05\n",
      "0.5887952807126597\n",
      "\n",
      "\n",
      "R2 Score for alpha 1\n",
      "0.588795254534778\n",
      "\n",
      "\n"
     ]
    }
   ],
   "source": [
    "print('\\nR-squared  model, range of alpha: .00001 to 1')\n",
    "alphas = [1e-5, 1e-3, .01, .05, 1]\n",
    "\n",
    "for i in alphas:\n",
    "    lass = linear_model.Lasso(alpha=i)\n",
    "    lassfit = lass.fit(X_train, y_train)\n",
    "    print(('R2 Score for alpha {}').format(i))\n",
    "    print(lass.score(X_train, y_train))\n",
    "    print('\\n')"
   ]
  },
  {
   "cell_type": "markdown",
   "metadata": {},
   "source": [
    "That warning is a problem. Let's increase our tol and rerun it. If that doesn't help, I'll do as it says and increase my max iterations"
   ]
  },
  {
   "cell_type": "code",
   "execution_count": 52,
   "metadata": {},
   "outputs": [],
   "source": [
    "#I ran this with tol=0.01 first (default is .0001). No effect. Trying again with tol=.1\n",
    "\n",
    "# print('\\nR-squared  model, range of alpha: .05 to 10')\n",
    "# alphas = [.05, 1, 10]\n",
    "\n",
    "# for i in alphas:\n",
    "#     lass = linear_model.Lasso(alpha=i, tol=.1)\n",
    "#     lassfit = lass.fit(X_train, y_train)\n",
    "#     print(('R2 Score for alpha {}').format(i))\n",
    "#     print(lass.score(X_train, y_train))\n",
    "#     print('\\n')"
   ]
  },
  {
   "cell_type": "code",
   "execution_count": 53,
   "metadata": {},
   "outputs": [],
   "source": [
    "# print('\\nR-squared  model, range of alpha: .05 to 10')\n",
    "# alphas = [.05, 1, 10]\n",
    "\n",
    "# for i in alphas:\n",
    "#     lass = linear_model.Lasso(alpha=i, max_iter=2000)\n",
    "#     lassfit = lass.fit(X_train, y_train)\n",
    "#     print(('R2 Score for alpha {}').format(i))\n",
    "#     print(lass.score(X_train, y_train))\n",
    "#     print('\\n')"
   ]
  },
  {
   "cell_type": "markdown",
   "metadata": {},
   "source": [
    "I have run this loop of alphas three ways and the result is the same every time. Regardless of the inherent value of the score (68.3%) there should be some change based on these argument differences ordinarily which leads me to believe that the features that would ordinarily be shrunk by the process are already having a negligible effect at full force. I'll try running it with PCA. "
   ]
  },
  {
   "cell_type": "markdown",
   "metadata": {},
   "source": [
    "## LASSO Regression (X_pca, y)"
   ]
  },
  {
   "cell_type": "code",
   "execution_count": 54,
   "metadata": {},
   "outputs": [],
   "source": [
    "X_train, X_test, y_train, y_test = cross_validation.train_test_split(X_pca, y,test_size=0.2)"
   ]
  },
  {
   "cell_type": "code",
   "execution_count": 55,
   "metadata": {},
   "outputs": [
    {
     "name": "stdout",
     "output_type": "stream",
     "text": [
      "R2 Score for alpha 0.05\n",
      "0.5816206842235485\n",
      "\n",
      "\n",
      "R2 Score for alpha 1\n",
      "0.5816206821873132\n",
      "\n",
      "\n",
      "R2 Score for alpha 10\n",
      "0.5816204800955385\n",
      "\n",
      "\n"
     ]
    }
   ],
   "source": [
    "alphas = [.05, 1, 10]\n",
    "\n",
    "for i in alphas:\n",
    "    lass = linear_model.Lasso(alpha=i, tol=.1)\n",
    "    lassfit = lass.fit(X_train, y_train)\n",
    "    print(('R2 Score for alpha {}').format(i))\n",
    "    print(lass.score(X_train, y_train))\n",
    "    print('\\n')"
   ]
  },
  {
   "cell_type": "markdown",
   "metadata": {},
   "source": [
    "I've run the LASSO regression for the PCA several ways:\n",
    "\n",
    "- alpha=.05, tol=.0001, max_iter=1000\n",
    "- alpha=.05, tol=.01, max_iter=1000\n",
    "- alpha=.05, tol=.1, max_iter=1000\n",
    "- alpha=1, tol=.0001, max_iter=1000\n",
    "- alpha=1, tol=.01, max_iter=1000\n",
    "- alpha=1, tol=.1, max_iter=1000\n",
    "- alpha=10, tol=.0001, max_iter=1000\n",
    "- alpha=10, tol=.0001, max_iter=1000\n",
    "- alpha=10, tol=.0001, max_iter=1000\n",
    "- alpha=.05, tol=.0001, max_iter=2000\n",
    "- alpha=1, tol=.0001, max_iter=2000\n",
    "- alpha=10, tol=.0001, max_iter=2000\n",
    "\n",
    "None of these permutations have had any impact on the model R2 score (57.6% every time). \n",
    "\n",
    "### Lasso Conclusion:\n",
    "\n",
    "I wasn't expecting much out of this model since there are so few features that matter already. But it's good to see that the regression operated as expected. "
   ]
  },
  {
   "cell_type": "markdown",
   "metadata": {},
   "source": [
    "## Ridge Regression (X, y)"
   ]
  },
  {
   "cell_type": "code",
   "execution_count": 56,
   "metadata": {},
   "outputs": [],
   "source": [
    "X_train, X_test, y_train, y_test = cross_validation.train_test_split(X, y,test_size=0.2)"
   ]
  },
  {
   "cell_type": "code",
   "execution_count": 57,
   "metadata": {},
   "outputs": [
    {
     "name": "stdout",
     "output_type": "stream",
     "text": [
      "\n",
      "R-squared Ridge Regression, range of alpha: 10 to 0.01\n",
      "\n",
      "R2 Score for alpha 10\n",
      "0.5909539447074851\n",
      "\n",
      "\n",
      "R2 Score for alpha 5\n",
      "0.5912552329718471\n",
      "\n",
      "\n",
      "R2 Score for alpha 0.5\n",
      "0.5914032965849392\n",
      "\n",
      "\n",
      "R2 Score for alpha 0.05\n",
      "0.5914056738019795\n",
      "\n",
      "\n",
      "R2 Score for alpha 0.01\n",
      "0.5914056988312074\n",
      "\n",
      "\n"
     ]
    }
   ],
   "source": [
    "#RIDGE REGRESSIONS \n",
    "print('\\nR-squared Ridge Regression, range of alpha: 10 to 0.01\\n')\n",
    "alphas = [10, 5, .5, .05, .01]\n",
    "\n",
    "for i in alphas:\n",
    "    ridgeregr = linear_model.Ridge(alpha=i, fit_intercept=False) \n",
    "    ridgeregr.fit(X_train, y_train)\n",
    "    print(('R2 Score for alpha {}').format(i))\n",
    "    print(ridgeregr.score(X_train, y_train))\n",
    "    print('\\n')"
   ]
  },
  {
   "cell_type": "markdown",
   "metadata": {},
   "source": [
    "I'm running into the same issues time and time again. Too few relevant features and too many outliers. On to KNN."
   ]
  },
  {
   "cell_type": "markdown",
   "metadata": {},
   "source": [
    "## KNN (X, y)"
   ]
  },
  {
   "cell_type": "code",
   "execution_count": 58,
   "metadata": {},
   "outputs": [],
   "source": [
    "X_train, X_test, y_train, y_test = cross_validation.train_test_split(X, y,test_size=0.2)"
   ]
  },
  {
   "cell_type": "code",
   "execution_count": 59,
   "metadata": {},
   "outputs": [
    {
     "name": "stdout",
     "output_type": "stream",
     "text": [
      "\n",
      "KNN Regression Score, range of neighbors: 2, 5, 10, 20\n",
      "R2 Score for n_neighbors 2\n",
      "0.6037068655526754\n",
      "\n",
      "\n",
      "R2 Score for n_neighbors 5\n",
      "0.6751009676281234\n",
      "\n",
      "\n",
      "R2 Score for n_neighbors 10\n",
      "0.6952508493239372\n",
      "\n",
      "\n",
      "R2 Score for n_neighbors 20\n",
      "0.6959204805486705\n",
      "\n",
      "\n"
     ]
    }
   ],
   "source": [
    "print('\\nKNN Regression Score, range of neighbors: 2, 5, 10, 20')\n",
    "n = [2, 5, 10, 20]\n",
    "\n",
    "for i in n:\n",
    "    neigh = KNeighborsRegressor(n_neighbors=i)\n",
    "    neigh.fit(X_train, y_train)\n",
    "    print(('R2 Score for n_neighbors {}').format(i))\n",
    "    print(neigh.score(X_test, y_test))\n",
    "    print('\\n')"
   ]
  },
  {
   "cell_type": "markdown",
   "metadata": {},
   "source": [
    "Diminishing returns after we set n_neighbors to 10. This is the best predictor so far and the one that I would recommend for the dataset as a whole. "
   ]
  },
  {
   "cell_type": "markdown",
   "metadata": {},
   "source": [
    "## SVM (X_pca, y)"
   ]
  },
  {
   "cell_type": "markdown",
   "metadata": {},
   "source": [
    "Why am I running Support Vector Machine for this dataset? Yes, it's 400 features wide. But it's 29K observations deep. That kind of dataset is not ideal for SVM. I'll reduce the features to 30 with PCA and run the model. This won't increase its predictive powers. But it should decrease the processing time. "
   ]
  },
  {
   "cell_type": "code",
   "execution_count": 60,
   "metadata": {},
   "outputs": [],
   "source": [
    "pca = PCA(n_components=30)\n",
    "X_pca = pd.DataFrame(pca.fit_transform(X))"
   ]
  },
  {
   "cell_type": "code",
   "execution_count": 61,
   "metadata": {},
   "outputs": [],
   "source": [
    "X_train, X_test, y_train, y_test = cross_validation.train_test_split(X_pca, y,test_size=0.2)"
   ]
  },
  {
   "cell_type": "code",
   "execution_count": 62,
   "metadata": {},
   "outputs": [
    {
     "data": {
      "text/plain": [
       "-0.06940687770520526"
      ]
     },
     "execution_count": 62,
     "metadata": {},
     "output_type": "execute_result"
    }
   ],
   "source": [
    "svr = SVR()\n",
    "svr.fit(X_train, y_train)\n",
    "\n",
    "svr.score(X_test, y_test)"
   ]
  },
  {
   "cell_type": "markdown",
   "metadata": {},
   "source": [
    "As expected, SVM is not a good model for this dataset. Let's try something better suited to the shape of our data, Random Forest."
   ]
  },
  {
   "cell_type": "markdown",
   "metadata": {},
   "source": [
    "## Random Forest (X, y)"
   ]
  },
  {
   "cell_type": "code",
   "execution_count": 63,
   "metadata": {},
   "outputs": [],
   "source": [
    "X_train, X_test, y_train, y_test = cross_validation.train_test_split(X, y,test_size=0.2)"
   ]
  },
  {
   "cell_type": "code",
   "execution_count": 64,
   "metadata": {
    "scrolled": true
   },
   "outputs": [
    {
     "name": "stdout",
     "output_type": "stream",
     "text": [
      "\n",
      "KNN Regression Score, range of neighbors: 5, 10, 20, 40\n",
      "\n",
      "R2 Score for number of decision trees 5\n",
      "0.6900883308210984\n",
      "\n",
      "\n",
      "R2 Score for number of decision trees 10\n",
      "0.7014575908584808\n",
      "\n",
      "\n",
      "R2 Score for number of decision trees 20\n",
      "0.7085790757505723\n",
      "\n",
      "\n",
      "R2 Score for number of decision trees 40\n",
      "0.7080083533147168\n",
      "\n",
      "\n"
     ]
    }
   ],
   "source": [
    "print('\\nKNN Regression Score, range of neighbors: 5, 10, 20, 40\\n')\n",
    "n = [5, 10, 20, 40]\n",
    "\n",
    "for i in n:\n",
    "    rfr = ensemble.RandomForestRegressor(n_estimators=i)\n",
    "    rfr.fit(X_train, y_train)\n",
    "    print(('R2 Score for number of decision trees {}').format(i))\n",
    "    print(rfr.score(X_test, y_test))\n",
    "    print('\\n')"
   ]
  },
  {
   "cell_type": "markdown",
   "metadata": {},
   "source": [
    "## Random Forest (X_pca, y)"
   ]
  },
  {
   "cell_type": "code",
   "execution_count": 65,
   "metadata": {},
   "outputs": [],
   "source": [
    "pca = PCA(n_components=30)\n",
    "X_pca = pd.DataFrame(pca.fit_transform(X))"
   ]
  },
  {
   "cell_type": "code",
   "execution_count": 66,
   "metadata": {},
   "outputs": [],
   "source": [
    "X_train, X_test, y_train, y_test = cross_validation.train_test_split(X, y,test_size=0.2)"
   ]
  },
  {
   "cell_type": "code",
   "execution_count": 67,
   "metadata": {},
   "outputs": [
    {
     "name": "stdout",
     "output_type": "stream",
     "text": [
      "\n",
      "KNN Regression Score, range of neighbors: 5, 10, 20, 40\n",
      "\n",
      "R2 Score for number of decision trees 5\n",
      "0.7135104264312877\n",
      "\n",
      "\n",
      "R2 Score for number of decision trees 10\n",
      "0.7132856038385218\n",
      "\n",
      "\n",
      "R2 Score for number of decision trees 20\n",
      "0.7209529792338785\n",
      "\n",
      "\n",
      "R2 Score for number of decision trees 40\n",
      "0.720667439007602\n",
      "\n",
      "\n"
     ]
    }
   ],
   "source": [
    "print('\\nKNN Regression Score, range of neighbors: 5, 10, 20, 40\\n')\n",
    "n = [5, 10, 20, 40]\n",
    "\n",
    "for i in n:\n",
    "    rfr = ensemble.RandomForestRegressor(n_estimators=i)\n",
    "    rfr.fit(X_train, y_train)\n",
    "    print(('R2 Score for number of decision trees {}').format(i))\n",
    "    print(rfr.score(X_test, y_test))\n",
    "    print('\\n')"
   ]
  },
  {
   "cell_type": "markdown",
   "metadata": {},
   "source": [
    "Here is an example of what makes Random Forest so powerful. In some models, reducing the feature space through PCA eliminates unwanted noise and makes the predictive power of a model stronger, while reducing the processing time and computational cost. Random Forests deal with larger feature spaces quickly and efficiently, making good use of the information offered by each. This is made clear here where we can see that our model based on X outperformed the model based on X_pca. "
   ]
  },
  {
   "cell_type": "markdown",
   "metadata": {},
   "source": [
    "## Dataset Conclusion (No Suburb Breakdown)"
   ]
  },
  {
   "cell_type": "markdown",
   "metadata": {},
   "source": [
    "Lasso, KNN, and Random Forest all showed similar predictive power with R2 scores reliably between 68-72%. Ridge regressions were all in 67the percentile. \n",
    "\n",
    "The biggest challenge here is predicting the entire Melbourne housing market. The number of outliers is extremely problematic. I would imagine that if for each value of features 'Suburb' or 'Regionname' I created models to predict housing values I might be able to dial in a bit better. \n",
    "\n",
    "This would really only be a matter of creating new DataFrames for each suburb and then creating a series of models for that. There are several Suburb values that contain only a few observations. Those could be omitted. I could probably reintegrate the 'Type' and other dropped features. Since all of these models seem to perform similarly, I could try out a couple suburbs to confirm that similarity and choose the one that has the fastest processing time (in this case SVR wouldn't be an immediate reject because of the low number of observations) and run a loop to call in each DataFrame. "
   ]
  },
  {
   "cell_type": "code",
   "execution_count": 68,
   "metadata": {
    "scrolled": false
   },
   "outputs": [],
   "source": [
    "df2 = pd.read_csv('MELBOURNE_HOUSE_PRICES_LESS.csv')"
   ]
  },
  {
   "cell_type": "markdown",
   "metadata": {},
   "source": [
    "## Creating DataFrames for each Suburb with >= 200 observations\n",
    "\n",
    "preprocess df2 as before, dropping columns, making dummies. "
   ]
  },
  {
   "cell_type": "code",
   "execution_count": 69,
   "metadata": {},
   "outputs": [],
   "source": [
    "df2 = df2.dropna()\n",
    "df2 = df2.drop(['Address', 'SellerG', 'Date', 'Type', 'Regionname'], 1)\n",
    "df2 = pd.get_dummies(data=df2, columns=['Method', 'CouncilArea'])"
   ]
  },
  {
   "cell_type": "code",
   "execution_count": 70,
   "metadata": {},
   "outputs": [],
   "source": [
    "# df2['Suburb'].value_counts()[:75]"
   ]
  },
  {
   "cell_type": "code",
   "execution_count": 71,
   "metadata": {},
   "outputs": [
    {
     "data": {
      "text/html": [
       "<div>\n",
       "<style scoped>\n",
       "    .dataframe tbody tr th:only-of-type {\n",
       "        vertical-align: middle;\n",
       "    }\n",
       "\n",
       "    .dataframe tbody tr th {\n",
       "        vertical-align: top;\n",
       "    }\n",
       "\n",
       "    .dataframe thead th {\n",
       "        text-align: right;\n",
       "    }\n",
       "</style>\n",
       "<table border=\"1\" class=\"dataframe\">\n",
       "  <thead>\n",
       "    <tr style=\"text-align: right;\">\n",
       "      <th></th>\n",
       "      <th>Suburb</th>\n",
       "      <th>Rooms</th>\n",
       "      <th>Price</th>\n",
       "      <th>Propertycount</th>\n",
       "      <th>Distance</th>\n",
       "      <th>Method_PI</th>\n",
       "      <th>Method_S</th>\n",
       "      <th>Method_SA</th>\n",
       "      <th>Method_SP</th>\n",
       "      <th>Method_VB</th>\n",
       "      <th>...</th>\n",
       "      <th>CouncilArea_Moorabool Shire Council</th>\n",
       "      <th>CouncilArea_Moreland City Council</th>\n",
       "      <th>CouncilArea_Nillumbik Shire Council</th>\n",
       "      <th>CouncilArea_Port Phillip City Council</th>\n",
       "      <th>CouncilArea_Stonnington City Council</th>\n",
       "      <th>CouncilArea_Whitehorse City Council</th>\n",
       "      <th>CouncilArea_Whittlesea City Council</th>\n",
       "      <th>CouncilArea_Wyndham City Council</th>\n",
       "      <th>CouncilArea_Yarra City Council</th>\n",
       "      <th>CouncilArea_Yarra Ranges Shire Council</th>\n",
       "    </tr>\n",
       "  </thead>\n",
       "  <tbody>\n",
       "    <tr>\n",
       "      <th>0</th>\n",
       "      <td>Abbotsford</td>\n",
       "      <td>3</td>\n",
       "      <td>1490000.0</td>\n",
       "      <td>4019</td>\n",
       "      <td>3.0</td>\n",
       "      <td>0</td>\n",
       "      <td>1</td>\n",
       "      <td>0</td>\n",
       "      <td>0</td>\n",
       "      <td>0</td>\n",
       "      <td>...</td>\n",
       "      <td>0</td>\n",
       "      <td>0</td>\n",
       "      <td>0</td>\n",
       "      <td>0</td>\n",
       "      <td>0</td>\n",
       "      <td>0</td>\n",
       "      <td>0</td>\n",
       "      <td>0</td>\n",
       "      <td>1</td>\n",
       "      <td>0</td>\n",
       "    </tr>\n",
       "    <tr>\n",
       "      <th>1</th>\n",
       "      <td>Abbotsford</td>\n",
       "      <td>3</td>\n",
       "      <td>1220000.0</td>\n",
       "      <td>4019</td>\n",
       "      <td>3.0</td>\n",
       "      <td>0</td>\n",
       "      <td>1</td>\n",
       "      <td>0</td>\n",
       "      <td>0</td>\n",
       "      <td>0</td>\n",
       "      <td>...</td>\n",
       "      <td>0</td>\n",
       "      <td>0</td>\n",
       "      <td>0</td>\n",
       "      <td>0</td>\n",
       "      <td>0</td>\n",
       "      <td>0</td>\n",
       "      <td>0</td>\n",
       "      <td>0</td>\n",
       "      <td>1</td>\n",
       "      <td>0</td>\n",
       "    </tr>\n",
       "    <tr>\n",
       "      <th>2</th>\n",
       "      <td>Abbotsford</td>\n",
       "      <td>3</td>\n",
       "      <td>1420000.0</td>\n",
       "      <td>4019</td>\n",
       "      <td>3.0</td>\n",
       "      <td>0</td>\n",
       "      <td>1</td>\n",
       "      <td>0</td>\n",
       "      <td>0</td>\n",
       "      <td>0</td>\n",
       "      <td>...</td>\n",
       "      <td>0</td>\n",
       "      <td>0</td>\n",
       "      <td>0</td>\n",
       "      <td>0</td>\n",
       "      <td>0</td>\n",
       "      <td>0</td>\n",
       "      <td>0</td>\n",
       "      <td>0</td>\n",
       "      <td>1</td>\n",
       "      <td>0</td>\n",
       "    </tr>\n",
       "    <tr>\n",
       "      <th>3</th>\n",
       "      <td>Aberfeldie</td>\n",
       "      <td>3</td>\n",
       "      <td>1515000.0</td>\n",
       "      <td>1543</td>\n",
       "      <td>7.5</td>\n",
       "      <td>0</td>\n",
       "      <td>1</td>\n",
       "      <td>0</td>\n",
       "      <td>0</td>\n",
       "      <td>0</td>\n",
       "      <td>...</td>\n",
       "      <td>0</td>\n",
       "      <td>0</td>\n",
       "      <td>0</td>\n",
       "      <td>0</td>\n",
       "      <td>0</td>\n",
       "      <td>0</td>\n",
       "      <td>0</td>\n",
       "      <td>0</td>\n",
       "      <td>0</td>\n",
       "      <td>0</td>\n",
       "    </tr>\n",
       "    <tr>\n",
       "      <th>4</th>\n",
       "      <td>Airport West</td>\n",
       "      <td>2</td>\n",
       "      <td>670000.0</td>\n",
       "      <td>3464</td>\n",
       "      <td>10.4</td>\n",
       "      <td>0</td>\n",
       "      <td>1</td>\n",
       "      <td>0</td>\n",
       "      <td>0</td>\n",
       "      <td>0</td>\n",
       "      <td>...</td>\n",
       "      <td>0</td>\n",
       "      <td>0</td>\n",
       "      <td>0</td>\n",
       "      <td>0</td>\n",
       "      <td>0</td>\n",
       "      <td>0</td>\n",
       "      <td>0</td>\n",
       "      <td>0</td>\n",
       "      <td>0</td>\n",
       "      <td>0</td>\n",
       "    </tr>\n",
       "  </tbody>\n",
       "</table>\n",
       "<p>5 rows × 43 columns</p>\n",
       "</div>"
      ],
      "text/plain": [
       "         Suburb  Rooms      Price  Propertycount  Distance  Method_PI  \\\n",
       "0    Abbotsford      3  1490000.0           4019       3.0          0   \n",
       "1    Abbotsford      3  1220000.0           4019       3.0          0   \n",
       "2    Abbotsford      3  1420000.0           4019       3.0          0   \n",
       "3    Aberfeldie      3  1515000.0           1543       7.5          0   \n",
       "4  Airport West      2   670000.0           3464      10.4          0   \n",
       "\n",
       "   Method_S  Method_SA  Method_SP  Method_VB  \\\n",
       "0         1          0          0          0   \n",
       "1         1          0          0          0   \n",
       "2         1          0          0          0   \n",
       "3         1          0          0          0   \n",
       "4         1          0          0          0   \n",
       "\n",
       "                    ...                    \\\n",
       "0                   ...                     \n",
       "1                   ...                     \n",
       "2                   ...                     \n",
       "3                   ...                     \n",
       "4                   ...                     \n",
       "\n",
       "   CouncilArea_Moorabool Shire Council  CouncilArea_Moreland City Council  \\\n",
       "0                                    0                                  0   \n",
       "1                                    0                                  0   \n",
       "2                                    0                                  0   \n",
       "3                                    0                                  0   \n",
       "4                                    0                                  0   \n",
       "\n",
       "   CouncilArea_Nillumbik Shire Council  CouncilArea_Port Phillip City Council  \\\n",
       "0                                    0                                      0   \n",
       "1                                    0                                      0   \n",
       "2                                    0                                      0   \n",
       "3                                    0                                      0   \n",
       "4                                    0                                      0   \n",
       "\n",
       "   CouncilArea_Stonnington City Council  CouncilArea_Whitehorse City Council  \\\n",
       "0                                     0                                    0   \n",
       "1                                     0                                    0   \n",
       "2                                     0                                    0   \n",
       "3                                     0                                    0   \n",
       "4                                     0                                    0   \n",
       "\n",
       "   CouncilArea_Whittlesea City Council  CouncilArea_Wyndham City Council  \\\n",
       "0                                    0                                 0   \n",
       "1                                    0                                 0   \n",
       "2                                    0                                 0   \n",
       "3                                    0                                 0   \n",
       "4                                    0                                 0   \n",
       "\n",
       "   CouncilArea_Yarra City Council  CouncilArea_Yarra Ranges Shire Council  \n",
       "0                               1                                       0  \n",
       "1                               1                                       0  \n",
       "2                               1                                       0  \n",
       "3                               0                                       0  \n",
       "4                               0                                       0  \n",
       "\n",
       "[5 rows x 43 columns]"
      ]
     },
     "execution_count": 71,
     "metadata": {},
     "output_type": "execute_result"
    }
   ],
   "source": [
    "df2.head()"
   ]
  },
  {
   "cell_type": "code",
   "execution_count": 72,
   "metadata": {},
   "outputs": [],
   "source": [
    "# df2['Suburb'].unique()"
   ]
  },
  {
   "cell_type": "code",
   "execution_count": 73,
   "metadata": {},
   "outputs": [],
   "source": [
    "suburbs = df2['Suburb'].unique()"
   ]
  },
  {
   "cell_type": "code",
   "execution_count": 74,
   "metadata": {},
   "outputs": [],
   "source": [
    "#create a list for suburb names\n",
    "subnames = []"
   ]
  },
  {
   "cell_type": "code",
   "execution_count": 75,
   "metadata": {},
   "outputs": [],
   "source": [
    "#create a list for the suburbs with >200 observations\n",
    "subs = []"
   ]
  },
  {
   "cell_type": "code",
   "execution_count": 76,
   "metadata": {},
   "outputs": [],
   "source": [
    "#Create the list of suburbs\n",
    "for suburb in suburbs:\n",
    "    df = df2[df2['Suburb'] == suburb]\n",
    "    if df.shape[0] >= 200:\n",
    "        subs.append(df.drop('Suburb', axis=1))\n",
    "        subnames.append(suburb)"
   ]
  },
  {
   "cell_type": "code",
   "execution_count": 79,
   "metadata": {},
   "outputs": [
    {
     "data": {
      "text/plain": [
       "71"
      ]
     },
     "execution_count": 79,
     "metadata": {},
     "output_type": "execute_result"
    }
   ],
   "source": [
    "len(subs)"
   ]
  },
  {
   "cell_type": "code",
   "execution_count": 80,
   "metadata": {},
   "outputs": [],
   "source": [
    "zipsub = list(zip(subnames, subs))"
   ]
  },
  {
   "cell_type": "code",
   "execution_count": 81,
   "metadata": {
    "scrolled": false
   },
   "outputs": [
    {
     "data": {
      "text/plain": [
       "71"
      ]
     },
     "execution_count": 81,
     "metadata": {},
     "output_type": "execute_result"
    }
   ],
   "source": [
    "len(zipsub)"
   ]
  },
  {
   "cell_type": "code",
   "execution_count": 82,
   "metadata": {},
   "outputs": [],
   "source": [
    "submodels = []"
   ]
  },
  {
   "cell_type": "markdown",
   "metadata": {},
   "source": [
    "### Random Forest for each Suburb"
   ]
  },
  {
   "cell_type": "code",
   "execution_count": 83,
   "metadata": {},
   "outputs": [],
   "source": [
    "# Run a Random Forest on each Suburb\n",
    "\n",
    "for name,df in zipsub:\n",
    "    #unpacks the zip in the order specified (name, then dataframe)\n",
    "#     c += 1\n",
    "    X = df.drop('Price', axis=1)\n",
    "    y = df['Price']\n",
    "    X_train, X_test, y_train, y_test = cross_validation.train_test_split(X, y,test_size=0.2)\n",
    "    rfr = ensemble.RandomForestRegressor(n_estimators=5)\n",
    "    rfr.fit(X_train, y_train)\n",
    "    submodels.append((name, rfr.score(X_test, y_test)))\n",
    "    \n",
    "\n",
    "results = pd.DataFrame.from_records(submodels, columns=['Suburb', 'Model R2 Score'])    \n",
    "    \n",
    "#     print(c, name)\n",
    "#     print(rfr.score(X_test, y_test))\n",
    "#     print('\\n')"
   ]
  },
  {
   "cell_type": "code",
   "execution_count": 85,
   "metadata": {},
   "outputs": [
    {
     "name": "stdout",
     "output_type": "stream",
     "text": [
      "<class 'pandas.core.frame.DataFrame'>\n",
      "RangeIndex: 71 entries, 0 to 70\n",
      "Data columns (total 2 columns):\n",
      "Suburb            71 non-null object\n",
      "Model R2 Score    71 non-null float64\n",
      "dtypes: float64(1), object(1)\n",
      "memory usage: 1.2+ KB\n"
     ]
    }
   ],
   "source": [
    "results.info()"
   ]
  },
  {
   "cell_type": "code",
   "execution_count": 86,
   "metadata": {},
   "outputs": [
    {
     "data": {
      "text/html": [
       "<div>\n",
       "<style scoped>\n",
       "    .dataframe tbody tr th:only-of-type {\n",
       "        vertical-align: middle;\n",
       "    }\n",
       "\n",
       "    .dataframe tbody tr th {\n",
       "        vertical-align: top;\n",
       "    }\n",
       "\n",
       "    .dataframe thead th {\n",
       "        text-align: right;\n",
       "    }\n",
       "</style>\n",
       "<table border=\"1\" class=\"dataframe\">\n",
       "  <thead>\n",
       "    <tr style=\"text-align: right;\">\n",
       "      <th></th>\n",
       "      <th>Suburb</th>\n",
       "      <th>Model R2 Score</th>\n",
       "    </tr>\n",
       "  </thead>\n",
       "  <tbody>\n",
       "    <tr>\n",
       "      <th>66</th>\n",
       "      <td>Williamstown</td>\n",
       "      <td>0.452201</td>\n",
       "    </tr>\n",
       "    <tr>\n",
       "      <th>67</th>\n",
       "      <td>Yarraville</td>\n",
       "      <td>0.529755</td>\n",
       "    </tr>\n",
       "    <tr>\n",
       "      <th>68</th>\n",
       "      <td>Cheltenham</td>\n",
       "      <td>0.383472</td>\n",
       "    </tr>\n",
       "    <tr>\n",
       "      <th>69</th>\n",
       "      <td>Sunbury</td>\n",
       "      <td>0.062035</td>\n",
       "    </tr>\n",
       "    <tr>\n",
       "      <th>70</th>\n",
       "      <td>Hawthorn East</td>\n",
       "      <td>0.759376</td>\n",
       "    </tr>\n",
       "  </tbody>\n",
       "</table>\n",
       "</div>"
      ],
      "text/plain": [
       "           Suburb  Model R2 Score\n",
       "66   Williamstown        0.452201\n",
       "67     Yarraville        0.529755\n",
       "68     Cheltenham        0.383472\n",
       "69        Sunbury        0.062035\n",
       "70  Hawthorn East        0.759376"
      ]
     },
     "execution_count": 86,
     "metadata": {},
     "output_type": "execute_result"
    }
   ],
   "source": [
    "results.tail()"
   ]
  },
  {
   "cell_type": "code",
   "execution_count": 87,
   "metadata": {},
   "outputs": [
    {
     "data": {
      "text/html": [
       "<div>\n",
       "<style scoped>\n",
       "    .dataframe tbody tr th:only-of-type {\n",
       "        vertical-align: middle;\n",
       "    }\n",
       "\n",
       "    .dataframe tbody tr th {\n",
       "        vertical-align: top;\n",
       "    }\n",
       "\n",
       "    .dataframe thead th {\n",
       "        text-align: right;\n",
       "    }\n",
       "</style>\n",
       "<table border=\"1\" class=\"dataframe\">\n",
       "  <thead>\n",
       "    <tr style=\"text-align: right;\">\n",
       "      <th></th>\n",
       "      <th>Suburb</th>\n",
       "      <th>Model R2 Score</th>\n",
       "    </tr>\n",
       "  </thead>\n",
       "  <tbody>\n",
       "    <tr>\n",
       "      <th>58</th>\n",
       "      <td>Sunshine</td>\n",
       "      <td>0.429185</td>\n",
       "    </tr>\n",
       "  </tbody>\n",
       "</table>\n",
       "</div>"
      ],
      "text/plain": [
       "      Suburb  Model R2 Score\n",
       "58  Sunshine        0.429185"
      ]
     },
     "execution_count": 87,
     "metadata": {},
     "output_type": "execute_result"
    }
   ],
   "source": [
    "results[results['Suburb'] == 'Sunshine']"
   ]
  },
  {
   "cell_type": "code",
   "execution_count": 88,
   "metadata": {},
   "outputs": [
    {
     "data": {
      "text/html": [
       "<div>\n",
       "<style scoped>\n",
       "    .dataframe tbody tr th:only-of-type {\n",
       "        vertical-align: middle;\n",
       "    }\n",
       "\n",
       "    .dataframe tbody tr th {\n",
       "        vertical-align: top;\n",
       "    }\n",
       "\n",
       "    .dataframe thead th {\n",
       "        text-align: right;\n",
       "    }\n",
       "</style>\n",
       "<table border=\"1\" class=\"dataframe\">\n",
       "  <thead>\n",
       "    <tr style=\"text-align: right;\">\n",
       "      <th></th>\n",
       "      <th>Suburb</th>\n",
       "      <th>Model R2 Score</th>\n",
       "    </tr>\n",
       "  </thead>\n",
       "  <tbody>\n",
       "    <tr>\n",
       "      <th>0</th>\n",
       "      <td>Ascot Vale</td>\n",
       "      <td>0.639414</td>\n",
       "    </tr>\n",
       "    <tr>\n",
       "      <th>1</th>\n",
       "      <td>Balwyn</td>\n",
       "      <td>0.474740</td>\n",
       "    </tr>\n",
       "    <tr>\n",
       "      <th>2</th>\n",
       "      <td>Balwyn North</td>\n",
       "      <td>0.251893</td>\n",
       "    </tr>\n",
       "    <tr>\n",
       "      <th>3</th>\n",
       "      <td>Beaumaris</td>\n",
       "      <td>0.302846</td>\n",
       "    </tr>\n",
       "    <tr>\n",
       "      <th>4</th>\n",
       "      <td>Bentleigh</td>\n",
       "      <td>0.468146</td>\n",
       "    </tr>\n",
       "  </tbody>\n",
       "</table>\n",
       "</div>"
      ],
      "text/plain": [
       "         Suburb  Model R2 Score\n",
       "0    Ascot Vale        0.639414\n",
       "1        Balwyn        0.474740\n",
       "2  Balwyn North        0.251893\n",
       "3     Beaumaris        0.302846\n",
       "4     Bentleigh        0.468146"
      ]
     },
     "execution_count": 88,
     "metadata": {},
     "output_type": "execute_result"
    }
   ],
   "source": [
    "results.head()"
   ]
  },
  {
   "cell_type": "code",
   "execution_count": 89,
   "metadata": {},
   "outputs": [
    {
     "name": "stdout",
     "output_type": "stream",
     "text": [
      "              Suburb  Model R2 Score\n",
      "0         Ascot Vale        0.639414\n",
      "1             Balwyn        0.474740\n",
      "2       Balwyn North        0.251893\n",
      "3          Beaumaris        0.302846\n",
      "4          Bentleigh        0.468146\n",
      "5     Bentleigh East        0.354508\n",
      "6           Brighton        0.524679\n",
      "7      Brighton East        0.358367\n",
      "8          Brunswick        0.525222\n",
      "9     Brunswick West        0.449170\n",
      "10          Bundoora        0.445063\n",
      "11        Camberwell        0.667854\n",
      "12          Carnegie        0.650562\n",
      "13            Coburg        0.117852\n",
      "14       Craigieburn        0.284678\n",
      "15           Croydon       -0.128408\n",
      "16         Doncaster        0.156800\n",
      "17    Doncaster East        0.358419\n",
      "18            Elwood        0.750728\n",
      "19            Epping        0.189686\n",
      "20          Essendon        0.642735\n",
      "21           Fawkner        0.068529\n",
      "22         Footscray        0.543151\n",
      "23         Frankston        0.088963\n",
      "24         Glen Iris        0.738154\n",
      "25     Glen Waverley        0.270542\n",
      "26           Glenroy        0.035899\n",
      "27     Greensborough        0.406155\n",
      "28           Hampton        0.538257\n",
      "29          Hawthorn        0.839718\n",
      "30           Highett        0.429524\n",
      "31  Hoppers Crossing        0.129997\n",
      "32           Ivanhoe        0.496931\n",
      "33       Keilor East        0.253052\n",
      "34        Kensington        0.592132\n",
      "35               Kew        0.515028\n",
      "36             Lalor        0.238918\n",
      "37      Malvern East        0.658060\n",
      "38       Maribyrnong        0.277863\n",
      "39           Mentone        0.357512\n",
      "40         Mill Park        0.285885\n",
      "41           Mitcham        0.427843\n",
      "42      Moonee Ponds        0.745592\n",
      "43    Mount Waverley        0.234804\n",
      "44          Mulgrave       -0.435218\n",
      "45           Newport       -0.129816\n",
      "46         Northcote        0.534092\n",
      "47          Parkdale        0.405233\n",
      "48       Pascoe Vale        0.382659\n",
      "49    Port Melbourne        0.574044\n",
      "50           Prahran        0.560096\n",
      "51           Preston        0.319280\n",
      "52         Reservoir        0.371762\n",
      "53          Richmond        0.502774\n",
      "54      South Morang        0.299445\n",
      "55       South Yarra        0.679888\n",
      "56         St Albans       -0.090661\n",
      "57          St Kilda        0.597434\n",
      "58          Sunshine        0.429185\n",
      "59     Sunshine West        0.345225\n",
      "60      Surrey Hills        0.298206\n",
      "61        Thomastown        0.187067\n",
      "62         Thornbury        0.650143\n",
      "63            Toorak        0.502983\n",
      "64          Werribee        0.139052\n",
      "65    West Footscray       -0.073066\n",
      "66      Williamstown        0.452201\n",
      "67        Yarraville        0.529755\n",
      "68        Cheltenham        0.383472\n",
      "69           Sunbury        0.062035\n",
      "70     Hawthorn East        0.759376\n"
     ]
    }
   ],
   "source": [
    "with pd.option_context('display.max_rows', None, 'display.max_columns', 3):\n",
    "    print(results)"
   ]
  },
  {
   "cell_type": "markdown",
   "metadata": {},
   "source": [
    "Some of these models predicted well. Some predicted not so well. And some are just lousy. These outliers and now the low number of observations are proving a real challenge. "
   ]
  },
  {
   "cell_type": "code",
   "execution_count": 95,
   "metadata": {},
   "outputs": [],
   "source": [
    "subnames = []\n",
    "subs = []\n",
    "\n",
    "for suburb in suburbs:\n",
    "    df = df2[df2['Suburb'] == suburb]\n",
    "    if df.shape[0] >= 200:\n",
    "        subs.append(df.drop('Suburb', axis=1))\n",
    "        subnames.append(suburb)\n",
    "        \n",
    "zipsub = list(zip(subnames, subs))\n",
    "\n",
    "submodels = []"
   ]
  },
  {
   "cell_type": "code",
   "execution_count": 96,
   "metadata": {},
   "outputs": [],
   "source": [
    "for name,df in zipsub:\n",
    "    #unpacks the zip in the order specified (name, then dataframe)\n",
    "#     c += 1\n",
    "    X = df.drop('Price', axis=1)\n",
    "    y = df['Price']\n",
    "    X_train, X_test, y_train, y_test = cross_validation.train_test_split(X, y,test_size=0.2)\n",
    "    clf = GradientBoostingRegressor(n_estimators=100, max_depth=4, learning_rate=0.1, loss='huber', random_state=1)\n",
    "    clf.fit(X_train, y_train)\n",
    "    submodels.append((name, clf.score(X_test, y_test)))"
   ]
  },
  {
   "cell_type": "code",
   "execution_count": 97,
   "metadata": {},
   "outputs": [],
   "source": [
    "results = pd.DataFrame.from_records(submodels, columns=['Suburb', 'Model R2 Score'])  "
   ]
  },
  {
   "cell_type": "code",
   "execution_count": 98,
   "metadata": {
    "scrolled": false
   },
   "outputs": [
    {
     "name": "stdout",
     "output_type": "stream",
     "text": [
      "              Suburb  Model R2 Score\n",
      "0         Ascot Vale        0.382420\n",
      "1             Balwyn        0.640954\n",
      "2       Balwyn North        0.093990\n",
      "3          Beaumaris        0.250175\n",
      "4          Bentleigh        0.406167\n",
      "5     Bentleigh East        0.443835\n",
      "6           Brighton        0.458646\n",
      "7      Brighton East        0.373662\n",
      "8          Brunswick        0.579383\n",
      "9     Brunswick West        0.532558\n",
      "10          Bundoora        0.451315\n",
      "11        Camberwell        0.464591\n",
      "12          Carnegie        0.712230\n",
      "13            Coburg        0.538467\n",
      "14       Craigieburn       -0.007741\n",
      "15           Croydon        0.172114\n",
      "16         Doncaster        0.265273\n",
      "17    Doncaster East        0.285405\n",
      "18            Elwood        0.730510\n",
      "19            Epping        0.388413\n",
      "20          Essendon        0.606624\n",
      "21           Fawkner       -0.039999\n",
      "22         Footscray        0.310110\n",
      "23         Frankston       -0.254945\n",
      "24         Glen Iris        0.647350\n",
      "25     Glen Waverley        0.418665\n",
      "26           Glenroy        0.143908\n",
      "27     Greensborough       -0.025265\n",
      "28           Hampton        0.313114\n",
      "29          Hawthorn        0.788439\n",
      "30           Highett        0.467673\n",
      "31  Hoppers Crossing        0.087540\n",
      "32           Ivanhoe        0.336057\n",
      "33       Keilor East        0.205878\n",
      "34        Kensington        0.362263\n",
      "35               Kew        0.485270\n",
      "36             Lalor        0.196407\n",
      "37      Malvern East        0.349489\n",
      "38       Maribyrnong        0.272550\n",
      "39           Mentone        0.347922\n",
      "40         Mill Park        0.334284\n",
      "41           Mitcham        0.407481\n",
      "42      Moonee Ponds        0.706896\n",
      "43    Mount Waverley        0.402674\n",
      "44          Mulgrave        0.207151\n",
      "45           Newport       -0.162537\n",
      "46         Northcote        0.519043\n",
      "47          Parkdale        0.396532\n",
      "48       Pascoe Vale        0.507153\n",
      "49    Port Melbourne        0.576875\n",
      "50           Prahran        0.592315\n",
      "51           Preston        0.183766\n",
      "52         Reservoir        0.430077\n",
      "53          Richmond        0.555230\n",
      "54      South Morang        0.436854\n",
      "55       South Yarra        0.511500\n",
      "56         St Albans       -0.198611\n",
      "57          St Kilda        0.812052\n",
      "58          Sunshine        0.415034\n",
      "59     Sunshine West       -0.093954\n",
      "60      Surrey Hills        0.486066\n",
      "61        Thomastown       -0.056682\n",
      "62         Thornbury        0.551029\n",
      "63            Toorak        0.498679\n",
      "64          Werribee        0.331610\n",
      "65    West Footscray        0.440154\n",
      "66      Williamstown        0.389557\n",
      "67        Yarraville        0.504473\n",
      "68        Cheltenham        0.461710\n",
      "69           Sunbury        0.151343\n",
      "70     Hawthorn East        0.710920\n"
     ]
    }
   ],
   "source": [
    "with pd.option_context('display.max_rows', None, 'display.max_columns', 3):\n",
    "    print(results)"
   ]
  },
  {
   "cell_type": "markdown",
   "metadata": {},
   "source": [
    "## Conclusion (Suburb Breakdown)\n",
    "\n",
    "Though I still believe that a suburban modeling structure is the best fit for any realistic housing price model, I see that there are problems with the dataset:\n",
    "\n",
    "- too many factors that can affect housing price that are missing\n",
    "- too few observations\n",
    "- outliers must be dealt with in ways that Supervised Learning models alone might not be equipped for\n",
    "\n",
    "The next recommendation is that new data be scraped and added to regional demographic information. Things like address and seller are irrelevant. Features like per capita household income, employment rates, square footage, and even sales trend data are far more important. "
   ]
  },
  {
   "cell_type": "code",
   "execution_count": null,
   "metadata": {},
   "outputs": [],
   "source": []
  }
 ],
 "metadata": {
  "kernelspec": {
   "display_name": "Python 3",
   "language": "python",
   "name": "python3"
  },
  "language_info": {
   "codemirror_mode": {
    "name": "ipython",
    "version": 3
   },
   "file_extension": ".py",
   "mimetype": "text/x-python",
   "name": "python",
   "nbconvert_exporter": "python",
   "pygments_lexer": "ipython3",
   "version": "3.6.4"
  }
 },
 "nbformat": 4,
 "nbformat_minor": 2
}
