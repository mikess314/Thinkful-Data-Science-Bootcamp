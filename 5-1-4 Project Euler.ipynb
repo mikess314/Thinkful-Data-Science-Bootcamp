{
 "cells": [
  {
   "cell_type": "markdown",
   "metadata": {},
   "source": [
    "Project Euler is a fantastic set of mathematical programming problems. Use the skills we’ve discussed here to find efficient solutions to the first 10 problems. Once you’ve found your own solutions look around the web for others’ Python solutions to see other ways people have approached these problems."
   ]
  },
  {
   "cell_type": "markdown",
   "metadata": {},
   "source": [
    "1. If we list all the natural numbers below 10 that are multiples of 3 or 5, we get 3, 5, 6 and 9. The sum of these multiples is 23. Find the sum of all the multiples of 3 or 5 below 1000."
   ]
  },
  {
   "cell_type": "code",
   "execution_count": 81,
   "metadata": {},
   "outputs": [],
   "source": [
    "answer1 = []\n",
    "x = 3\n",
    "y = 5\n",
    "\n",
    "while x < 1000:\n",
    "    answer1.append(x)\n",
    "    answer1.append(y)\n",
    "    x += 3\n",
    "    y += 5\n",
    "    if x >= 1000:\n",
    "        break\n",
    "    if y >= 1000:\n",
    "        break\n",
    "    "
   ]
  },
  {
   "cell_type": "code",
   "execution_count": 82,
   "metadata": {},
   "outputs": [
    {
     "data": {
      "text/plain": [
       "159200"
      ]
     },
     "execution_count": 82,
     "metadata": {},
     "output_type": "execute_result"
    }
   ],
   "source": [
    "sum(answer1)"
   ]
  },
  {
   "cell_type": "code",
   "execution_count": 83,
   "metadata": {},
   "outputs": [],
   "source": [
    "answer1 = []\n",
    "x = 3\n",
    "y = 5"
   ]
  },
  {
   "cell_type": "code",
   "execution_count": 84,
   "metadata": {},
   "outputs": [],
   "source": [
    "while x < 1000:\n",
    "    answer1.append(x)\n",
    "    x += 3\n",
    "    if x >= 1000:\n",
    "        break"
   ]
  },
  {
   "cell_type": "code",
   "execution_count": 85,
   "metadata": {},
   "outputs": [],
   "source": [
    "while y < 1000:\n",
    "    answer1.append(y)\n",
    "    y += 5\n",
    "    if y >= 1000:\n",
    "        break"
   ]
  },
  {
   "cell_type": "code",
   "execution_count": 86,
   "metadata": {},
   "outputs": [
    {
     "data": {
      "text/plain": [
       "[3,\n",
       " 5,\n",
       " 6,\n",
       " 9,\n",
       " 10,\n",
       " 12,\n",
       " 15,\n",
       " 15,\n",
       " 18,\n",
       " 20,\n",
       " 21,\n",
       " 24,\n",
       " 25,\n",
       " 27,\n",
       " 30,\n",
       " 30,\n",
       " 33,\n",
       " 35,\n",
       " 36,\n",
       " 39,\n",
       " 40,\n",
       " 42,\n",
       " 45,\n",
       " 45,\n",
       " 48,\n",
       " 50,\n",
       " 51,\n",
       " 54,\n",
       " 55,\n",
       " 57,\n",
       " 60,\n",
       " 60,\n",
       " 63,\n",
       " 65,\n",
       " 66,\n",
       " 69,\n",
       " 70,\n",
       " 72,\n",
       " 75,\n",
       " 75,\n",
       " 78,\n",
       " 80,\n",
       " 81,\n",
       " 84,\n",
       " 85,\n",
       " 87,\n",
       " 90,\n",
       " 90,\n",
       " 93,\n",
       " 95,\n",
       " 96,\n",
       " 99,\n",
       " 100,\n",
       " 102,\n",
       " 105,\n",
       " 105,\n",
       " 108,\n",
       " 110,\n",
       " 111,\n",
       " 114,\n",
       " 115,\n",
       " 117,\n",
       " 120,\n",
       " 120,\n",
       " 123,\n",
       " 125,\n",
       " 126,\n",
       " 129,\n",
       " 130,\n",
       " 132,\n",
       " 135,\n",
       " 135,\n",
       " 138,\n",
       " 140,\n",
       " 141,\n",
       " 144,\n",
       " 145,\n",
       " 147,\n",
       " 150,\n",
       " 150,\n",
       " 153,\n",
       " 155,\n",
       " 156,\n",
       " 159,\n",
       " 160,\n",
       " 162,\n",
       " 165,\n",
       " 165,\n",
       " 168,\n",
       " 170,\n",
       " 171,\n",
       " 174,\n",
       " 175,\n",
       " 177,\n",
       " 180,\n",
       " 180,\n",
       " 183,\n",
       " 185,\n",
       " 186,\n",
       " 189,\n",
       " 190,\n",
       " 192,\n",
       " 195,\n",
       " 195,\n",
       " 198,\n",
       " 200,\n",
       " 201,\n",
       " 204,\n",
       " 205,\n",
       " 207,\n",
       " 210,\n",
       " 210,\n",
       " 213,\n",
       " 215,\n",
       " 216,\n",
       " 219,\n",
       " 220,\n",
       " 222,\n",
       " 225,\n",
       " 225,\n",
       " 228,\n",
       " 230,\n",
       " 231,\n",
       " 234,\n",
       " 235,\n",
       " 237,\n",
       " 240,\n",
       " 240,\n",
       " 243,\n",
       " 245,\n",
       " 246,\n",
       " 249,\n",
       " 250,\n",
       " 252,\n",
       " 255,\n",
       " 255,\n",
       " 258,\n",
       " 260,\n",
       " 261,\n",
       " 264,\n",
       " 265,\n",
       " 267,\n",
       " 270,\n",
       " 270,\n",
       " 273,\n",
       " 275,\n",
       " 276,\n",
       " 279,\n",
       " 280,\n",
       " 282,\n",
       " 285,\n",
       " 285,\n",
       " 288,\n",
       " 290,\n",
       " 291,\n",
       " 294,\n",
       " 295,\n",
       " 297,\n",
       " 300,\n",
       " 300,\n",
       " 303,\n",
       " 305,\n",
       " 306,\n",
       " 309,\n",
       " 310,\n",
       " 312,\n",
       " 315,\n",
       " 315,\n",
       " 318,\n",
       " 320,\n",
       " 321,\n",
       " 324,\n",
       " 325,\n",
       " 327,\n",
       " 330,\n",
       " 330,\n",
       " 333,\n",
       " 335,\n",
       " 336,\n",
       " 339,\n",
       " 340,\n",
       " 342,\n",
       " 345,\n",
       " 345,\n",
       " 348,\n",
       " 350,\n",
       " 351,\n",
       " 354,\n",
       " 355,\n",
       " 357,\n",
       " 360,\n",
       " 360,\n",
       " 363,\n",
       " 365,\n",
       " 366,\n",
       " 369,\n",
       " 370,\n",
       " 372,\n",
       " 375,\n",
       " 375,\n",
       " 378,\n",
       " 380,\n",
       " 381,\n",
       " 384,\n",
       " 385,\n",
       " 387,\n",
       " 390,\n",
       " 390,\n",
       " 393,\n",
       " 395,\n",
       " 396,\n",
       " 399,\n",
       " 400,\n",
       " 402,\n",
       " 405,\n",
       " 405,\n",
       " 408,\n",
       " 410,\n",
       " 411,\n",
       " 414,\n",
       " 415,\n",
       " 417,\n",
       " 420,\n",
       " 420,\n",
       " 423,\n",
       " 425,\n",
       " 426,\n",
       " 429,\n",
       " 430,\n",
       " 432,\n",
       " 435,\n",
       " 435,\n",
       " 438,\n",
       " 440,\n",
       " 441,\n",
       " 444,\n",
       " 445,\n",
       " 447,\n",
       " 450,\n",
       " 450,\n",
       " 453,\n",
       " 455,\n",
       " 456,\n",
       " 459,\n",
       " 460,\n",
       " 462,\n",
       " 465,\n",
       " 465,\n",
       " 468,\n",
       " 470,\n",
       " 471,\n",
       " 474,\n",
       " 475,\n",
       " 477,\n",
       " 480,\n",
       " 480,\n",
       " 483,\n",
       " 485,\n",
       " 486,\n",
       " 489,\n",
       " 490,\n",
       " 492,\n",
       " 495,\n",
       " 495,\n",
       " 498,\n",
       " 500,\n",
       " 501,\n",
       " 504,\n",
       " 505,\n",
       " 507,\n",
       " 510,\n",
       " 510,\n",
       " 513,\n",
       " 515,\n",
       " 516,\n",
       " 519,\n",
       " 520,\n",
       " 522,\n",
       " 525,\n",
       " 525,\n",
       " 528,\n",
       " 530,\n",
       " 531,\n",
       " 534,\n",
       " 535,\n",
       " 537,\n",
       " 540,\n",
       " 540,\n",
       " 543,\n",
       " 545,\n",
       " 546,\n",
       " 549,\n",
       " 550,\n",
       " 552,\n",
       " 555,\n",
       " 555,\n",
       " 558,\n",
       " 560,\n",
       " 561,\n",
       " 564,\n",
       " 565,\n",
       " 567,\n",
       " 570,\n",
       " 570,\n",
       " 573,\n",
       " 575,\n",
       " 576,\n",
       " 579,\n",
       " 580,\n",
       " 582,\n",
       " 585,\n",
       " 585,\n",
       " 588,\n",
       " 590,\n",
       " 591,\n",
       " 594,\n",
       " 595,\n",
       " 597,\n",
       " 600,\n",
       " 600,\n",
       " 603,\n",
       " 605,\n",
       " 606,\n",
       " 609,\n",
       " 610,\n",
       " 612,\n",
       " 615,\n",
       " 615,\n",
       " 618,\n",
       " 620,\n",
       " 621,\n",
       " 624,\n",
       " 625,\n",
       " 627,\n",
       " 630,\n",
       " 630,\n",
       " 633,\n",
       " 635,\n",
       " 636,\n",
       " 639,\n",
       " 640,\n",
       " 642,\n",
       " 645,\n",
       " 645,\n",
       " 648,\n",
       " 650,\n",
       " 651,\n",
       " 654,\n",
       " 655,\n",
       " 657,\n",
       " 660,\n",
       " 660,\n",
       " 663,\n",
       " 665,\n",
       " 666,\n",
       " 669,\n",
       " 670,\n",
       " 672,\n",
       " 675,\n",
       " 675,\n",
       " 678,\n",
       " 680,\n",
       " 681,\n",
       " 684,\n",
       " 685,\n",
       " 687,\n",
       " 690,\n",
       " 690,\n",
       " 693,\n",
       " 695,\n",
       " 696,\n",
       " 699,\n",
       " 700,\n",
       " 702,\n",
       " 705,\n",
       " 705,\n",
       " 708,\n",
       " 710,\n",
       " 711,\n",
       " 714,\n",
       " 715,\n",
       " 717,\n",
       " 720,\n",
       " 720,\n",
       " 723,\n",
       " 725,\n",
       " 726,\n",
       " 729,\n",
       " 730,\n",
       " 732,\n",
       " 735,\n",
       " 735,\n",
       " 738,\n",
       " 740,\n",
       " 741,\n",
       " 744,\n",
       " 745,\n",
       " 747,\n",
       " 750,\n",
       " 750,\n",
       " 753,\n",
       " 755,\n",
       " 756,\n",
       " 759,\n",
       " 760,\n",
       " 762,\n",
       " 765,\n",
       " 765,\n",
       " 768,\n",
       " 770,\n",
       " 771,\n",
       " 774,\n",
       " 775,\n",
       " 777,\n",
       " 780,\n",
       " 780,\n",
       " 783,\n",
       " 785,\n",
       " 786,\n",
       " 789,\n",
       " 790,\n",
       " 792,\n",
       " 795,\n",
       " 795,\n",
       " 798,\n",
       " 800,\n",
       " 801,\n",
       " 804,\n",
       " 805,\n",
       " 807,\n",
       " 810,\n",
       " 810,\n",
       " 813,\n",
       " 815,\n",
       " 816,\n",
       " 819,\n",
       " 820,\n",
       " 822,\n",
       " 825,\n",
       " 825,\n",
       " 828,\n",
       " 830,\n",
       " 831,\n",
       " 834,\n",
       " 835,\n",
       " 837,\n",
       " 840,\n",
       " 840,\n",
       " 843,\n",
       " 845,\n",
       " 846,\n",
       " 849,\n",
       " 850,\n",
       " 852,\n",
       " 855,\n",
       " 855,\n",
       " 858,\n",
       " 860,\n",
       " 861,\n",
       " 864,\n",
       " 865,\n",
       " 867,\n",
       " 870,\n",
       " 870,\n",
       " 873,\n",
       " 875,\n",
       " 876,\n",
       " 879,\n",
       " 880,\n",
       " 882,\n",
       " 885,\n",
       " 885,\n",
       " 888,\n",
       " 890,\n",
       " 891,\n",
       " 894,\n",
       " 895,\n",
       " 897,\n",
       " 900,\n",
       " 900,\n",
       " 903,\n",
       " 905,\n",
       " 906,\n",
       " 909,\n",
       " 910,\n",
       " 912,\n",
       " 915,\n",
       " 915,\n",
       " 918,\n",
       " 920,\n",
       " 921,\n",
       " 924,\n",
       " 925,\n",
       " 927,\n",
       " 930,\n",
       " 930,\n",
       " 933,\n",
       " 935,\n",
       " 936,\n",
       " 939,\n",
       " 940,\n",
       " 942,\n",
       " 945,\n",
       " 945,\n",
       " 948,\n",
       " 950,\n",
       " 951,\n",
       " 954,\n",
       " 955,\n",
       " 957,\n",
       " 960,\n",
       " 960,\n",
       " 963,\n",
       " 965,\n",
       " 966,\n",
       " 969,\n",
       " 970,\n",
       " 972,\n",
       " 975,\n",
       " 975,\n",
       " 978,\n",
       " 980,\n",
       " 981,\n",
       " 984,\n",
       " 985,\n",
       " 987,\n",
       " 990,\n",
       " 990,\n",
       " 993,\n",
       " 995,\n",
       " 996,\n",
       " 999]"
      ]
     },
     "execution_count": 86,
     "metadata": {},
     "output_type": "execute_result"
    }
   ],
   "source": [
    "sorted(answer1)"
   ]
  },
  {
   "cell_type": "code",
   "execution_count": 87,
   "metadata": {},
   "outputs": [],
   "source": [
    "answer1_set = set(answer1)"
   ]
  },
  {
   "cell_type": "code",
   "execution_count": 88,
   "metadata": {},
   "outputs": [
    {
     "data": {
      "text/plain": [
       "233168"
      ]
     },
     "execution_count": 88,
     "metadata": {},
     "output_type": "execute_result"
    }
   ],
   "source": [
    "sum(answer1_set)"
   ]
  },
  {
   "cell_type": "markdown",
   "metadata": {},
   "source": [
    "<dd>2. Each new term in the Fibonacci sequence is generated by adding the previous two terms. By starting with 1 and 2, the first 10 terms will be:\n",
    "\n",
    "1, 2, 3, 5, 8, 13, 21, 34, 55, 89, ...\n",
    "\n",
    "By considering the terms in the Fibonacci sequence whose values do not exceed four million, find the sum of the even-valued terms."
   ]
  },
  {
   "cell_type": "code",
   "execution_count": 113,
   "metadata": {},
   "outputs": [],
   "source": [
    "answer2 = []"
   ]
  },
  {
   "cell_type": "code",
   "execution_count": 90,
   "metadata": {},
   "outputs": [],
   "source": [
    "def remove_odd(l):\n",
    "    return [x for x in l if x % 2 == 0]"
   ]
  },
  {
   "cell_type": "code",
   "execution_count": 91,
   "metadata": {},
   "outputs": [],
   "source": [
    "fib_cache = {}"
   ]
  },
  {
   "cell_type": "code",
   "execution_count": 92,
   "metadata": {},
   "outputs": [],
   "source": [
    "def fib(n):\n",
    "    if n in fib_cache:\n",
    "        return fib_cache[n]\n",
    "    if n == 1:\n",
    "        value = 1\n",
    "    elif n == 2:\n",
    "        value = 1\n",
    "    elif n > 2:\n",
    "        value = fib(n-1) + fib(n-2)\n",
    "    fib_cache[n] = value\n",
    "    return value"
   ]
  },
  {
   "cell_type": "code",
   "execution_count": 112,
   "metadata": {},
   "outputs": [
    {
     "name": "stdout",
     "output_type": "stream",
     "text": [
      "1 : 1\n",
      "2 : 1\n",
      "3 : 2\n",
      "4 : 3\n",
      "5 : 5\n",
      "6 : 8\n",
      "7 : 13\n",
      "8 : 21\n",
      "9 : 34\n",
      "10 : 55\n",
      "11 : 89\n",
      "12 : 144\n",
      "13 : 233\n",
      "14 : 377\n",
      "15 : 610\n",
      "16 : 987\n",
      "17 : 1597\n",
      "18 : 2584\n",
      "19 : 4181\n",
      "20 : 6765\n",
      "21 : 10946\n",
      "22 : 17711\n",
      "23 : 28657\n",
      "24 : 46368\n",
      "25 : 75025\n",
      "26 : 121393\n",
      "27 : 196418\n",
      "28 : 317811\n",
      "29 : 514229\n",
      "30 : 832040\n",
      "31 : 1346269\n",
      "32 : 2178309\n",
      "33 : 3524578\n"
     ]
    }
   ],
   "source": [
    "for n in range(1, 34):\n",
    "    print(n, \":\", fib(n))"
   ]
  },
  {
   "cell_type": "code",
   "execution_count": 114,
   "metadata": {},
   "outputs": [],
   "source": [
    "for n in range(1, 34):\n",
    "    answer2.append(fib(n))"
   ]
  },
  {
   "cell_type": "code",
   "execution_count": 115,
   "metadata": {},
   "outputs": [
    {
     "data": {
      "text/plain": [
       "[1,\n",
       " 1,\n",
       " 2,\n",
       " 3,\n",
       " 5,\n",
       " 8,\n",
       " 13,\n",
       " 21,\n",
       " 34,\n",
       " 55,\n",
       " 89,\n",
       " 144,\n",
       " 233,\n",
       " 377,\n",
       " 610,\n",
       " 987,\n",
       " 1597,\n",
       " 2584,\n",
       " 4181,\n",
       " 6765,\n",
       " 10946,\n",
       " 17711,\n",
       " 28657,\n",
       " 46368,\n",
       " 75025,\n",
       " 121393,\n",
       " 196418,\n",
       " 317811,\n",
       " 514229,\n",
       " 832040,\n",
       " 1346269,\n",
       " 2178309,\n",
       " 3524578]"
      ]
     },
     "execution_count": 115,
     "metadata": {},
     "output_type": "execute_result"
    }
   ],
   "source": [
    "answer2"
   ]
  },
  {
   "cell_type": "code",
   "execution_count": 116,
   "metadata": {},
   "outputs": [],
   "source": [
    "answer2_even = remove_odd(answer2)"
   ]
  },
  {
   "cell_type": "code",
   "execution_count": 117,
   "metadata": {},
   "outputs": [
    {
     "data": {
      "text/plain": [
       "[2, 8, 34, 144, 610, 2584, 10946, 46368, 196418, 832040, 3524578]"
      ]
     },
     "execution_count": 117,
     "metadata": {},
     "output_type": "execute_result"
    }
   ],
   "source": [
    "answer2_even"
   ]
  },
  {
   "cell_type": "code",
   "execution_count": 118,
   "metadata": {},
   "outputs": [
    {
     "data": {
      "text/plain": [
       "4613732"
      ]
     },
     "execution_count": 118,
     "metadata": {},
     "output_type": "execute_result"
    }
   ],
   "source": [
    "sum(answer2_even)"
   ]
  },
  {
   "cell_type": "markdown",
   "metadata": {},
   "source": [
    "<dd>3. The prime factors of 13195 are 5, 7, 13 and 29. What is the largest prime factor of the number 600851475143 ?"
   ]
  },
  {
   "cell_type": "code",
   "execution_count": 119,
   "metadata": {},
   "outputs": [
    {
     "name": "stdout",
     "output_type": "stream",
     "text": [
      "6857.0\n"
     ]
    }
   ],
   "source": [
    "n = 600851475143\n",
    "i = 2\n",
    "while i * i < n:\n",
    "     while n % i == 0:\n",
    "         n = n / i\n",
    "     i = i + 1\n",
    "\n",
    "print (n)"
   ]
  },
  {
   "cell_type": "markdown",
   "metadata": {},
   "source": [
    "<dd>4. A palindromic number reads the same both ways. The largest palindrome made from the product of two 2-digit numbers is 9009 = 91 × 99. Find the largest palindrome made from the product of two 3-digit numbers."
   ]
  },
  {
   "cell_type": "code",
   "execution_count": 121,
   "metadata": {},
   "outputs": [],
   "source": [
    "def isPalindrome(num):\n",
    "    return str(num) == str(num)[::-1]\n",
    "\n",
    "def largest(bot, top):\n",
    "    z = 0\n",
    "    for x in range(top, bot, -1):\n",
    "        for y in range(top,bot, -1):\n",
    "            if isPalindrome(x*y):\n",
    "                if x*y > z:\n",
    "                    z = x*y\n",
    "    return z"
   ]
  },
  {
   "cell_type": "code",
   "execution_count": 123,
   "metadata": {},
   "outputs": [
    {
     "name": "stdout",
     "output_type": "stream",
     "text": [
      "906609\n"
     ]
    }
   ],
   "source": [
    "print(largest(100,999))"
   ]
  },
  {
   "cell_type": "markdown",
   "metadata": {},
   "source": [
    "<dd>5. 2520 is the smallest number that can be divided by each of the numbers from 1 to 10 without any remainder. What is the smallest positive number that is evenly divisible by all of the numbers from 1 to 20?"
   ]
  },
  {
   "cell_type": "code",
   "execution_count": 141,
   "metadata": {},
   "outputs": [],
   "source": [
    "answer5 = []"
   ]
  },
  {
   "cell_type": "code",
   "execution_count": 144,
   "metadata": {},
   "outputs": [],
   "source": [
    "for i in range(1,1000000000):\n",
    "    if i % 2 == 0 and i % 3 == 0 and i % 4 == 0 and i % 5 == 0 and i % 6 == 0 and i % 7 == 0 and i % 8 == 0 and i % 9 == 0 and i % 10 == 0 and i % 11 == 0 and i % 12 == 0 and i % 13 == 0 and i % 14 == 0 and i % 15 == 0 and i % 16 == 0 and i % 17 == 0 and i % 18 == 0 and i % 19 == 0 and i % 20 == 0:\n",
    "        answer5.append(i)"
   ]
  },
  {
   "cell_type": "code",
   "execution_count": 145,
   "metadata": {},
   "outputs": [
    {
     "data": {
      "text/plain": [
       "[232792560, 465585120, 698377680, 931170240]"
      ]
     },
     "execution_count": 145,
     "metadata": {},
     "output_type": "execute_result"
    }
   ],
   "source": [
    "answer5"
   ]
  },
  {
   "cell_type": "markdown",
   "metadata": {},
   "source": [
    "<dd>6. The sum of the squares of the first ten natural numbers is,\n",
    "\n",
    "12 + 22 + ... + 102 = 385\n",
    "The square of the sum of the first ten natural numbers is,\n",
    "\n",
    "(1 + 2 + ... + 10)2 = 552 = 3025\n",
    "Hence the difference between the sum of the squares of the first ten natural numbers and the square of the sum is 3025 − 385 = 2640.\n",
    "\n",
    "Find the difference between the sum of the squares of the first one hundred natural numbers and the square of the sum."
   ]
  },
  {
   "cell_type": "code",
   "execution_count": 172,
   "metadata": {},
   "outputs": [],
   "source": [
    "answer6_sum_square = []\n",
    "\n",
    "for i in range(1, 101):\n",
    "    answer6_sum_square.append(i*i)"
   ]
  },
  {
   "cell_type": "code",
   "execution_count": 173,
   "metadata": {
    "scrolled": true
   },
   "outputs": [
    {
     "data": {
      "text/plain": [
       "[1,\n",
       " 4,\n",
       " 9,\n",
       " 16,\n",
       " 25,\n",
       " 36,\n",
       " 49,\n",
       " 64,\n",
       " 81,\n",
       " 100,\n",
       " 121,\n",
       " 144,\n",
       " 169,\n",
       " 196,\n",
       " 225,\n",
       " 256,\n",
       " 289,\n",
       " 324,\n",
       " 361,\n",
       " 400,\n",
       " 441,\n",
       " 484,\n",
       " 529,\n",
       " 576,\n",
       " 625,\n",
       " 676,\n",
       " 729,\n",
       " 784,\n",
       " 841,\n",
       " 900,\n",
       " 961,\n",
       " 1024,\n",
       " 1089,\n",
       " 1156,\n",
       " 1225,\n",
       " 1296,\n",
       " 1369,\n",
       " 1444,\n",
       " 1521,\n",
       " 1600,\n",
       " 1681,\n",
       " 1764,\n",
       " 1849,\n",
       " 1936,\n",
       " 2025,\n",
       " 2116,\n",
       " 2209,\n",
       " 2304,\n",
       " 2401,\n",
       " 2500,\n",
       " 2601,\n",
       " 2704,\n",
       " 2809,\n",
       " 2916,\n",
       " 3025,\n",
       " 3136,\n",
       " 3249,\n",
       " 3364,\n",
       " 3481,\n",
       " 3600,\n",
       " 3721,\n",
       " 3844,\n",
       " 3969,\n",
       " 4096,\n",
       " 4225,\n",
       " 4356,\n",
       " 4489,\n",
       " 4624,\n",
       " 4761,\n",
       " 4900,\n",
       " 5041,\n",
       " 5184,\n",
       " 5329,\n",
       " 5476,\n",
       " 5625,\n",
       " 5776,\n",
       " 5929,\n",
       " 6084,\n",
       " 6241,\n",
       " 6400,\n",
       " 6561,\n",
       " 6724,\n",
       " 6889,\n",
       " 7056,\n",
       " 7225,\n",
       " 7396,\n",
       " 7569,\n",
       " 7744,\n",
       " 7921,\n",
       " 8100,\n",
       " 8281,\n",
       " 8464,\n",
       " 8649,\n",
       " 8836,\n",
       " 9025,\n",
       " 9216,\n",
       " 9409,\n",
       " 9604,\n",
       " 9801,\n",
       " 10000]"
      ]
     },
     "execution_count": 173,
     "metadata": {},
     "output_type": "execute_result"
    }
   ],
   "source": [
    "answer6_sum_square"
   ]
  },
  {
   "cell_type": "code",
   "execution_count": 174,
   "metadata": {},
   "outputs": [],
   "source": [
    "square_sum = sum(answer6_sum_square)"
   ]
  },
  {
   "cell_type": "code",
   "execution_count": 175,
   "metadata": {},
   "outputs": [
    {
     "data": {
      "text/plain": [
       "338350"
      ]
     },
     "execution_count": 175,
     "metadata": {},
     "output_type": "execute_result"
    }
   ],
   "source": [
    "square_sum"
   ]
  },
  {
   "cell_type": "code",
   "execution_count": 176,
   "metadata": {},
   "outputs": [],
   "source": [
    "answer6_sum = []\n",
    "\n",
    "for i in range(1,101):\n",
    "    answer6_sum.append(i)"
   ]
  },
  {
   "cell_type": "code",
   "execution_count": 177,
   "metadata": {
    "scrolled": true
   },
   "outputs": [
    {
     "data": {
      "text/plain": [
       "[1,\n",
       " 2,\n",
       " 3,\n",
       " 4,\n",
       " 5,\n",
       " 6,\n",
       " 7,\n",
       " 8,\n",
       " 9,\n",
       " 10,\n",
       " 11,\n",
       " 12,\n",
       " 13,\n",
       " 14,\n",
       " 15,\n",
       " 16,\n",
       " 17,\n",
       " 18,\n",
       " 19,\n",
       " 20,\n",
       " 21,\n",
       " 22,\n",
       " 23,\n",
       " 24,\n",
       " 25,\n",
       " 26,\n",
       " 27,\n",
       " 28,\n",
       " 29,\n",
       " 30,\n",
       " 31,\n",
       " 32,\n",
       " 33,\n",
       " 34,\n",
       " 35,\n",
       " 36,\n",
       " 37,\n",
       " 38,\n",
       " 39,\n",
       " 40,\n",
       " 41,\n",
       " 42,\n",
       " 43,\n",
       " 44,\n",
       " 45,\n",
       " 46,\n",
       " 47,\n",
       " 48,\n",
       " 49,\n",
       " 50,\n",
       " 51,\n",
       " 52,\n",
       " 53,\n",
       " 54,\n",
       " 55,\n",
       " 56,\n",
       " 57,\n",
       " 58,\n",
       " 59,\n",
       " 60,\n",
       " 61,\n",
       " 62,\n",
       " 63,\n",
       " 64,\n",
       " 65,\n",
       " 66,\n",
       " 67,\n",
       " 68,\n",
       " 69,\n",
       " 70,\n",
       " 71,\n",
       " 72,\n",
       " 73,\n",
       " 74,\n",
       " 75,\n",
       " 76,\n",
       " 77,\n",
       " 78,\n",
       " 79,\n",
       " 80,\n",
       " 81,\n",
       " 82,\n",
       " 83,\n",
       " 84,\n",
       " 85,\n",
       " 86,\n",
       " 87,\n",
       " 88,\n",
       " 89,\n",
       " 90,\n",
       " 91,\n",
       " 92,\n",
       " 93,\n",
       " 94,\n",
       " 95,\n",
       " 96,\n",
       " 97,\n",
       " 98,\n",
       " 99,\n",
       " 100]"
      ]
     },
     "execution_count": 177,
     "metadata": {},
     "output_type": "execute_result"
    }
   ],
   "source": [
    "answer6_sum"
   ]
  },
  {
   "cell_type": "code",
   "execution_count": 178,
   "metadata": {},
   "outputs": [],
   "source": [
    "sum_square = sum(answer6_sum)*sum(answer6_sum)"
   ]
  },
  {
   "cell_type": "code",
   "execution_count": 179,
   "metadata": {},
   "outputs": [
    {
     "data": {
      "text/plain": [
       "25502500"
      ]
     },
     "execution_count": 179,
     "metadata": {},
     "output_type": "execute_result"
    }
   ],
   "source": [
    "sum_square"
   ]
  },
  {
   "cell_type": "code",
   "execution_count": 180,
   "metadata": {},
   "outputs": [],
   "source": [
    "diff = sum_square - square_sum"
   ]
  },
  {
   "cell_type": "code",
   "execution_count": 181,
   "metadata": {},
   "outputs": [
    {
     "data": {
      "text/plain": [
       "25164150"
      ]
     },
     "execution_count": 181,
     "metadata": {},
     "output_type": "execute_result"
    }
   ],
   "source": [
    "diff"
   ]
  },
  {
   "cell_type": "markdown",
   "metadata": {},
   "source": [
    "<dd>7. By listing the first six prime numbers: 2, 3, 5, 7, 11, and 13, we can see that the 6th prime is 13. What is the 10001st prime number?"
   ]
  },
  {
   "cell_type": "code",
   "execution_count": 223,
   "metadata": {},
   "outputs": [],
   "source": [
    "answer7 = []"
   ]
  },
  {
   "cell_type": "code",
   "execution_count": 213,
   "metadata": {},
   "outputs": [],
   "source": [
    "import math\n",
    "\n",
    "def is_prime(n):\n",
    "    if n == 1:\n",
    "        return False\n",
    "    \n",
    "    if n == 2:\n",
    "        return True\n",
    "    if n > 2 and n % 2 == 0:\n",
    "        return False\n",
    "    \n",
    "    max_divisor = math.floor(math.sqrt(n))\n",
    "    for d in range(3, 1 + max_divisor, 2):\n",
    "        if n % d == 0:\n",
    "            return False\n",
    "    return True"
   ]
  },
  {
   "cell_type": "code",
   "execution_count": 214,
   "metadata": {},
   "outputs": [
    {
     "data": {
      "text/plain": [
       "False"
      ]
     },
     "execution_count": 214,
     "metadata": {},
     "output_type": "execute_result"
    }
   ],
   "source": [
    "is_prime(20)"
   ]
  },
  {
   "cell_type": "code",
   "execution_count": 224,
   "metadata": {},
   "outputs": [],
   "source": [
    "for i in range(2,500000):\n",
    "    if is_prime(i) == True:\n",
    "        answer7.append(i)"
   ]
  },
  {
   "cell_type": "code",
   "execution_count": 228,
   "metadata": {},
   "outputs": [
    {
     "data": {
      "text/plain": [
       "104743"
      ]
     },
     "execution_count": 228,
     "metadata": {},
     "output_type": "execute_result"
    }
   ],
   "source": [
    "# because I included 2 first so it'll be the 10,000th, not 10,001st\n",
    "answer7[10000]"
   ]
  },
  {
   "cell_type": "markdown",
   "metadata": {},
   "source": [
    "<dd>8. The four adjacent digits in the 1000-digit number that have the greatest product are 9 × 9 × 8 × 9 = 5832. Find the thirteen adjacent digits in the 1000-digit number that have the greatest product. What is the value of this product?"
   ]
  },
  {
   "cell_type": "code",
   "execution_count": 237,
   "metadata": {},
   "outputs": [],
   "source": [
    "num = 7316717653133062491922511967442657474235534919493496983520312774506326239578318016984801869478851843858615607891129494954595017379583319528532088055111254069874715852386305071569329096329522744304355766896648950445244523161731856403098711121722383113622298934233803081353362766142828064444866452387493035890729629049156044077239071381051585930796086670172427121883998797908792274921901699720888093776657273330010533678812202354218097512545405947522435258490771167055601360483958644670632441572215539753697817977846174064955149290862569321978468622482839722413756570560574902614079729686524145351004748216637048440319989000889524345065854122758866688116427171479924442928230863465674813919123162824586178664583591245665294765456828489128831426076900422421902267105562632111110937054421750694165896040807198403850962455444362981230987879927244284909188845801561660979191338754992005240636899125607176060588611646710940507754100225698315520005593572972571636269561882670428252483600823257530420752963450"
   ]
  },
  {
   "cell_type": "code",
   "execution_count": 238,
   "metadata": {},
   "outputs": [
    {
     "name": "stdout",
     "output_type": "stream",
     "text": [
      "[7, 3, 1, 6]\n"
     ]
    }
   ],
   "source": [
    "a = num\n",
    "b = str(a)\n",
    "c = []\n",
    "\n",
    "for digit in b:\n",
    "    c.append (int(digit))\n",
    "\n",
    "print(c[:4])"
   ]
  },
  {
   "cell_type": "code",
   "execution_count": 241,
   "metadata": {},
   "outputs": [
    {
     "name": "stdout",
     "output_type": "stream",
     "text": [
      "23514624000.0\n"
     ]
    }
   ],
   "source": [
    "for i in range(1000):\n",
    "    c[i] = int(c[i])\n",
    "\n",
    "previous_product = 1\n",
    "for x in range(13):\n",
    "  previous_product *= c[x]\n",
    "current_product = previous_product*c[13]/c[0]\n",
    "\n",
    "large_products = []\n",
    "\n",
    "for i in range(1, 987):\n",
    "  if current_product > previous_product:\n",
    "    large_products.append(current_product)\n",
    "  previous_product = current_product\n",
    "  if c[i]==0:\n",
    "    current_product = 1\n",
    "    for x in range(13):\n",
    "      current_product *= c[i+x+1]\n",
    "  else:\n",
    "    current_product = previous_product*c[i+x+1]/c[i]\n",
    "\n",
    "print(max(large_products))"
   ]
  },
  {
   "cell_type": "markdown",
   "metadata": {},
   "source": [
    "<dd>9 There exists exactly one Pythagorean triplet for which a + b + c = 1000. Find the product abc."
   ]
  },
  {
   "cell_type": "code",
   "execution_count": 13,
   "metadata": {},
   "outputs": [
    {
     "name": "stdout",
     "output_type": "stream",
     "text": [
      "31875000\n"
     ]
    }
   ],
   "source": [
    "if __name__ == '__main__':\n",
    "    \n",
    "    # Since we need three numbers\n",
    "    # that equal 1000, we iterate\n",
    "    # up to 400 to save time.\n",
    "    # This because we know that\n",
    "    # a and b will be worth less than 400\n",
    "    # because a < b < c\n",
    "    for a in range(1, 400):\n",
    "        for b in range(1, 400):\n",
    "        \n",
    "            # Find c bysubstracting a and b from 1000\n",
    "            # There is no need to loop for c.\n",
    "            c = (1000 - a) - b\n",
    "        \n",
    "            # each number must be smaller than the next\n",
    "            if a < b < c:\n",
    "            \n",
    "                # check if numbers are pythagorean triplet\n",
    "                if a**2 + b**2 == c**2:\n",
    "                \n",
    "                    # calculate the product\n",
    "                    print(a * b * c)"
   ]
  },
  {
   "cell_type": "markdown",
   "metadata": {},
   "source": [
    "<dd>10. The sum of the primes below 10 is 2 + 3 + 5 + 7 = 17. Find the sum of all the primes below two million."
   ]
  },
  {
   "cell_type": "code",
   "execution_count": 55,
   "metadata": {},
   "outputs": [
    {
     "name": "stdout",
     "output_type": "stream",
     "text": [
      "142913828922\n"
     ]
    }
   ],
   "source": [
    "sieve = [True] * 2000000 # Sieve is faster for 2M primes\n",
    "def mark(sieve, x):\n",
    "    for i in range(x+x, len(sieve), x):\n",
    "        sieve[i] = False\n",
    "\n",
    "for x in range(2, int(len(sieve) ** 0.5) + 1):\n",
    "    if sieve[x]: mark(sieve, x)\n",
    "\n",
    "print (sum(i for i in range(2, len(sieve)) if sieve[i]))"
   ]
  },
  {
   "cell_type": "code",
   "execution_count": null,
   "metadata": {},
   "outputs": [],
   "source": []
  }
 ],
 "metadata": {
  "kernelspec": {
   "display_name": "Python 3",
   "language": "python",
   "name": "python3"
  },
  "language_info": {
   "codemirror_mode": {
    "name": "ipython",
    "version": 3
   },
   "file_extension": ".py",
   "mimetype": "text/x-python",
   "name": "python",
   "nbconvert_exporter": "python",
   "pygments_lexer": "ipython3",
   "version": "3.6.4"
  }
 },
 "nbformat": 4,
 "nbformat_minor": 2
}
