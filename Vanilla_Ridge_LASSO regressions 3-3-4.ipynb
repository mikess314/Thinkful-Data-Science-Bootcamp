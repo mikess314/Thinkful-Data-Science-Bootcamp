{
 "cells": [
  {
   "cell_type": "code",
   "execution_count": 91,
   "metadata": {},
   "outputs": [],
   "source": [
    "import pandas as pd\n",
    "from matplotlib import pyplot as plt\n",
    "import numpy as np\n",
    "import math\n",
    "import seaborn as sns\n",
    "import sklearn\n",
    "from sklearn import linear_model, preprocessing\n",
    "from sklearn.linear_model import LogisticRegression\n",
    "from sklearn.preprocessing import PolynomialFeatures\n",
    "from itertools import combinations\n",
    "\n",
    "%matplotlib inline\n",
    "sns.set_style('white')"
   ]
  },
  {
   "cell_type": "code",
   "execution_count": 92,
   "metadata": {},
   "outputs": [],
   "source": [
    "df = pd.read_csv('responses.csv')"
   ]
  },
  {
   "cell_type": "code",
   "execution_count": 93,
   "metadata": {},
   "outputs": [
    {
     "data": {
      "text/html": [
       "<div>\n",
       "<style scoped>\n",
       "    .dataframe tbody tr th:only-of-type {\n",
       "        vertical-align: middle;\n",
       "    }\n",
       "\n",
       "    .dataframe tbody tr th {\n",
       "        vertical-align: top;\n",
       "    }\n",
       "\n",
       "    .dataframe thead th {\n",
       "        text-align: right;\n",
       "    }\n",
       "</style>\n",
       "<table border=\"1\" class=\"dataframe\">\n",
       "  <thead>\n",
       "    <tr style=\"text-align: right;\">\n",
       "      <th></th>\n",
       "      <th>Music</th>\n",
       "      <th>Slow songs or fast songs</th>\n",
       "      <th>Dance</th>\n",
       "      <th>Folk</th>\n",
       "      <th>Country</th>\n",
       "      <th>Classical music</th>\n",
       "      <th>Musical</th>\n",
       "      <th>Pop</th>\n",
       "      <th>Rock</th>\n",
       "      <th>Metal or Hardrock</th>\n",
       "      <th>...</th>\n",
       "      <th>Age</th>\n",
       "      <th>Height</th>\n",
       "      <th>Weight</th>\n",
       "      <th>Number of siblings</th>\n",
       "      <th>Gender</th>\n",
       "      <th>Left - right handed</th>\n",
       "      <th>Education</th>\n",
       "      <th>Only child</th>\n",
       "      <th>Village - town</th>\n",
       "      <th>House - block of flats</th>\n",
       "    </tr>\n",
       "  </thead>\n",
       "  <tbody>\n",
       "    <tr>\n",
       "      <th>0</th>\n",
       "      <td>5.0</td>\n",
       "      <td>3.0</td>\n",
       "      <td>2.0</td>\n",
       "      <td>1.0</td>\n",
       "      <td>2.0</td>\n",
       "      <td>2.0</td>\n",
       "      <td>1.0</td>\n",
       "      <td>5.0</td>\n",
       "      <td>5.0</td>\n",
       "      <td>1.0</td>\n",
       "      <td>...</td>\n",
       "      <td>20.0</td>\n",
       "      <td>163.0</td>\n",
       "      <td>48.0</td>\n",
       "      <td>1.0</td>\n",
       "      <td>female</td>\n",
       "      <td>right handed</td>\n",
       "      <td>college/bachelor degree</td>\n",
       "      <td>no</td>\n",
       "      <td>village</td>\n",
       "      <td>block of flats</td>\n",
       "    </tr>\n",
       "    <tr>\n",
       "      <th>1</th>\n",
       "      <td>4.0</td>\n",
       "      <td>4.0</td>\n",
       "      <td>2.0</td>\n",
       "      <td>1.0</td>\n",
       "      <td>1.0</td>\n",
       "      <td>1.0</td>\n",
       "      <td>2.0</td>\n",
       "      <td>3.0</td>\n",
       "      <td>5.0</td>\n",
       "      <td>4.0</td>\n",
       "      <td>...</td>\n",
       "      <td>19.0</td>\n",
       "      <td>163.0</td>\n",
       "      <td>58.0</td>\n",
       "      <td>2.0</td>\n",
       "      <td>female</td>\n",
       "      <td>right handed</td>\n",
       "      <td>college/bachelor degree</td>\n",
       "      <td>no</td>\n",
       "      <td>city</td>\n",
       "      <td>block of flats</td>\n",
       "    </tr>\n",
       "    <tr>\n",
       "      <th>2</th>\n",
       "      <td>5.0</td>\n",
       "      <td>5.0</td>\n",
       "      <td>2.0</td>\n",
       "      <td>2.0</td>\n",
       "      <td>3.0</td>\n",
       "      <td>4.0</td>\n",
       "      <td>5.0</td>\n",
       "      <td>3.0</td>\n",
       "      <td>5.0</td>\n",
       "      <td>3.0</td>\n",
       "      <td>...</td>\n",
       "      <td>20.0</td>\n",
       "      <td>176.0</td>\n",
       "      <td>67.0</td>\n",
       "      <td>2.0</td>\n",
       "      <td>female</td>\n",
       "      <td>right handed</td>\n",
       "      <td>secondary school</td>\n",
       "      <td>no</td>\n",
       "      <td>city</td>\n",
       "      <td>block of flats</td>\n",
       "    </tr>\n",
       "    <tr>\n",
       "      <th>3</th>\n",
       "      <td>5.0</td>\n",
       "      <td>3.0</td>\n",
       "      <td>2.0</td>\n",
       "      <td>1.0</td>\n",
       "      <td>1.0</td>\n",
       "      <td>1.0</td>\n",
       "      <td>1.0</td>\n",
       "      <td>2.0</td>\n",
       "      <td>2.0</td>\n",
       "      <td>1.0</td>\n",
       "      <td>...</td>\n",
       "      <td>22.0</td>\n",
       "      <td>172.0</td>\n",
       "      <td>59.0</td>\n",
       "      <td>1.0</td>\n",
       "      <td>female</td>\n",
       "      <td>right handed</td>\n",
       "      <td>college/bachelor degree</td>\n",
       "      <td>yes</td>\n",
       "      <td>city</td>\n",
       "      <td>house/bungalow</td>\n",
       "    </tr>\n",
       "    <tr>\n",
       "      <th>4</th>\n",
       "      <td>5.0</td>\n",
       "      <td>3.0</td>\n",
       "      <td>4.0</td>\n",
       "      <td>3.0</td>\n",
       "      <td>2.0</td>\n",
       "      <td>4.0</td>\n",
       "      <td>3.0</td>\n",
       "      <td>5.0</td>\n",
       "      <td>3.0</td>\n",
       "      <td>1.0</td>\n",
       "      <td>...</td>\n",
       "      <td>20.0</td>\n",
       "      <td>170.0</td>\n",
       "      <td>59.0</td>\n",
       "      <td>1.0</td>\n",
       "      <td>female</td>\n",
       "      <td>right handed</td>\n",
       "      <td>secondary school</td>\n",
       "      <td>no</td>\n",
       "      <td>village</td>\n",
       "      <td>house/bungalow</td>\n",
       "    </tr>\n",
       "  </tbody>\n",
       "</table>\n",
       "<p>5 rows × 150 columns</p>\n",
       "</div>"
      ],
      "text/plain": [
       "   Music  Slow songs or fast songs  Dance  Folk  Country  Classical music  \\\n",
       "0    5.0                       3.0    2.0   1.0      2.0              2.0   \n",
       "1    4.0                       4.0    2.0   1.0      1.0              1.0   \n",
       "2    5.0                       5.0    2.0   2.0      3.0              4.0   \n",
       "3    5.0                       3.0    2.0   1.0      1.0              1.0   \n",
       "4    5.0                       3.0    4.0   3.0      2.0              4.0   \n",
       "\n",
       "   Musical  Pop  Rock  Metal or Hardrock           ...             Age  \\\n",
       "0      1.0  5.0   5.0                1.0           ...            20.0   \n",
       "1      2.0  3.0   5.0                4.0           ...            19.0   \n",
       "2      5.0  3.0   5.0                3.0           ...            20.0   \n",
       "3      1.0  2.0   2.0                1.0           ...            22.0   \n",
       "4      3.0  5.0   3.0                1.0           ...            20.0   \n",
       "\n",
       "   Height  Weight  Number of siblings  Gender  Left - right handed  \\\n",
       "0   163.0    48.0                 1.0  female         right handed   \n",
       "1   163.0    58.0                 2.0  female         right handed   \n",
       "2   176.0    67.0                 2.0  female         right handed   \n",
       "3   172.0    59.0                 1.0  female         right handed   \n",
       "4   170.0    59.0                 1.0  female         right handed   \n",
       "\n",
       "                 Education  Only child  Village - town  House - block of flats  \n",
       "0  college/bachelor degree          no         village          block of flats  \n",
       "1  college/bachelor degree          no            city          block of flats  \n",
       "2         secondary school          no            city          block of flats  \n",
       "3  college/bachelor degree         yes            city          house/bungalow  \n",
       "4         secondary school          no         village          house/bungalow  \n",
       "\n",
       "[5 rows x 150 columns]"
      ]
     },
     "execution_count": 93,
     "metadata": {},
     "output_type": "execute_result"
    }
   ],
   "source": [
    "df.head()"
   ]
  },
  {
   "cell_type": "code",
   "execution_count": 94,
   "metadata": {},
   "outputs": [
    {
     "data": {
      "text/plain": [
       "Index(['Music', 'Slow songs or fast songs', 'Dance', 'Folk', 'Country',\n",
       "       'Classical music', 'Musical', 'Pop', 'Rock', 'Metal or Hardrock',\n",
       "       ...\n",
       "       'Age', 'Height', 'Weight', 'Number of siblings', 'Gender',\n",
       "       'Left - right handed', 'Education', 'Only child', 'Village - town',\n",
       "       'House - block of flats'],\n",
       "      dtype='object', length=150)"
      ]
     },
     "execution_count": 94,
     "metadata": {},
     "output_type": "execute_result"
    }
   ],
   "source": [
    "df.columns"
   ]
  },
  {
   "cell_type": "markdown",
   "metadata": {},
   "source": [
    "Our dataset is a survey of young people (ages 15-30) wherein they give Likert scale respones on over 100 categories for their activites from music genre preferences, movies, academic coursework, hobbies, fears, moral stances, social habits, life outlooks, and basic demographic information (height, weight, age, number of siblings, etc.). \n",
    "\n",
    "The Kaggle source can be found [here](https://www.kaggle.com/miroslavsabo/young-people-survey). \n",
    "\n",
    "This dataset contains 150 features before expansion, most of it integers. Predicting any of the column responses would be as fair a model as any other for the most part. I am going to start by building a model to predict the responses to column 'God' which is a 1-5 scale response to the statement \"I believe in God\". \n",
    "\n",
    "We'll need dummies for Smoking, Alcohol, Punctuality, Lying, Internet Usage, Gender, Left - Right Handed, Education, Only Child, Village - town, & House - block of flats. "
   ]
  },
  {
   "cell_type": "code",
   "execution_count": 95,
   "metadata": {},
   "outputs": [],
   "source": [
    "df = pd.get_dummies(data=df, columns=['Smoking', 'Alcohol', 'Punctuality', 'Lying', 'Internet usage', 'Gender', 'Left - right handed', 'Education', 'Only child', 'Village - town', 'House - block of flats'])"
   ]
  },
  {
   "cell_type": "code",
   "execution_count": 96,
   "metadata": {},
   "outputs": [
    {
     "data": {
      "text/html": [
       "<div>\n",
       "<style scoped>\n",
       "    .dataframe tbody tr th:only-of-type {\n",
       "        vertical-align: middle;\n",
       "    }\n",
       "\n",
       "    .dataframe tbody tr th {\n",
       "        vertical-align: top;\n",
       "    }\n",
       "\n",
       "    .dataframe thead th {\n",
       "        text-align: right;\n",
       "    }\n",
       "</style>\n",
       "<table border=\"1\" class=\"dataframe\">\n",
       "  <thead>\n",
       "    <tr style=\"text-align: right;\">\n",
       "      <th></th>\n",
       "      <th>Music</th>\n",
       "      <th>Slow songs or fast songs</th>\n",
       "      <th>Dance</th>\n",
       "      <th>Folk</th>\n",
       "      <th>Country</th>\n",
       "      <th>Classical music</th>\n",
       "      <th>Musical</th>\n",
       "      <th>Pop</th>\n",
       "      <th>Rock</th>\n",
       "      <th>Metal or Hardrock</th>\n",
       "      <th>...</th>\n",
       "      <th>Education_doctorate degree</th>\n",
       "      <th>Education_masters degree</th>\n",
       "      <th>Education_primary school</th>\n",
       "      <th>Education_secondary school</th>\n",
       "      <th>Only child_no</th>\n",
       "      <th>Only child_yes</th>\n",
       "      <th>Village - town_city</th>\n",
       "      <th>Village - town_village</th>\n",
       "      <th>House - block of flats_block of flats</th>\n",
       "      <th>House - block of flats_house/bungalow</th>\n",
       "    </tr>\n",
       "  </thead>\n",
       "  <tbody>\n",
       "    <tr>\n",
       "      <th>0</th>\n",
       "      <td>5.0</td>\n",
       "      <td>3.0</td>\n",
       "      <td>2.0</td>\n",
       "      <td>1.0</td>\n",
       "      <td>2.0</td>\n",
       "      <td>2.0</td>\n",
       "      <td>1.0</td>\n",
       "      <td>5.0</td>\n",
       "      <td>5.0</td>\n",
       "      <td>1.0</td>\n",
       "      <td>...</td>\n",
       "      <td>0</td>\n",
       "      <td>0</td>\n",
       "      <td>0</td>\n",
       "      <td>0</td>\n",
       "      <td>1</td>\n",
       "      <td>0</td>\n",
       "      <td>0</td>\n",
       "      <td>1</td>\n",
       "      <td>1</td>\n",
       "      <td>0</td>\n",
       "    </tr>\n",
       "    <tr>\n",
       "      <th>1</th>\n",
       "      <td>4.0</td>\n",
       "      <td>4.0</td>\n",
       "      <td>2.0</td>\n",
       "      <td>1.0</td>\n",
       "      <td>1.0</td>\n",
       "      <td>1.0</td>\n",
       "      <td>2.0</td>\n",
       "      <td>3.0</td>\n",
       "      <td>5.0</td>\n",
       "      <td>4.0</td>\n",
       "      <td>...</td>\n",
       "      <td>0</td>\n",
       "      <td>0</td>\n",
       "      <td>0</td>\n",
       "      <td>0</td>\n",
       "      <td>1</td>\n",
       "      <td>0</td>\n",
       "      <td>1</td>\n",
       "      <td>0</td>\n",
       "      <td>1</td>\n",
       "      <td>0</td>\n",
       "    </tr>\n",
       "    <tr>\n",
       "      <th>2</th>\n",
       "      <td>5.0</td>\n",
       "      <td>5.0</td>\n",
       "      <td>2.0</td>\n",
       "      <td>2.0</td>\n",
       "      <td>3.0</td>\n",
       "      <td>4.0</td>\n",
       "      <td>5.0</td>\n",
       "      <td>3.0</td>\n",
       "      <td>5.0</td>\n",
       "      <td>3.0</td>\n",
       "      <td>...</td>\n",
       "      <td>0</td>\n",
       "      <td>0</td>\n",
       "      <td>0</td>\n",
       "      <td>1</td>\n",
       "      <td>1</td>\n",
       "      <td>0</td>\n",
       "      <td>1</td>\n",
       "      <td>0</td>\n",
       "      <td>1</td>\n",
       "      <td>0</td>\n",
       "    </tr>\n",
       "    <tr>\n",
       "      <th>3</th>\n",
       "      <td>5.0</td>\n",
       "      <td>3.0</td>\n",
       "      <td>2.0</td>\n",
       "      <td>1.0</td>\n",
       "      <td>1.0</td>\n",
       "      <td>1.0</td>\n",
       "      <td>1.0</td>\n",
       "      <td>2.0</td>\n",
       "      <td>2.0</td>\n",
       "      <td>1.0</td>\n",
       "      <td>...</td>\n",
       "      <td>0</td>\n",
       "      <td>0</td>\n",
       "      <td>0</td>\n",
       "      <td>0</td>\n",
       "      <td>0</td>\n",
       "      <td>1</td>\n",
       "      <td>1</td>\n",
       "      <td>0</td>\n",
       "      <td>0</td>\n",
       "      <td>1</td>\n",
       "    </tr>\n",
       "    <tr>\n",
       "      <th>4</th>\n",
       "      <td>5.0</td>\n",
       "      <td>3.0</td>\n",
       "      <td>4.0</td>\n",
       "      <td>3.0</td>\n",
       "      <td>2.0</td>\n",
       "      <td>4.0</td>\n",
       "      <td>3.0</td>\n",
       "      <td>5.0</td>\n",
       "      <td>3.0</td>\n",
       "      <td>1.0</td>\n",
       "      <td>...</td>\n",
       "      <td>0</td>\n",
       "      <td>0</td>\n",
       "      <td>0</td>\n",
       "      <td>1</td>\n",
       "      <td>1</td>\n",
       "      <td>0</td>\n",
       "      <td>0</td>\n",
       "      <td>1</td>\n",
       "      <td>0</td>\n",
       "      <td>1</td>\n",
       "    </tr>\n",
       "  </tbody>\n",
       "</table>\n",
       "<p>5 rows × 173 columns</p>\n",
       "</div>"
      ],
      "text/plain": [
       "   Music  Slow songs or fast songs  Dance  Folk  Country  Classical music  \\\n",
       "0    5.0                       3.0    2.0   1.0      2.0              2.0   \n",
       "1    4.0                       4.0    2.0   1.0      1.0              1.0   \n",
       "2    5.0                       5.0    2.0   2.0      3.0              4.0   \n",
       "3    5.0                       3.0    2.0   1.0      1.0              1.0   \n",
       "4    5.0                       3.0    4.0   3.0      2.0              4.0   \n",
       "\n",
       "   Musical  Pop  Rock  Metal or Hardrock  \\\n",
       "0      1.0  5.0   5.0                1.0   \n",
       "1      2.0  3.0   5.0                4.0   \n",
       "2      5.0  3.0   5.0                3.0   \n",
       "3      1.0  2.0   2.0                1.0   \n",
       "4      3.0  5.0   3.0                1.0   \n",
       "\n",
       "                   ...                    Education_doctorate degree  \\\n",
       "0                  ...                                             0   \n",
       "1                  ...                                             0   \n",
       "2                  ...                                             0   \n",
       "3                  ...                                             0   \n",
       "4                  ...                                             0   \n",
       "\n",
       "   Education_masters degree  Education_primary school  \\\n",
       "0                         0                         0   \n",
       "1                         0                         0   \n",
       "2                         0                         0   \n",
       "3                         0                         0   \n",
       "4                         0                         0   \n",
       "\n",
       "   Education_secondary school  Only child_no  Only child_yes  \\\n",
       "0                           0              1               0   \n",
       "1                           0              1               0   \n",
       "2                           1              1               0   \n",
       "3                           0              0               1   \n",
       "4                           1              1               0   \n",
       "\n",
       "   Village - town_city  Village - town_village  \\\n",
       "0                    0                       1   \n",
       "1                    1                       0   \n",
       "2                    1                       0   \n",
       "3                    1                       0   \n",
       "4                    0                       1   \n",
       "\n",
       "   House - block of flats_block of flats  \\\n",
       "0                                      1   \n",
       "1                                      1   \n",
       "2                                      1   \n",
       "3                                      0   \n",
       "4                                      0   \n",
       "\n",
       "   House - block of flats_house/bungalow  \n",
       "0                                      0  \n",
       "1                                      0  \n",
       "2                                      0  \n",
       "3                                      1  \n",
       "4                                      1  \n",
       "\n",
       "[5 rows x 173 columns]"
      ]
     },
     "execution_count": 96,
     "metadata": {},
     "output_type": "execute_result"
    }
   ],
   "source": [
    "df.head()"
   ]
  },
  {
   "cell_type": "code",
   "execution_count": 97,
   "metadata": {},
   "outputs": [
    {
     "data": {
      "text/plain": [
       "Weight           20\n",
       "Height           20\n",
       "Passive sport    15\n",
       "Chemistry        10\n",
       "Geography         9\n",
       "dtype: int64"
      ]
     },
     "execution_count": 97,
     "metadata": {},
     "output_type": "execute_result"
    }
   ],
   "source": [
    "df.isnull().sum().sort_values(ascending=False).head()"
   ]
  },
  {
   "cell_type": "markdown",
   "metadata": {},
   "source": [
    "There are between 20 and 74 rows with some missing values. There are 1,010 total rows. I will drop the rows with missing values rather than impute because of the ratio. "
   ]
  },
  {
   "cell_type": "code",
   "execution_count": 98,
   "metadata": {},
   "outputs": [],
   "source": [
    "df = df.dropna()"
   ]
  },
  {
   "cell_type": "code",
   "execution_count": 99,
   "metadata": {},
   "outputs": [
    {
     "data": {
      "text/plain": [
       "House - block of flats_house/bungalow    0\n",
       "Passive sport                            0\n",
       "Adrenaline sports                        0\n",
       "Fun with friends                         0\n",
       "Theatre                                  0\n",
       "dtype: int64"
      ]
     },
     "execution_count": 99,
     "metadata": {},
     "output_type": "execute_result"
    }
   ],
   "source": [
    "df.isnull().sum().sort_values(ascending=False).head()"
   ]
  },
  {
   "cell_type": "code",
   "execution_count": 100,
   "metadata": {},
   "outputs": [],
   "source": [
    "df = df.apply(pd.to_numeric).astype('int64')"
   ]
  },
  {
   "cell_type": "code",
   "execution_count": 101,
   "metadata": {},
   "outputs": [],
   "source": [
    "trainsize = int(df.shape[0] / 2)\n",
    "df_test = df.iloc[trainsize:, :].copy()\n",
    "df_train = df.iloc[:trainsize, :].copy()\n",
    "\n",
    "Y_train = df_train['God'].values.reshape(-1, 1)\n",
    "X_train = df_train.loc[:, ~(df_train.columns).isin(['God'])]"
   ]
  },
  {
   "cell_type": "markdown",
   "metadata": {},
   "source": [
    "VANILLA REGRESSION"
   ]
  },
  {
   "cell_type": "code",
   "execution_count": 102,
   "metadata": {},
   "outputs": [
    {
     "name": "stdout",
     "output_type": "stream",
     "text": [
      "\n",
      "R-squared simple model:\n",
      "0.527817280806929\n"
     ]
    }
   ],
   "source": [
    "regr1 = linear_model.LinearRegression()\n",
    "regr1.fit(X_train, Y_train)\n",
    "print('\\nR-squared simple model:')\n",
    "print(regr1.score(X_train, Y_train))"
   ]
  },
  {
   "cell_type": "code",
   "execution_count": 103,
   "metadata": {},
   "outputs": [],
   "source": [
    "X = df.drop('God', 1)\n",
    "y = df['God']"
   ]
  },
  {
   "cell_type": "code",
   "execution_count": 104,
   "metadata": {},
   "outputs": [],
   "source": [
    "def add_interactions(X):\n",
    "    # Get feature names\n",
    "    combos = list(combinations(list(X.columns), 2))\n",
    "    colnames = list(X.columns) + ['_'.join(X) for X in combos]\n",
    "    \n",
    "    # Find interactions\n",
    "    poly = PolynomialFeatures(interaction_only=True, include_bias=False)\n",
    "    X = poly.fit_transform(X)\n",
    "    X = pd.DataFrame(X)\n",
    "    X.columns = colnames\n",
    "    \n",
    "    # Remove interaction terms with all 0 values            \n",
    "    noint_indicies = [i for i, X in enumerate(list((X == 0).all())) if X]\n",
    "    X = X.drop(X.columns[noint_indicies], axis=1)\n",
    "    \n",
    "    return X"
   ]
  },
  {
   "cell_type": "code",
   "execution_count": 105,
   "metadata": {},
   "outputs": [
    {
     "name": "stdout",
     "output_type": "stream",
     "text": [
      "   Music  Slow songs or fast songs  Dance  Folk  Country  Classical music  \\\n",
      "0    5.0                       3.0    2.0   1.0      2.0              2.0   \n",
      "1    4.0                       4.0    2.0   1.0      1.0              1.0   \n",
      "2    5.0                       5.0    2.0   2.0      3.0              4.0   \n",
      "3    5.0                       3.0    4.0   3.0      2.0              4.0   \n",
      "4    5.0                       3.0    2.0   3.0      2.0              3.0   \n",
      "\n",
      "   Musical  Pop  Rock  Metal or Hardrock  \\\n",
      "0      1.0  5.0   5.0                1.0   \n",
      "1      2.0  3.0   5.0                4.0   \n",
      "2      5.0  3.0   5.0                3.0   \n",
      "3      3.0  5.0   3.0                1.0   \n",
      "4      3.0  2.0   5.0                5.0   \n",
      "\n",
      "                               ...                               \\\n",
      "0                              ...                                \n",
      "1                              ...                                \n",
      "2                              ...                                \n",
      "3                              ...                                \n",
      "4                              ...                                \n",
      "\n",
      "   Only child_no_House - block of flats_block of flats  \\\n",
      "0                                                1.0     \n",
      "1                                                1.0     \n",
      "2                                                1.0     \n",
      "3                                                0.0     \n",
      "4                                                1.0     \n",
      "\n",
      "   Only child_no_House - block of flats_house/bungalow  \\\n",
      "0                                                0.0     \n",
      "1                                                0.0     \n",
      "2                                                0.0     \n",
      "3                                                1.0     \n",
      "4                                                0.0     \n",
      "\n",
      "   Only child_yes_Village - town_city  Only child_yes_Village - town_village  \\\n",
      "0                                 0.0                                    0.0   \n",
      "1                                 0.0                                    0.0   \n",
      "2                                 0.0                                    0.0   \n",
      "3                                 0.0                                    0.0   \n",
      "4                                 0.0                                    0.0   \n",
      "\n",
      "   Only child_yes_House - block of flats_block of flats  \\\n",
      "0                                                0.0      \n",
      "1                                                0.0      \n",
      "2                                                0.0      \n",
      "3                                                0.0      \n",
      "4                                                0.0      \n",
      "\n",
      "   Only child_yes_House - block of flats_house/bungalow  \\\n",
      "0                                                0.0      \n",
      "1                                                0.0      \n",
      "2                                                0.0      \n",
      "3                                                0.0      \n",
      "4                                                0.0      \n",
      "\n",
      "   Village - town_city_House - block of flats_block of flats  \\\n",
      "0                                                0.0           \n",
      "1                                                1.0           \n",
      "2                                                1.0           \n",
      "3                                                0.0           \n",
      "4                                                1.0           \n",
      "\n",
      "   Village - town_city_House - block of flats_house/bungalow  \\\n",
      "0                                                0.0           \n",
      "1                                                0.0           \n",
      "2                                                0.0           \n",
      "3                                                0.0           \n",
      "4                                                0.0           \n",
      "\n",
      "   Village - town_village_House - block of flats_block of flats  \\\n",
      "0                                                1.0              \n",
      "1                                                0.0              \n",
      "2                                                0.0              \n",
      "3                                                0.0              \n",
      "4                                                0.0              \n",
      "\n",
      "   Village - town_village_House - block of flats_house/bungalow  \n",
      "0                                                0.0             \n",
      "1                                                0.0             \n",
      "2                                                0.0             \n",
      "3                                                1.0             \n",
      "4                                                0.0             \n",
      "\n",
      "[5 rows x 14646 columns]\n"
     ]
    }
   ],
   "source": [
    "X = add_interactions(X)\n",
    "print(X.head(5))"
   ]
  },
  {
   "cell_type": "code",
   "execution_count": 106,
   "metadata": {},
   "outputs": [],
   "source": [
    "Y_train = y.values.reshape(-1, 1)\n",
    "X_train = X.loc[:, ~(df_train.columns).isin(['God'])]"
   ]
  },
  {
   "cell_type": "code",
   "execution_count": 107,
   "metadata": {},
   "outputs": [
    {
     "name": "stdout",
     "output_type": "stream",
     "text": [
      "\n",
      "R-squared simple model:\n",
      "0.49945697025701313\n"
     ]
    }
   ],
   "source": [
    "regr1 = linear_model.LinearRegression()\n",
    "regr1.fit(X_train, Y_train)\n",
    "print('\\nR-squared simple model:')\n",
    "print(regr1.score(X_train, Y_train))"
   ]
  },
  {
   "cell_type": "markdown",
   "metadata": {},
   "source": [
    "Converting 173 features to 14,646 features seems to have no real impact on our vanilla regression. Let's add an L1 regularization (Ridge)"
   ]
  },
  {
   "cell_type": "code",
   "execution_count": 108,
   "metadata": {},
   "outputs": [
    {
     "name": "stdout",
     "output_type": "stream",
     "text": [
      "0.596894539833106\n"
     ]
    }
   ],
   "source": [
    "ridgeregr = linear_model.Ridge(alpha=10, fit_intercept=False) \n",
    "ridgeregr.fit(X_train, Y_train)\n",
    "print(ridgeregr.score(X_train, Y_train))"
   ]
  },
  {
   "cell_type": "markdown",
   "metadata": {},
   "source": [
    "59.7% is the R2 result of our first pass with the Ridge regression. This is set for an alpha of 10. Let's try changing our alpha to see how that improves (or degrades) the results we've built. "
   ]
  },
  {
   "cell_type": "code",
   "execution_count": 109,
   "metadata": {},
   "outputs": [
    {
     "name": "stdout",
     "output_type": "stream",
     "text": [
      "\n",
      "R-squared complex model, range of alpha: 10, 5, 0.5, 0.05, 0.005\n",
      "alpha=10\n",
      "0.596894539833106\n",
      "\n",
      "\n",
      "alpha=5\n",
      "0.5984347317160439\n",
      "\n",
      "\n",
      "alpha=0.5\n",
      "0.6037880068884529\n",
      "\n",
      "\n",
      "alpha=0.05\n",
      "0.6057255913861206\n",
      "\n",
      "\n",
      "alpha=0.005\n",
      "0.6058469848211471\n"
     ]
    }
   ],
   "source": [
    "#RIDGE REGRESSIONS \n",
    "print('\\nR-squared complex model, range of alpha: 10, 5, 0.5, 0.05, 0.005')\n",
    "print('alpha=10')\n",
    "ridgeregr = linear_model.Ridge(alpha=10, fit_intercept=False) \n",
    "ridgeregr.fit(X_train, Y_train)\n",
    "print(ridgeregr.score(X_train, Y_train))\n",
    "\n",
    "print('\\n')\n",
    "print('alpha=5')\n",
    "ridgeregr = linear_model.Ridge(alpha=5, fit_intercept=False) \n",
    "ridgeregr.fit(X_train, Y_train)\n",
    "print(ridgeregr.score(X_train, Y_train))\n",
    "\n",
    "print('\\n')\n",
    "print('alpha=0.5')\n",
    "ridgeregr = linear_model.Ridge(alpha=.5, fit_intercept=False) \n",
    "ridgeregr.fit(X_train, Y_train)\n",
    "print(ridgeregr.score(X_train, Y_train))\n",
    "\n",
    "print('\\n')\n",
    "print('alpha=0.05')\n",
    "ridgeregr = linear_model.Ridge(alpha=.05, fit_intercept=False) \n",
    "ridgeregr.fit(X_train, Y_train)\n",
    "print(ridgeregr.score(X_train, Y_train))\n",
    "\n",
    "print('\\n')\n",
    "print('alpha=0.005')\n",
    "ridgeregr = linear_model.Ridge(alpha=.005, fit_intercept=False) \n",
    "ridgeregr.fit(X_train, Y_train)\n",
    "print(ridgeregr.score(X_train, Y_train))"
   ]
  },
  {
   "cell_type": "markdown",
   "metadata": {},
   "source": [
    "A expected, the alpha was a factor in increasing our R2, but only to a small extent, and with diminishing returns once we crissed from 0.5 to 0.05. The result for 0.005 was better, but only to a miniscule degree. Let's see how a LASSO regression deals with all of these features across a number of alphas. "
   ]
  },
  {
   "cell_type": "code",
   "execution_count": 110,
   "metadata": {},
   "outputs": [
    {
     "name": "stdout",
     "output_type": "stream",
     "text": [
      "\n",
      "R-squared complex model, range of alpha: .001 to 1\n",
      "alpha=0.001\n",
      "0.6008489309066706\n",
      "\n",
      "\n",
      "alpha=0.01\n",
      "0.5830523658140399\n",
      "\n",
      "\n",
      "alpha=0.05\n",
      "0.4999051972729942\n",
      "\n",
      "\n",
      "alpha=0.35\n",
      "0.3611544662528425\n",
      "\n",
      "\n",
      "alpha=0.75\n",
      "0.18318478785066472\n",
      "\n",
      "\n",
      "alpha=1.0\n",
      "0.01673214548365054\n"
     ]
    }
   ],
   "source": [
    "#LASSO REGRESSIONS\n",
    "print('\\nR-squared complex model, range of alpha: .001 to 1')\n",
    "print('alpha=0.001')\n",
    "lass = linear_model.Lasso(alpha=.001)\n",
    "lassfit = lass.fit(X_train, Y_train)\n",
    "print(lass.score(X_train, Y_train))\n",
    "\n",
    "print('\\n')\n",
    "print('alpha=0.01')\n",
    "lass = linear_model.Lasso(alpha=.01)\n",
    "lassfit = lass.fit(X_train, Y_train)\n",
    "print(lass.score(X_train, Y_train))\n",
    "\n",
    "print('\\n')\n",
    "print('alpha=0.05')\n",
    "lass = linear_model.Lasso(alpha=.05)\n",
    "lassfit = lass.fit(X_train, Y_train)\n",
    "print(lass.score(X_train, Y_train))\n",
    "\n",
    "print('\\n')\n",
    "print('alpha=0.35')\n",
    "lass = linear_model.Lasso(alpha=.35)\n",
    "lassfit = lass.fit(X_train, Y_train)\n",
    "print(lass.score(X_train, Y_train))\n",
    "\n",
    "print('\\n')\n",
    "print('alpha=0.75')\n",
    "lass = linear_model.Lasso(alpha=.75)\n",
    "lassfit = lass.fit(X_train, Y_train)\n",
    "print(lass.score(X_train, Y_train))\n",
    "\n",
    "print('\\n')\n",
    "print('alpha=1.0')\n",
    "lass = linear_model.Lasso(alpha=1)\n",
    "lassfit = lass.fit(X_train, Y_train)\n",
    "print(lass.score(X_train, Y_train))"
   ]
  },
  {
   "cell_type": "markdown",
   "metadata": {},
   "source": [
    "With the penalty increased with the LASSO we see the model become predictably less efficient. However, I was surprised to see that the R2 decrease noticeably from 0.001 to .01. I'd expected it to improve slightly before the steep descent of lambda increases began. \n",
    "\n",
    "Out of sheer curiosity, let's see the result of our Ridge and LASSO regressions without the two-way interactions, dealing instead with the raw 174 feature dataset. I'll reduce the number of alpha levels tested to just a couple since we know how the higher levels affect our R2. "
   ]
  },
  {
   "cell_type": "code",
   "execution_count": 111,
   "metadata": {},
   "outputs": [],
   "source": [
    "trainsize = int(df.shape[0] / 2)\n",
    "df_test = df.iloc[trainsize:, :].copy()\n",
    "df_train = df.iloc[:trainsize, :].copy()\n",
    "\n",
    "Y_train = df_train['God'].values.reshape(-1, 1)\n",
    "X_train = df_train.loc[:, ~(df_train.columns).isin(['God'])]"
   ]
  },
  {
   "cell_type": "code",
   "execution_count": 112,
   "metadata": {},
   "outputs": [
    {
     "name": "stdout",
     "output_type": "stream",
     "text": [
      "\n",
      "R-squared simple model, range of alpha: 0.05, 0.005\n",
      "alpha=0.05\n",
      "0.7350408502223027\n",
      "\n",
      "\n",
      "alpha=0.005\n",
      "0.7353398995397398\n"
     ]
    }
   ],
   "source": [
    "print('\\nR-squared simple model, range of alpha: 0.05, 0.005')\n",
    "print('alpha=0.05')\n",
    "ridgeregr = linear_model.Ridge(alpha=.05, fit_intercept=False) \n",
    "ridgeregr.fit(X_train, Y_train)\n",
    "print(ridgeregr.score(X_train, Y_train))\n",
    "\n",
    "print('\\n')\n",
    "print('alpha=0.005')\n",
    "ridgeregr = linear_model.Ridge(alpha=.005, fit_intercept=False) \n",
    "ridgeregr.fit(X_train, Y_train)\n",
    "print(ridgeregr.score(X_train, Y_train))\n"
   ]
  },
  {
   "cell_type": "code",
   "execution_count": 113,
   "metadata": {},
   "outputs": [
    {
     "name": "stdout",
     "output_type": "stream",
     "text": [
      "\n",
      "R-squared complex model, range of alpha: .001 to .01\n",
      "alpha=0.001\n",
      "0.7317102464762757\n",
      "\n",
      "\n",
      "alpha=0.01\n",
      "0.7052960786167402\n"
     ]
    }
   ],
   "source": [
    "#LASSO REGRESSIONS\n",
    "print('\\nR-squared complex model, range of alpha: .001 to .01')\n",
    "print('alpha=0.001')\n",
    "lass = linear_model.Lasso(alpha=.001)\n",
    "lassfit = lass.fit(X_train, Y_train)\n",
    "print(lass.score(X_train, Y_train))\n",
    "\n",
    "print('\\n')\n",
    "print('alpha=0.01')\n",
    "lass = linear_model.Lasso(alpha=.01)\n",
    "lassfit = lass.fit(X_train, Y_train)\n",
    "print(lass.score(X_train, Y_train))"
   ]
  },
  {
   "cell_type": "markdown",
   "metadata": {},
   "source": [
    "Look at that improvement! We had barely crossed over 60% R2 with our complex model of over 1,400 features. The original data showed a significant improvement, proving once again that feature interactions are not always useful, even in datasets with a large number of features (a large number at least at this point in the training). \n",
    "\n",
    "Our Ridge Regression is the best fit for creating predictions for how young people will respond to the question of their belief in God for this dataset, better than the LASSO and much better than the vanilla regression. And the as before, the lambda at those low levels present very small changes. "
   ]
  }
 ],
 "metadata": {
  "kernelspec": {
   "display_name": "Python 3",
   "language": "python",
   "name": "python3"
  },
  "language_info": {
   "codemirror_mode": {
    "name": "ipython",
    "version": 3
   },
   "file_extension": ".py",
   "mimetype": "text/x-python",
   "name": "python",
   "nbconvert_exporter": "python",
   "pygments_lexer": "ipython3",
   "version": "3.6.4"
  }
 },
 "nbformat": 4,
 "nbformat_minor": 2
}
